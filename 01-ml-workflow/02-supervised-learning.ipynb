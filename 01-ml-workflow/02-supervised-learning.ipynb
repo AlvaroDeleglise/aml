{
 "cells": [
  {
   "cell_type": "markdown",
   "metadata": {},
   "source": [
    "# Supervised learning\n",
    "Now that we loaded and explored the data, let's start with building our first models.\n",
    "In this chapter, we'll only look at a very simple model, the k-Nearest Neighbors classifier.\n",
    "It's easy to understand and has all the ingredients you need to know for a machine learning workflow.\n",
    "In chapter TODO, we'll discuss many other models.\n",
    "\n",
    "```{margin}\n",
    "The interface of all the models is the same in scikit-learn,\n",
    "so you can easily switch out the code for another model now if you like.\n",
    "```"
   ]
  },
  {
   "cell_type": "markdown",
   "metadata": {},
   "source": [
    "## Classification with scikit-learn\n",
    "We will start with the simple and well-behaved breast cancer dataset:"
   ]
  },
  {
   "cell_type": "code",
   "execution_count": 1,
   "metadata": {},
   "outputs": [
    {
     "data": {
      "text/plain": [
       "(569, 31)"
      ]
     },
     "execution_count": 1,
     "metadata": {},
     "output_type": "execute_result"
    }
   ],
   "source": [
    "from sklearn.datasets import load_breast_cancer\n",
    "# specifying \"as_frame=True\" returns the data as a dataframe in addition to a numpy array\n",
    "cancer = load_breast_cancer(as_frame=True)\n",
    "cancer_df = cancer.frame\n",
    "cancer_df.shape"
   ]
  },
  {
   "cell_type": "code",
   "execution_count": 2,
   "metadata": {},
   "outputs": [
    {
     "data": {
      "text/plain": [
       "Index(['mean radius', 'mean texture', 'mean perimeter', 'mean area',\n",
       "       'mean smoothness', 'mean compactness', 'mean concavity',\n",
       "       'mean concave points', 'mean symmetry', 'mean fractal dimension',\n",
       "       'radius error', 'texture error', 'perimeter error', 'area error',\n",
       "       'smoothness error', 'compactness error', 'concavity error',\n",
       "       'concave points error', 'symmetry error', 'fractal dimension error',\n",
       "       'worst radius', 'worst texture', 'worst perimeter', 'worst area',\n",
       "       'worst smoothness', 'worst compactness', 'worst concavity',\n",
       "       'worst concave points', 'worst symmetry', 'worst fractal dimension',\n",
       "       'target'],\n",
       "      dtype='object')"
      ]
     },
     "execution_count": 2,
     "metadata": {},
     "output_type": "execute_result"
    }
   ],
   "source": [
    "cancer_df.columns"
   ]
  },
  {
   "cell_type": "markdown",
   "metadata": {},
   "source": [
    "### Training and Test set"
   ]
  },
  {
   "cell_type": "markdown",
   "metadata": {},
   "source": [
    "First, we split our data into a training and a test set. TODO is this the first mention?\n",
    "This is a critical component of any supervised learning workflow. As you know, our goal is to build a model that generalizes well, i.e. that predicts well on data that is has not seen before.\n",
    "We could use all our data to built a model, but then we would have no way to know whether our model really works, i.e. how accurately it predicts on new data.\n",
    "The easiest way to measure the generalization capability of our model is to apply it to some hold-out data, that was not used to build the model, but for which we have the correct answer.\n",
    "Then we can make predictions on our hold-out set and compare them against the known answers, to measure how well the model performs.\n",
    "So we need disjoint datasets: one to build the model, usually called the training set, and another, to validate model accuracy, usually called the test set.\n",
    "\n",
    "![:scale 60%](images/train_test_set_2d_classification.png)\n",
    "\n",
    "\n",
    "A very common way to generate the test set is to split the data randomly, and there's function in scikit-learn to help you with that, called ``train_test_split``:"
   ]
  },
  {
   "cell_type": "code",
   "execution_count": 3,
   "metadata": {},
   "outputs": [],
   "source": [
    "from sklearn.model_selection import train_test_split\n",
    "data_train, data_test = train_test_split(cancer_df)"
   ]
  },
  {
   "cell_type": "markdown",
   "metadata": {},
   "source": [
    "This function splits off 25% of the rows randomly to use as test set:"
   ]
  },
  {
   "cell_type": "code",
   "execution_count": 4,
   "metadata": {},
   "outputs": [
    {
     "data": {
      "text/plain": [
       "(426, 31)"
      ]
     },
     "execution_count": 4,
     "metadata": {},
     "output_type": "execute_result"
    }
   ],
   "source": [
    "data_train.shape"
   ]
  },
  {
   "cell_type": "code",
   "execution_count": 5,
   "metadata": {},
   "outputs": [
    {
     "data": {
      "text/plain": [
       "(143, 31)"
      ]
     },
     "execution_count": 5,
     "metadata": {},
     "output_type": "execute_result"
    }
   ],
   "source": [
    "data_test.shape"
   ]
  },
  {
   "cell_type": "markdown",
   "metadata": {},
   "source": [
    "We can controll the size of the test set by changing the ``test_size`` parameter to either a number of samples or a percentage of the training data. But 75% of the data is usually a good rule of thumb. As the process is random, you will get a different split of the data every time you run this line of code. For the purposes of this book, we'll make the split deterministic by providing a fixed random seed, which can be an arbitrary integer:"
   ]
  },
  {
   "cell_type": "code",
   "execution_count": 6,
   "metadata": {},
   "outputs": [],
   "source": [
    "data_train, data_test = train_test_split(cancer_df, random_state=42)"
   ]
  },
  {
   "cell_type": "markdown",
   "metadata": {},
   "source": [
    "This way, the results of our analysis later will be the same every time as when you run the code, and the won't change if you run the code again.\n",
    "\n",
    "```{margin} Setting random seeds\n",
    "In a real analysis, there are pros and cons to setting this seed. Generally, your results should be independent of how you split your data. If the quality of your model depends strongly of how you split your data, then your model is probably not very robust and you might not want to use it. If you keep the seed fixed the whole time, you might not know whether you got lucky (or unlucky) with your particular split, so it might be good to either not set the seed, or run with multiple different seeds. On the other hand, if you didn't set the seed, and you get a surprising result, then it might be very hard for someone else (or even for yourself) to reproduce your results as you have no record of how the data was split.\n",
    "```"
   ]
  },
  {
   "cell_type": "markdown",
   "metadata": {},
   "source": [
    "There are actually quite some assumptions made when splitting the data randomly, and we will discuss them in more detail in chapter TODO."
   ]
  },
  {
   "cell_type": "markdown",
   "metadata": {},
   "source": [
    "Now, we separate the features from the target, which is required for using scikit-learn.\n",
    "The easiest way to do that is to use the ``drop`` method of the DataFrame:"
   ]
  },
  {
   "cell_type": "code",
   "execution_count": 7,
   "metadata": {},
   "outputs": [],
   "source": [
    "X_train = data_train.drop(columns='target')\n",
    "y_train = data_train.target\n",
    "X_test = data_test.drop(columns='target')\n",
    "y_test = data_test.target"
   ]
  },
  {
   "cell_type": "markdown",
   "metadata": {},
   "source": [
    "Here, we're calling the features 'X' and the targets 'y', a common convention in scikit-learn and machine learning more broadly.\n",
    "```{margin}\n",
    "The 'X' is capital because it refers to a matrix, a two-dimensional array, while 'y' is typically a column vector or one-dimensional array. Using capital letters for matrices and lower case letters for vectors is a common practice in linear algebra.\n",
    "```"
   ]
  },
  {
   "cell_type": "markdown",
   "metadata": {},
   "source": [
    "````{Note}\n",
    "Alternatively, we could have first split off the target column and then separated the data into training and test set, like so:\n",
    "    ```{python}\n",
    "    X = data.drop(columns='target')\n",
    "    y = data.target\n",
    "    X_train, X_test, y_train, y_test = train_test_split(X, y, random_state=0)\n",
    "    ```\n",
    "This is one line shorter and the more common idiom, but maybe a bit harder to read and remember.\n",
    "````  \n",
    "\n",
    "Now we're all set and can get started building our first models with scikit-learn!"
   ]
  },
  {
   "cell_type": "markdown",
   "metadata": {},
   "source": [
    "## Nearest Neighbors Classification\n"
   ]
  },
  {
   "cell_type": "markdown",
   "metadata": {},
   "source": [
    "The first algorithm we'll use is Nearest Neighbors classification. It's not commonly used in practice as it doesn't scale that well to datasets with many samples, but it's often quite accurate and very easy to understand.\n",
    "For illustration purposes (as it is easier to draw in two dimensions), let us first consider just two features of the breast cancer dataset that we found informative before, 'mean compactness' and 'worst concave points':"
   ]
  },
  {
   "cell_type": "code",
   "execution_count": 8,
   "metadata": {},
   "outputs": [
    {
     "data": {
      "image/png": "[encoded data removed]",
      "text/plain": [
       "<Figure size 432x288 with 2 Axes>"
      ]
     },
     "metadata": {
      "needs_background": "light"
     },
     "output_type": "display_data"
    }
   ],
   "source": [
    "import matplotlib.pyplot as plt\n",
    "# the return value is the axes that was created for the plot\n",
    "ax = X_train.plot.scatter(x='mean compactness', y='worst concave points',\n",
    "                     # use the target to color points\n",
    "                     # use the blue-white-red colormap\n",
    "                     c=y_train, colormap='bwr', s=2)\n",
    "# TODO why is there no xlabel\n",
    "# We set the aspect ratio to equal to faithfully represent distances between points.\n",
    "ax.set_aspect(\"equal\")"
   ]
  },
  {
   "cell_type": "markdown",
   "metadata": {},
   "source": [
    "Now let's look at some of the samples from the test set, drawn as black stars:"
   ]
  },
  {
   "cell_type": "code",
   "execution_count": 78,
   "metadata": {
    "tags": [
     "remove-input"
    ]
   },
   "outputs": [
    {
     "data": {
      "image/png": "[encoded data removed]",
      "text/plain": [
       "<Figure size 432x288 with 2 Axes>"
      ]
     },
     "metadata": {
      "needs_background": "light"
     },
     "output_type": "display_data"
    }
   ],
   "source": [
    "ax = X_train.plot.scatter(x='mean compactness', y='worst concave points',\n",
    "                         c=y_train, colormap='bwr', s=2)\n",
    "# Take just a couple of test points:\n",
    "X_try = X_test.iloc[[1, 3, 11], :]   \n",
    "# plot into the same axes\n",
    "X_try.plot.scatter(x='mean compactness', y='worst concave points', c='k', marker=\"*\", s=60, ax=ax);\n",
    "ax.set_aspect(\"equal\")"
   ]
  },
  {
   "cell_type": "markdown",
   "metadata": {},
   "source": [
    "Looking at this two dimensional scatter plot, we can probably make a reasonable guess that the most likely label for the top one is blue, as all the surrounding points are blue, while the most likely label for the bottom point is red, because all the surrounding points are read. It's maybe a little bit less clear what label to assign to the point in the center.\n",
    "\n",
    "Nearest Neighbors, as the name suggest, formalizes this intuition and simply applies the label of the closest point in the training dataset, as illustrated in Figure TODO.\n",
    "\n",
    "\n"
   ]
  },
  {
   "cell_type": "code",
   "execution_count": 79,
   "metadata": {
    "tags": [
     "remove-input"
    ]
   },
   "outputs": [
    {
     "data": {
      "text/plain": [
       "(0.06, 0.2)"
      ]
     },
     "execution_count": 79,
     "metadata": {},
     "output_type": "execute_result"
    },
    {
     "data": {
      "image/png": "[encoded data removed]",
      "text/plain": [
       "<Figure size 432x288 with 1 Axes>"
      ]
     },
     "metadata": {
      "needs_background": "light"
     },
     "output_type": "display_data"
    }
   ],
   "source": [
    "from sklearn.metrics import euclidean_distances\n",
    "from sklearn.neighbors import KNeighborsClassifier\n",
    "import numpy as np\n",
    "\n",
    "def plot_n_neighbors(X_train, y_train, X_test, n_neighbors=1):\n",
    "    X_train = np.array(X_train)\n",
    "    X_test = np.array(X_test)\n",
    "    dist = euclidean_distances(X_train, X_test)\n",
    "    closest = np.argsort(dist, axis=0)\n",
    "\n",
    "    #plt.figure(figsize=(10, 10))\n",
    "    plt.gca().set_aspect(\"equal\")\n",
    "    training_points = plt.scatter(X_train[:, 0], X_train[:, 1], c=y_train, cmap='bwr', s=2)    \n",
    "\n",
    "    for x, neighbors in zip(X_test, closest.T):\n",
    "        for neighbor in neighbors[:n_neighbors]:\n",
    "            plt.arrow(x[0], x[1], X_train[neighbor, 0] - x[0],\n",
    "                    X_train[neighbor, 1] - x[1], head_width=0, fc='k', ec='k', width=0.0001)\n",
    "\n",
    "    clf = KNeighborsClassifier(n_neighbors=n_neighbors).fit(X_train, y_train)\n",
    "    test_points = plt.scatter(X_test[:, 0], X_test[:, 1], c=clf.predict(X_test), marker=\"*\", cmap='bwr', s=60)\n",
    "    return plt.gca()\n",
    "    \n",
    "ax = plot_n_neighbors(X_train[['mean compactness', 'worst concave points']],\n",
    "                      y_train, X_try[['mean compactness', 'worst concave points']])\n",
    "ax.set_xlim(0.05, 0.17)\n",
    "ax.set_ylim(0.06, 0.2)"
   ]
  },
  {
   "cell_type": "markdown",
   "metadata": {},
   "source": [
    "\n",
    "```{admonition} Mathematical Background\n",
    "Formally, you could define the prediction of nearest neighbors based on a dataset $(x_i, y_i), i=1,..,n$ as:\n",
    "$$f(x) = y_i, i = \\text{argmin}_j || x_j - x||$$\n",
    "```"
   ]
  },
  {
   "cell_type": "markdown",
   "metadata": {},
   "source": [
    "In a simple extension of Nearest neighbors, we could look at a number of neighbors, say 3 or 5, and determine the majority class among them.\n",
    "This is known as k-Nearest Neighbors, where the k stands for the number of neighbors to consider. What number to use is up to the user to decide.\n",
    "Here is an example using just the two features from a above of using the five nearest neighbors on the same three points:"
   ]
  },
  {
   "cell_type": "code",
   "execution_count": 80,
   "metadata": {
    "tags": [
     "remove-input"
    ]
   },
   "outputs": [
    {
     "data": {
      "text/plain": [
       "(0.06, 0.2)"
      ]
     },
     "execution_count": 80,
     "metadata": {},
     "output_type": "execute_result"
    },
    {
     "data": {
      "image/png": "[encoded data removed]",
      "text/plain": [
       "<Figure size 432x288 with 1 Axes>"
      ]
     },
     "metadata": {
      "needs_background": "light"
     },
     "output_type": "display_data"
    }
   ],
   "source": [
    "ax = plot_n_neighbors(X_train[['mean compactness', 'worst concave points']],\n",
    "                      y_train, X_try[['mean compactness', 'worst concave points']],\n",
    "                      n_neighbors=3)\n",
    "ax.set_xlim(0.05, 0.17)\n",
    "ax.set_ylim(0.06, 0.2)"
   ]
  },
  {
   "cell_type": "markdown",
   "metadata": {},
   "source": [
    "We can see that for one of the datapoints, the predicted label switches from red to blue, as the closest neighbor in the training set is red, but out of the three closest neighbors, two are blue."
   ]
  },
  {
   "cell_type": "markdown",
   "metadata": {},
   "source": [
    "Now let's build a model using scikit-learn and evaluate it on the test set.\n",
    "All machine learning models in scikit-learn are implemented as Python classes, all with the same interface.\n",
    "The Python class encapsulates both the training and the prediction procedure and stores the model estimated from the data.\n"
   ]
  },
  {
   "cell_type": "code",
   "execution_count": 81,
   "metadata": {},
   "outputs": [],
   "source": [
    "# We start by importing the KNeighborsClassifier\n",
    "from sklearn.neighbors import KNeighborsClassifier\n",
    "# Then we instantiate the class.\n",
    "# This is when we specify user-specified parameters like the number of neighbors\n",
    "# Here, we set the number of neighbors to one\n",
    "knn = KNeighborsClassifier(n_neighbors=1)"
   ]
  },
  {
   "cell_type": "markdown",
   "metadata": {},
   "source": [
    "All models in scikit-learn have a ``fit`` method that takes as arguments the training data ``X_train`` (which does not contain the target) and for supervised problems also the training target ``y_train``, which is usually a single column:"
   ]
  },
  {
   "cell_type": "code",
   "execution_count": 83,
   "metadata": {},
   "outputs": [
    {
     "data": {
      "text/plain": [
       "((426, 30), (426,))"
      ]
     },
     "execution_count": 83,
     "metadata": {},
     "output_type": "execute_result"
    }
   ],
   "source": [
    "X_train.shape, y_train.shape"
   ]
  },
  {
   "cell_type": "markdown",
   "metadata": {},
   "source": [
    "We could just use a subset of the features we looked at before, but now let's use all of them, i.e. all 30 columns.\n",
    "The `fit` method does the actual learning and stores the result in the object itself (that we called knn here). The return value of the ``fit`` method is `self`, meaning it returns the knn object.\n",
    "In the case of k Nearest Neighbors, the `fit` method simply stores the training data.\n",
    "\n",
    "```{margin}\n",
    "TODO pandas disclaimer again\n",
    "```"
   ]
  },
  {
   "cell_type": "code",
   "execution_count": 85,
   "metadata": {},
   "outputs": [
    {
     "data": {
      "text/plain": [
       "KNeighborsClassifier(n_neighbors=1)"
      ]
     },
     "execution_count": 85,
     "metadata": {},
     "output_type": "execute_result"
    }
   ],
   "source": [
    "# because fit returns self, Jupyter renders a representation of the object\n",
    "knn.fit(X_train, y_train)"
   ]
  },
  {
   "cell_type": "markdown",
   "metadata": {},
   "source": [
    "All done building your first model! That was easy, right?\n",
    "But no, the question is whether our model actually learned anything. We can measure that by looking at the predictions on the test set.\n",
    "All classification and regression models in scikit-learn have a ``predict`` method that takes the test data ``X_test`` and returns a prediction for each row:"
   ]
  },
  {
   "cell_type": "code",
   "execution_count": 86,
   "metadata": {},
   "outputs": [
    {
     "data": {
      "text/plain": [
       "(143, 30)"
      ]
     },
     "execution_count": 86,
     "metadata": {},
     "output_type": "execute_result"
    }
   ],
   "source": [
    "X_test.shape"
   ]
  },
  {
   "cell_type": "code",
   "execution_count": 88,
   "metadata": {},
   "outputs": [
    {
     "data": {
      "text/plain": [
       "(143,)"
      ]
     },
     "execution_count": 88,
     "metadata": {},
     "output_type": "execute_result"
    }
   ],
   "source": [
    "y_pred = knn.predict(X_test)\n",
    "y_pred.shape"
   ]
  },
  {
   "cell_type": "markdown",
   "metadata": {},
   "source": [
    "Now we can compare these predictions according to our model to the true outcomes that we have stored in ``y_test``.\n",
    "For a classification problem, a common metric (more on this in chapter TODO) is accuracy, which is the fraction of correctly predicted samples.\n",
    "While there's an ``accuracy_score`` function in scikit-learn, we can also easily compute it using pandas or numpy using equality:"
   ]
  },
  {
   "cell_type": "code",
   "execution_count": 89,
   "metadata": {},
   "outputs": [
    {
     "data": {
      "text/plain": [
       "0.9300699300699301"
      ]
     },
     "execution_count": 89,
     "metadata": {},
     "output_type": "execute_result"
    }
   ],
   "source": [
    "(y_pred == y_test).mean()"
   ]
  },
  {
   "cell_type": "markdown",
   "metadata": {},
   "source": [
    "What this tells us is that the predictions made by your model are 93% accurate, i.e. for 93% of the samples, our simple one Nearest Neighbor, using all 30 features.\n",
    "Because computing evaluations is so common, there's a shortcut in scikit-learn that makes the prediction and computes the accuracy for you, the ``score`` method:"
   ]
  },
  {
   "cell_type": "code",
   "execution_count": 90,
   "metadata": {},
   "outputs": [
    {
     "name": "stdout",
     "output_type": "stream",
     "text": [
      "accuracy:  0.9300699300699301\n"
     ]
    }
   ],
   "source": [
    "print(\"accuracy: \", knn.score(X_test, y_test))"
   ]
  },
  {
   "cell_type": "markdown",
   "metadata": {},
   "source": [
    "One thing to keep in mind is that accuracy can be very hard to interpret if one of the two classes is much more frequent than the other one.\n",
    "This dataset is somewhat unbalanced, as you might recall:"
   ]
  },
  {
   "cell_type": "code",
   "execution_count": 97,
   "metadata": {},
   "outputs": [
    {
     "data": {
      "text/plain": [
       "1    0.622378\n",
       "0    0.377622\n",
       "Name: target, dtype: float64"
      ]
     },
     "execution_count": 97,
     "metadata": {},
     "output_type": "execute_result"
    }
   ],
   "source": [
    "y_test.value_counts(normalize=True)"
   ]
  },
  {
   "cell_type": "markdown",
   "metadata": {},
   "source": [
    "That means that if a model predicted 1 (i.e. benign) for all samples, it would be 62.2% accurate. Clearly our model is doing much better than that."
   ]
  },
  {
   "cell_type": "markdown",
   "metadata": {},
   "source": [
    "Now, let's to the same again, this time with using five nearest neighbors:"
   ]
  },
  {
   "cell_type": "code",
   "execution_count": 98,
   "metadata": {},
   "outputs": [
    {
     "name": "stdout",
     "output_type": "stream",
     "text": [
      "accuracy:  0.965034965034965\n"
     ]
    }
   ],
   "source": [
    "knn = KNeighborsClassifier(n_neighbors=5)\n",
    "knn.fit(X_train, y_train)\n",
    "print(\"accuracy: \", knn.score(X_test, y_test))"
   ]
  },
  {
   "cell_type": "markdown",
   "metadata": {},
   "source": [
    "This time, we got 96% accuracy, a decent improvement. An obvious question now is how to select the number of neighbors. The number of neighbors is what's called a *hyper-parameter* in machine learning, an option or tuning parameter that is not inferred from the data, but needs to be provided by the user.\n",
    "\n",
    "```{margin}\n",
    "Tuning options are known as hyper-parameters, as opposed to parameters, as in statistics, the part of the model that's estimated from the data is usually known as parameters.\n",
    "The *hyper* parameters are those that have to be specified beyond these parameters. Outside of statistics, the usage of the words parameter vs hyper-parameter can sometimes\n",
    "be a bit ambiguous, and many people might call n_neighbors a *parameter* of KNeighborsClassifier (which is false in the statistical sense of the word parameter, but certainly true in the programming sense of the word).\n",
    "Luckily it's usually clear from context which one is meant.\n",
    "```"
   ]
  },
  {
   "cell_type": "markdown",
   "metadata": {},
   "source": [
    "## KNN with scikit-learn"
   ]
  },
  {
   "cell_type": "code",
   "execution_count": 2,
   "metadata": {},
   "outputs": [
    {
     "name": "stdout",
     "output_type": "stream",
     "text": [
      "accuracy:  0.6153846153846154\n"
     ]
    }
   ],
   "source": [
    "from sklearn.model_selection import train_test_split\n",
    "X_train, X_test, y_train, y_test = train_test_split(X, y)\n",
    "\n",
    "from sklearn.neighbors import KNeighborsClassifier\n",
    "knn = KNeighborsClassifier(n_neighbors=1)\n",
    "knn.fit(X_train, y_train)\n",
    "print(\"accuracy: \", knn.score(X_test, y_test))\n",
    "y_pred = knn.predict(X_test)"
   ]
  },
  {
   "cell_type": "markdown",
   "metadata": {},
   "source": [
    "\n",
    "We import train_test_split form model selection, which does a\n",
    "random split into 75%/25%.\n",
    "We provide it with the data X, which are our two features, and the\n",
    "labels y.\n",
    "\n",
    "As you might already know, all the models in scikit-learn are implemented\n",
    "in python classes, with a single object used to build and store the model.\n",
    "\n",
    "We start by importing our model, the KneighborsClassifier, and instantiate\n",
    "it with n_neighbors=1. Instantiating the object is when we set any hyper parameter,\n",
    "such as here saying that we only want to look at the neirest neighbor.\n",
    "\n",
    "Then we can call the fit method to build the model, here knn.fit(X_train,\n",
    "y_train)\n",
    "All models in scikit-learn have a fit-method, and all the supervised ones take\n",
    "the data X and the outcomes y. The fit method builds the model and stores any\n",
    "estimated quantities in the model object, here knn.  In the case of nearest\n",
    "neighbors, the `fit` methods simply remembers the whole training set.\n",
    "\n",
    "Then, we can use knn.score to make predictions on the test data, and\n",
    "compare them against the true labels y_test.\n",
    "\n",
    "For classification models, the score method will always compute\n",
    "accuracy.\n",
    "\n",
    "Just for illustration purposes, I also call the predict method here.\n",
    "The predict method is what's used to make predictions on any dataset.\n",
    "If we use the score method, it calls predict internally and then\n",
    "compares the outcome to the ground truth that's provided.\n",
    "\n",
    "Who here has not seen this before?"
   ]
  },
  {
   "cell_type": "markdown",
   "metadata": {},
   "source": [
    "## Influence of Number of Neighbors\n",
    "\n",
    "\n",
    "So this was the predictions as made by one-nearest neighbor.\n",
    "But we can also consider more neighbors, for example three. Here is the\n",
    "three nearest neighbors for each of the points and the corresponding\n",
    "labels.\n",
    "We can then make a prediction by considering the majority among these\n",
    "three neighbors.\n",
    "And as you can see, in this case all the points changed their labels! (I\n",
    "was actually quite surprised when I saw that, I just picked some points\n",
    "at random).\n",
    "Clearly the number of neighbors that we consider matters a lot. But what\n",
    "is the right number?\n",
    "The is a problem you’ll encounter a lot in machine learning, the\n",
    "problem of tuning parameters of the model, also called hyper-parameters,\n",
    "which can not be learned directly from the data."
   ]
  },
  {
   "cell_type": "markdown",
   "metadata": {},
   "source": [
    "\n",
    "So this was the predictions as made by one-nearest neighbor.\n",
    "But we can also consider more neighbors, for example three. Here is the\n",
    "three nearest neighbors for each of the points and the corresponding\n",
    "labels.\n",
    "We can then make a prediction by considering the majority among these\n",
    "three neighbors.\n",
    "And as you can see, in this case all the points changed their labels! (I\n",
    "was actually quite surprised when I saw that, I just picked some points\n",
    "at random).\n",
    "Clearly the number of neighbors that we consider matters a lot. But what\n",
    "is the right number?\n",
    "The is a problem you’ll encounter a lot in machine learning, the\n",
    "problem of tuning parameters of the model, also called hyper-parameters,\n",
    "which can not be learned directly from the data."
   ]
  },
  {
   "cell_type": "code",
   "execution_count": 3,
   "metadata": {
    "tags": [
     "remove-input"
    ]
   },
   "outputs": [
    {
     "data": {
      "image/png": "[encoded data removed]",
      "text/plain": [
       "<Figure size 576x576 with 4 Axes>"
      ]
     },
     "metadata": {},
     "output_type": "display_data"
    }
   ],
   "source": [
    "import sys\n",
    "sys.path.append(\"..\")\n",
    "from utils import plot_2d_classification\n",
    "import numpy as np\n",
    "\n",
    "fig, axes = plt.subplots(2, 2, figsize=(8, 8))\n",
    "for ax, n_neighbors in zip(axes.ravel(), [1, 5, 10, 30]):\n",
    "    ax.set_title(f\"n_neighbors={n_neighbors}\")\n",
    "    clf = KNeighborsClassifier(n_neighbors=n_neighbors).fit(X, y)\n",
    "    ax.scatter(X[:, 0], X[:, 1], c=y, edgecolor='k')\n",
    "    plot_2d_classification(clf, X, ax=ax, alpha=.5)\n",
    "    ax.set_aspect(\"equal\")"
   ]
  },
  {
   "cell_type": "markdown",
   "metadata": {},
   "source": [
    "\n",
    "Here’s an overview of how the classification changes if we consider\n",
    "different numbers of neighbors.\n",
    "You can see as red and blue circles the training data. And the background\n",
    "is colored according to which class a datapoint would be assigned to\n",
    "for each location.\n",
    "For one neighbor, you can see that each point in the training set has\n",
    "a little area around it that would be classified according to it’s\n",
    "label. This means all the training points would be classified correctly,\n",
    "but it leads to a very complex shape of the decision boundary.\n",
    "If we increase the number of neighbors, the boundary between red and\n",
    "blue simplifies, and with 40 neighbors we mostly end up with a line.\n",
    "This also means that now many of the training data points would be\n",
    "labeled incorrectly.\n",
    "\n",
    "## Model complexity\n",
    "\n",
    "![:scale 75%](images/knn_model_complexity.png)\n",
    "\n",
    "\n",
    "We can look at this in more detail by comparing training and test set\n",
    "scores for the different numbers of neighbors.\n",
    "Here, I did a random 75%/25% split again. This is a very noisy plot as\n",
    "the dataset is very small and I only did a random split, but you can\n",
    "see a trend here.\n",
    "You can see that for a single neighbor, the training score is 1 so perfect\n",
    "accuracy, but the test score is only 70%.  If we increase the number of\n",
    "neighbors we consider, the training score goes down, but the test score\n",
    "goes up, with an optimum at 19 and 21, but then both go down again.\n",
    "\n",
    "This is a very typical behavior, that I sketched in a schematic for you.\n",
    "\n",
    "\n",
    "here is a cartoon version of how this chart looks in general, though\n",
    "it's horizontally flipped to the one with saw for knn.\n",
    "This chart has accuracy on the y axis, and the abstract concept of model\n",
    "complexity on the x axis.\n",
    "If we make our machine learning models more complex, we will get better\n",
    "training set accuracy, as the model will be able to capture more of the\n",
    "variations in the data.\n",
    "\n",
    "\n",
    "But if we look at the generalization performance, we get a different\n",
    "story. If the model complexity is too low, the model will not be able\n",
    "to capture the main trends, and a more complex model means better\n",
    "generalization.\n",
    "However, if we make the model too complex, generalization performance\n",
    "drops again, because we basically learn to memorize the dataset.\n",
    "\n",
    "\n",
    "\n",
    "## Overfitting and Underfitting\n",
    "\n",
    "![:scale 80%](images/overfitting_underfitting_cartoon_full.png)\n",
    "\n",
    "\n",
    "If we use too simple a model, this is often called underfitting, while\n",
    "if we use to complex a model, this is called overfitting. And somewhere\n",
    "in the middle is a sweet spot.\n",
    "Most models have some way to tune model complexity, and we’ll see many\n",
    "of them in the next couple of weeks.\n",
    "So going back to nearest neighbors, what parameters correspond to high\n",
    "model complexity and what to low model complexity? high n_neighbors =\n",
    "low complexity!"
   ]
  }
 ],
 "metadata": {
  "anaconda-cloud": {},
  "kernelspec": {
   "display_name": "Python 3",
   "language": "python",
   "name": "python3"
  },
  "language_info": {
   "codemirror_mode": {
    "name": "ipython",
    "version": 3
   },
   "file_extension": ".py",
   "mimetype": "text/x-python",
   "name": "python",
   "nbconvert_exporter": "python",
   "pygments_lexer": "ipython3",
   "version": "3.7.6"
  }
 },
 "nbformat": 4,
 "nbformat_minor": 4
}
