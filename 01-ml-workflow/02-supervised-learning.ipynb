{
 "cells": [
  {
   "cell_type": "markdown",
   "metadata": {},
   "source": [
    "# Supervised learning\n",
    "Now that we loaded and explored the data, let's start with building our first models.\n",
    "In this chapter, we'll only look at a very simple model, the k-Nearest Neighbors classifier.\n",
    "It's easy to understand and has all the ingredients you need to know for a machine learning workflow.\n",
    "In chapter TODO, we'll discuss many other models.\n",
    "\n",
    "```{margin}\n",
    "The interface of all the models is the same in scikit-learn,\n",
    "so you can easily switch out the code for another model now if you like.\n",
    "```"
   ]
  },
  {
   "cell_type": "markdown",
   "metadata": {},
   "source": [
    "## Classification with scikit-learn\n",
    "We will start with the simple and well-behaved breast cancer dataset:"
   ]
  },
  {
   "cell_type": "code",
   "execution_count": 3,
   "metadata": {},
   "outputs": [
    {
     "data": {
      "text/plain": [
       "(569, 31)"
      ]
     },
     "execution_count": 3,
     "metadata": {},
     "output_type": "execute_result"
    }
   ],
   "source": [
    "from sklearn.datasets import load_breast_cancer\n",
    "# specifying \"as_frame=True\" returns the data as a dataframe in addition to a numpy array\n",
    "cancer = load_breast_cancer(as_frame=True)\n",
    "cancer_df = cancer.frame\n",
    "cancer_df.shape"
   ]
  },
  {
   "cell_type": "code",
   "execution_count": 4,
   "metadata": {},
   "outputs": [
    {
     "data": {
      "text/plain": [
       "Index(['mean radius', 'mean texture', 'mean perimeter', 'mean area',\n",
       "       'mean smoothness', 'mean compactness', 'mean concavity',\n",
       "       'mean concave points', 'mean symmetry', 'mean fractal dimension',\n",
       "       'radius error', 'texture error', 'perimeter error', 'area error',\n",
       "       'smoothness error', 'compactness error', 'concavity error',\n",
       "       'concave points error', 'symmetry error', 'fractal dimension error',\n",
       "       'worst radius', 'worst texture', 'worst perimeter', 'worst area',\n",
       "       'worst smoothness', 'worst compactness', 'worst concavity',\n",
       "       'worst concave points', 'worst symmetry', 'worst fractal dimension',\n",
       "       'target'],\n",
       "      dtype='object')"
      ]
     },
     "execution_count": 4,
     "metadata": {},
     "output_type": "execute_result"
    }
   ],
   "source": [
    "cancer_df.columns"
   ]
  },
  {
   "cell_type": "markdown",
   "metadata": {},
   "source": [
    "### Training and Test set"
   ]
  },
  {
   "cell_type": "markdown",
   "metadata": {},
   "source": [
    "First, we split our data into a training and a test set. TODO is this the first mention?\n",
    "This is a critical component of any supervised learning workflow. As you know, our goal is to build a model that generalizes well, i.e. that predicts well on data that is has not seen before.\n",
    "We could use all our data to built a model, but then we would have no way to know whether our model really works, i.e. how accurately it predicts on new data.\n",
    "The easiest way to measure the generalization capability of our model is to apply it to some hold-out data, that was not used to build the model, but for which we have the correct answer.\n",
    "Then we can make predictions on our hold-out set and compare them against the known answers, to measure how well the model performs.\n",
    "So we need disjoint datasets: one to build the model, usually called the training set, and another, to validate model accuracy, usually called the test set.\n",
    "\n",
    "![:scale 60%](images/train_test_set_2d_classification.png)\n",
    "\n",
    "\n",
    "A very common way to generate the test set is to split the data randomly, and there's function in scikit-learn to help you with that, called ``train_test_split``:"
   ]
  },
  {
   "cell_type": "code",
   "execution_count": 6,
   "metadata": {},
   "outputs": [],
   "source": [
    "from sklearn.model_selection import train_test_split\n",
    "data_train, data_test = train_test_split(cancer_df)"
   ]
  },
  {
   "cell_type": "markdown",
   "metadata": {},
   "source": [
    "This function splits off 25% of the rows randomly to use as test set:"
   ]
  },
  {
   "cell_type": "code",
   "execution_count": 10,
   "metadata": {},
   "outputs": [
    {
     "data": {
      "text/plain": [
       "(426, 31)"
      ]
     },
     "execution_count": 10,
     "metadata": {},
     "output_type": "execute_result"
    }
   ],
   "source": [
    "data_train.shape"
   ]
  },
  {
   "cell_type": "code",
   "execution_count": 11,
   "metadata": {},
   "outputs": [
    {
     "data": {
      "text/plain": [
       "(143, 31)"
      ]
     },
     "execution_count": 11,
     "metadata": {},
     "output_type": "execute_result"
    }
   ],
   "source": [
    "data_test.shape"
   ]
  },
  {
   "cell_type": "markdown",
   "metadata": {},
   "source": [
    "We can controll the size of the test set by changing the ``test_size`` parameter to either a number of samples or a percentage of the training data. But 75% of the data is usually a good rule of thumb. As the process is random, you will get a different split of the data every time you run this line of code. For the purposes of this book, we'll make the split deterministic by providing a fixed random seed, which can be an arbitrary integer:"
   ]
  },
  {
   "cell_type": "code",
   "execution_count": 7,
   "metadata": {},
   "outputs": [],
   "source": [
    "data_train, data_test = train_test_split(cancer_df, random_state=42)"
   ]
  },
  {
   "cell_type": "markdown",
   "metadata": {},
   "source": [
    "This way, the results of our analysis later will be the same every time as when you run the code, and the won't change if you run the code again.\n",
    "\n",
    "```{margin} Setting random seeds\n",
    "In a real analysis, there are pros and cons to setting this seed. Generally, your results should be independent of how you split your data. If the quality of your model depends strongly of how you split your data, then your model is probably not very robust and you might not want to use it. If you keep the seed fixed the whole time, you might not know whether you got lucky (or unlucky) with your particular split, so it might be good to either not set the seed, or run with multiple different seeds. On the other hand, if you didn't set the seed, and you get a surprising result, then it might be very hard for someone else (or even for yourself) to reproduce your results as you have no record of how the data was split.\n",
    "```"
   ]
  },
  {
   "cell_type": "markdown",
   "metadata": {},
   "source": [
    "There are actually quite some assumptions made when splitting the data randomly, and we will discuss them in more detail in chapter TODO."
   ]
  },
  {
   "cell_type": "markdown",
   "metadata": {},
   "source": [
    "Now, we separate the features from the target, which is required for using scikit-learn.\n",
    "The easiest way to do that is to use the ``drop`` method of the DataFrame:"
   ]
  },
  {
   "cell_type": "code",
   "execution_count": 12,
   "metadata": {},
   "outputs": [],
   "source": [
    "X_train = data_train.drop(columns='target')\n",
    "y_train = data_train.target\n",
    "X_test = data_test.drop(columns='target')\n",
    "y_test = data_test.target"
   ]
  },
  {
   "cell_type": "markdown",
   "metadata": {},
   "source": [
    "Here, we're calling the features 'X' and the targets 'y', a common convention in scikit-learn and machine learning more broadly.\n",
    "```{margin}\n",
    "The 'X' is capital because it refers to a matrix, a two-dimensional array, while 'y' is typically a column vector or one-dimensional array. Using capital letters for matrices and lower case letters for vectors is a common practice in linear algebra.\n",
    "```"
   ]
  },
  {
   "cell_type": "markdown",
   "metadata": {},
   "source": [
    "````{Note}\n",
    "Alternatively, we could have first split off the target column and then separated the data into training and test set, like so:\n",
    "    ```{python}\n",
    "    X = data.drop(columns='target')\n",
    "    y = data.target\n",
    "    X_train, X_test, y_train, y_test = train_test_split(X, y, random_state=0)\n",
    "    ```\n",
    "This is one line shorter and the more common idiom, but maybe a bit harder to read and remember.\n",
    "````  \n",
    "\n",
    "Now we're all set and can get started building our first models with scikit-learn!"
   ]
  },
  {
   "cell_type": "markdown",
   "metadata": {},
   "source": [
    "## Nearest Neighbors Classification\n"
   ]
  },
  {
   "cell_type": "markdown",
   "metadata": {},
   "source": [
    "The first algorithm we'll use is Nearest Neighbors classification. It's not commonly used in practice as it doesn't scale that well to datasets with many samples, but it's often quite accurate and very easy to understand.\n",
    "For illustration purposes (as it is easier to draw in two dimensions), let us first consider just two features of the breast cancer dataset that we found informative before, 'mean compactness' and 'worst concave points':"
   ]
  },
  {
   "cell_type": "code",
   "execution_count": 43,
   "metadata": {},
   "outputs": [
    {
     "data": {
      "image/png": "[encoded data removed]",
      "text/plain": [
       "<Figure size 432x288 with 2 Axes>"
      ]
     },
     "metadata": {
      "needs_background": "light"
     },
     "output_type": "display_data"
    }
   ],
   "source": [
    "import matplotlib.pyplot as plt\n",
    "# the return value is the axes that was created for the plot\n",
    "ax = X_train.plot.scatter(x='mean compactness', y='worst concave points',\n",
    "                     # use the target to color points\n",
    "                     # use the blue-white-red colormap\n",
    "                     c=y_train, colormap='bwr', s=2)\n",
    "# TODO why is there no xlabel\n",
    "# We set the aspect ratio to equal to faithfully represent distances between points.\n",
    "ax.set_aspect(\"equal\")"
   ]
  },
  {
   "cell_type": "markdown",
   "metadata": {},
   "source": [
    "Now let's look at some of the samples from the test set, drawn as black stars:"
   ]
  },
  {
   "cell_type": "code",
   "execution_count": 48,
   "metadata": {
    "tags": [
     "remove-input"
    ]
   },
   "outputs": [
    {
     "data": {
      "image/png": "[encoded data removed]",
      "text/plain": [
       "<Figure size 432x288 with 2 Axes>"
      ]
     },
     "metadata": {
      "needs_background": "light"
     },
     "output_type": "display_data"
    }
   ],
   "source": [
    "ax = X_train.plot.scatter(x='mean compactness', y='worst concave points',\n",
    "                         c=y_train, colormap='bwr', s=2)\n",
    "# plot into the axme axes\n",
    "X_test[1:4].plot.scatter(x='mean compactness', y='worst concave points', c='k', marker=\"*\", s=40, ax=ax);"
   ]
  },
  {
   "cell_type": "markdown",
   "metadata": {},
   "source": [
    "Looking at this two dimensional scatter plot, we can probably make a reasonable guess that the most likely label for the top one is blue, as all the surrounding points are blue, while the most likely label for the bottom point is red, because all the surrounding points are read. It's maybe a little bit less clear what label to assign to the point in the center.\n",
    "\n",
    "Nearest Neighbors, as the name suggest, formalizes this intuition and simply applies the label of the closest point in the training dataset, as illustrated in Figure TODO.\n",
    "\n",
    "\n"
   ]
  },
  {
   "cell_type": "code",
   "execution_count": 49,
   "metadata": {},
   "outputs": [
    {
     "ename": "ModuleNotFoundError",
     "evalue": "No module named 'sklearn.decomposition.dict_learning'",
     "output_type": "error",
     "traceback": [
      "\u001b[1;31m---------------------------------------------------------------------------\u001b[0m",
      "\u001b[1;31mModuleNotFoundError\u001b[0m                       Traceback (most recent call last)",
      "\u001b[1;32m<ipython-input-49-bb5959c4c9e8>\u001b[0m in \u001b[0;36m<module>\u001b[1;34m\u001b[0m\n\u001b[0;32m      1\u001b[0m \u001b[1;32mfrom\u001b[0m \u001b[0msklearn\u001b[0m\u001b[1;33m.\u001b[0m\u001b[0mmetrics\u001b[0m \u001b[1;32mimport\u001b[0m \u001b[0meuclidean_distances\u001b[0m\u001b[1;33m\u001b[0m\u001b[1;33m\u001b[0m\u001b[0m\n\u001b[1;32m----> 2\u001b[1;33m \u001b[1;32mfrom\u001b[0m \u001b[0msklearn\u001b[0m\u001b[1;33m.\u001b[0m\u001b[0mneighbors\u001b[0m \u001b[1;32mimport\u001b[0m \u001b[0mKNeighborsClassifier\u001b[0m\u001b[1;33m\u001b[0m\u001b[1;33m\u001b[0m\u001b[0m\n\u001b[0m\u001b[0;32m      3\u001b[0m \u001b[1;33m\u001b[0m\u001b[0m\n\u001b[0;32m      4\u001b[0m \u001b[1;32mdef\u001b[0m \u001b[0mplot_n_neighbors\u001b[0m\u001b[1;33m(\u001b[0m\u001b[0mX_train\u001b[0m\u001b[1;33m,\u001b[0m \u001b[0my_train\u001b[0m\u001b[1;33m,\u001b[0m \u001b[0mX_test\u001b[0m\u001b[1;33m,\u001b[0m \u001b[0mn_neighbors\u001b[0m\u001b[1;33m=\u001b[0m\u001b[1;36m1\u001b[0m\u001b[1;33m)\u001b[0m\u001b[1;33m:\u001b[0m\u001b[1;33m\u001b[0m\u001b[1;33m\u001b[0m\u001b[0m\n\u001b[0;32m      5\u001b[0m     \u001b[0mdist\u001b[0m \u001b[1;33m=\u001b[0m \u001b[0meuclidean_distances\u001b[0m\u001b[1;33m(\u001b[0m\u001b[0mX\u001b[0m\u001b[1;33m,\u001b[0m \u001b[0mX_test\u001b[0m\u001b[1;33m)\u001b[0m\u001b[1;33m\u001b[0m\u001b[1;33m\u001b[0m\u001b[0m\n",
      "\u001b[1;32mc:\\users\\t3kci\\checkout\\scikit-learn\\sklearn\\neighbors\\__init__.py\u001b[0m in \u001b[0;36m<module>\u001b[1;34m\u001b[0m\n\u001b[0;32m     15\u001b[0m \u001b[1;32mfrom\u001b[0m \u001b[1;33m.\u001b[0m\u001b[0m_kde\u001b[0m \u001b[1;32mimport\u001b[0m \u001b[0mKernelDensity\u001b[0m\u001b[1;33m\u001b[0m\u001b[1;33m\u001b[0m\u001b[0m\n\u001b[0;32m     16\u001b[0m \u001b[1;32mfrom\u001b[0m \u001b[1;33m.\u001b[0m\u001b[0m_lof\u001b[0m \u001b[1;32mimport\u001b[0m \u001b[0mLocalOutlierFactor\u001b[0m\u001b[1;33m\u001b[0m\u001b[1;33m\u001b[0m\u001b[0m\n\u001b[1;32m---> 17\u001b[1;33m \u001b[1;32mfrom\u001b[0m \u001b[1;33m.\u001b[0m\u001b[0m_nca\u001b[0m \u001b[1;32mimport\u001b[0m \u001b[0mNeighborhoodComponentsAnalysis\u001b[0m\u001b[1;33m\u001b[0m\u001b[1;33m\u001b[0m\u001b[0m\n\u001b[0m\u001b[0;32m     18\u001b[0m \u001b[1;32mfrom\u001b[0m \u001b[1;33m.\u001b[0m\u001b[0m_base\u001b[0m \u001b[1;32mimport\u001b[0m \u001b[0mVALID_METRICS\u001b[0m\u001b[1;33m,\u001b[0m \u001b[0mVALID_METRICS_SPARSE\u001b[0m\u001b[1;33m\u001b[0m\u001b[1;33m\u001b[0m\u001b[0m\n\u001b[0;32m     19\u001b[0m \u001b[1;33m\u001b[0m\u001b[0m\n",
      "\u001b[1;32mc:\\users\\t3kci\\checkout\\scikit-learn\\sklearn\\neighbors\\_nca.py\u001b[0m in \u001b[0;36m<module>\u001b[1;34m\u001b[0m\n\u001b[0;32m     20\u001b[0m \u001b[1;32mfrom\u001b[0m \u001b[1;33m.\u001b[0m\u001b[1;33m.\u001b[0m\u001b[0mbase\u001b[0m \u001b[1;32mimport\u001b[0m \u001b[0mBaseEstimator\u001b[0m\u001b[1;33m,\u001b[0m \u001b[0mTransformerMixin\u001b[0m\u001b[1;33m\u001b[0m\u001b[1;33m\u001b[0m\u001b[0m\n\u001b[0;32m     21\u001b[0m \u001b[1;32mfrom\u001b[0m \u001b[1;33m.\u001b[0m\u001b[1;33m.\u001b[0m\u001b[0mpreprocessing\u001b[0m \u001b[1;32mimport\u001b[0m \u001b[0mLabelEncoder\u001b[0m\u001b[1;33m\u001b[0m\u001b[1;33m\u001b[0m\u001b[0m\n\u001b[1;32m---> 22\u001b[1;33m \u001b[1;32mfrom\u001b[0m \u001b[1;33m.\u001b[0m\u001b[1;33m.\u001b[0m\u001b[0mdecomposition\u001b[0m \u001b[1;32mimport\u001b[0m \u001b[0mPCA\u001b[0m\u001b[1;33m\u001b[0m\u001b[1;33m\u001b[0m\u001b[0m\n\u001b[0m\u001b[0;32m     23\u001b[0m \u001b[1;32mfrom\u001b[0m \u001b[1;33m.\u001b[0m\u001b[1;33m.\u001b[0m\u001b[0mutils\u001b[0m\u001b[1;33m.\u001b[0m\u001b[0mmulticlass\u001b[0m \u001b[1;32mimport\u001b[0m \u001b[0mcheck_classification_targets\u001b[0m\u001b[1;33m\u001b[0m\u001b[1;33m\u001b[0m\u001b[0m\n\u001b[0;32m     24\u001b[0m \u001b[1;32mfrom\u001b[0m \u001b[1;33m.\u001b[0m\u001b[1;33m.\u001b[0m\u001b[0mutils\u001b[0m\u001b[1;33m.\u001b[0m\u001b[0mrandom\u001b[0m \u001b[1;32mimport\u001b[0m \u001b[0mcheck_random_state\u001b[0m\u001b[1;33m\u001b[0m\u001b[1;33m\u001b[0m\u001b[0m\n",
      "\u001b[1;32mc:\\users\\t3kci\\checkout\\scikit-learn\\sklearn\\decomposition\\__init__.py\u001b[0m in \u001b[0;36m<module>\u001b[1;34m\u001b[0m\n\u001b[0;32m     15\u001b[0m \u001b[1;32mwith\u001b[0m \u001b[0mwarnings\u001b[0m\u001b[1;33m.\u001b[0m\u001b[0mcatch_warnings\u001b[0m\u001b[1;33m(\u001b[0m\u001b[1;33m)\u001b[0m\u001b[1;33m:\u001b[0m\u001b[1;33m\u001b[0m\u001b[1;33m\u001b[0m\u001b[0m\n\u001b[0;32m     16\u001b[0m     \u001b[0mwarnings\u001b[0m\u001b[1;33m.\u001b[0m\u001b[0msimplefilter\u001b[0m\u001b[1;33m(\u001b[0m\u001b[1;34m\"ignore\"\u001b[0m\u001b[1;33m,\u001b[0m \u001b[0mcategory\u001b[0m\u001b[1;33m=\u001b[0m\u001b[0mFutureWarning\u001b[0m\u001b[1;33m)\u001b[0m\u001b[1;33m\u001b[0m\u001b[1;33m\u001b[0m\u001b[0m\n\u001b[1;32m---> 17\u001b[1;33m     \u001b[1;32mfrom\u001b[0m \u001b[1;33m.\u001b[0m\u001b[0mdict_learning\u001b[0m \u001b[1;32mimport\u001b[0m \u001b[0mdict_learning\u001b[0m\u001b[1;33m\u001b[0m\u001b[1;33m\u001b[0m\u001b[0m\n\u001b[0m\u001b[0;32m     18\u001b[0m \u001b[1;33m\u001b[0m\u001b[0m\n\u001b[0;32m     19\u001b[0m \u001b[1;33m\u001b[0m\u001b[0m\n",
      "\u001b[1;31mModuleNotFoundError\u001b[0m: No module named 'sklearn.decomposition.dict_learning'"
     ]
    }
   ],
   "source": [
    "from sklearn.metrics import euclidean_distances\n",
    "from sklearn.neighbors import KNeighborsClassifier\n",
    "\n",
    "def plot_n_neighbors(X_train, y_train, X_test, n_neighbors=1):\n",
    "    dist = euclidean_distances(X, X_test)\n",
    "    closest = np.argsort(dist, axis=0)\n",
    "\n",
    "    plt.figure()\n",
    "    plt.gca().set_aspect(\"equal\")\n",
    "    for x, neighbors in zip(X_test, closest.T):\n",
    "        for neighbor in neighbors[:n_neighbors]:\n",
    "            plt.arrow(x[0], x[1], X[neighbor, 0] - x[0],\n",
    "                    X[neighbor, 1] - x[1], head_width=0, fc='k', ec='k')\n",
    "\n",
    "    clf = KNeighborsClassifier(n_neighbors=n_neighbors).fit(X, y)\n",
    "    test_points = plt.scatter(X_test[:, 0], X_test[:, 1], c=clf.predict(X_test), marker=\"*\")\n",
    "    training_points = plt.scatter(X[:, 0], X[:, 1], c=y)    \n",
    "    \n",
    "plot_n_neighbors(X_train[['mean compactness', 'worst concave points']], y_train, X_test[1:4])"
   ]
  },
  {
   "cell_type": "markdown",
   "metadata": {},
   "source": [
    "\n",
    "```{admonition} Mathematical Background\n",
    "Formally, you could define the prediction of nearest neighbors based on a dataset $(x_i, y_i), i=1,..,n$ as:\n",
    "$$f(x) = y_i, i = \\text{argmin}_j || x_j - x||$$\n",
    "```\n",
    "\n",
    "Let’s say we have this two-class classification dataset here, with\n",
    "two features, one on the x axis and one on the y axis.\n",
    "And we have three new points as marked by the stars here.\n",
    "If I make a prediction using a one nearest neighbor classifier, what\n",
    "will it predict?\n",
    "It will predict the label of the closest data point in the training set.\n",
    "That is basically the simplest machine learning algorithm I can come\n",
    "up with.\n",
    "\n",
    "Here’s the formula:\n",
    "the prediction for a new x is the y_i so that x_i is the closest point\n",
    "in the training set.\n",
    "Ok, so now how do we find out whether this model is any good?"
   ]
  },
  {
   "cell_type": "markdown",
   "metadata": {},
   "source": [
    "\n",
    "\n",
    "The simplest way is to split the data into a training and a test set.\n",
    "So we take some part of the data set,  let’s say 75% and the\n",
    "corresponding output, and train the model, and then apply the model on\n",
    "the remaining 25% to compute the accuracy. This test-set accuracy\n",
    "will provide an unbiased estimate of future performance.\n",
    "So if our i.i.d. assumption is correct, and we get a 90% success\n",
    "rate on the test data, we expect about a 90% success rate on any future\n",
    "data, for which we don't have labels.\n",
    "\n",
    "Let's dive into how to build and evaluate this model with scikit-learn."
   ]
  },
  {
   "cell_type": "markdown",
   "metadata": {},
   "source": [
    "## KNN with scikit-learn"
   ]
  },
  {
   "cell_type": "code",
   "execution_count": 2,
   "metadata": {},
   "outputs": [
    {
     "name": "stdout",
     "output_type": "stream",
     "text": [
      "accuracy:  0.6153846153846154\n"
     ]
    }
   ],
   "source": [
    "from sklearn.model_selection import train_test_split\n",
    "X_train, X_test, y_train, y_test = train_test_split(X, y)\n",
    "\n",
    "from sklearn.neighbors import KNeighborsClassifier\n",
    "knn = KNeighborsClassifier(n_neighbors=1)\n",
    "knn.fit(X_train, y_train)\n",
    "print(\"accuracy: \", knn.score(X_test, y_test))\n",
    "y_pred = knn.predict(X_test)"
   ]
  },
  {
   "cell_type": "markdown",
   "metadata": {},
   "source": [
    "\n",
    "We import train_test_split form model selection, which does a\n",
    "random split into 75%/25%.\n",
    "We provide it with the data X, which are our two features, and the\n",
    "labels y.\n",
    "\n",
    "As you might already know, all the models in scikit-learn are implemented\n",
    "in python classes, with a single object used to build and store the model.\n",
    "\n",
    "We start by importing our model, the KneighborsClassifier, and instantiate\n",
    "it with n_neighbors=1. Instantiating the object is when we set any hyper parameter,\n",
    "such as here saying that we only want to look at the neirest neighbor.\n",
    "\n",
    "Then we can call the fit method to build the model, here knn.fit(X_train,\n",
    "y_train)\n",
    "All models in scikit-learn have a fit-method, and all the supervised ones take\n",
    "the data X and the outcomes y. The fit method builds the model and stores any\n",
    "estimated quantities in the model object, here knn.  In the case of nearest\n",
    "neighbors, the `fit` methods simply remembers the whole training set.\n",
    "\n",
    "Then, we can use knn.score to make predictions on the test data, and\n",
    "compare them against the true labels y_test.\n",
    "\n",
    "For classification models, the score method will always compute\n",
    "accuracy.\n",
    "\n",
    "Just for illustration purposes, I also call the predict method here.\n",
    "The predict method is what's used to make predictions on any dataset.\n",
    "If we use the score method, it calls predict internally and then\n",
    "compares the outcome to the ground truth that's provided.\n",
    "\n",
    "Who here has not seen this before?"
   ]
  },
  {
   "cell_type": "markdown",
   "metadata": {},
   "source": [
    "## Influence of Number of Neighbors\n",
    "\n",
    "\n",
    "So this was the predictions as made by one-nearest neighbor.\n",
    "But we can also consider more neighbors, for example three. Here is the\n",
    "three nearest neighbors for each of the points and the corresponding\n",
    "labels.\n",
    "We can then make a prediction by considering the majority among these\n",
    "three neighbors.\n",
    "And as you can see, in this case all the points changed their labels! (I\n",
    "was actually quite surprised when I saw that, I just picked some points\n",
    "at random).\n",
    "Clearly the number of neighbors that we consider matters a lot. But what\n",
    "is the right number?\n",
    "The is a problem you’ll encounter a lot in machine learning, the\n",
    "problem of tuning parameters of the model, also called hyper-parameters,\n",
    "which can not be learned directly from the data."
   ]
  },
  {
   "cell_type": "markdown",
   "metadata": {},
   "source": [
    "\n",
    "So this was the predictions as made by one-nearest neighbor.\n",
    "But we can also consider more neighbors, for example three. Here is the\n",
    "three nearest neighbors for each of the points and the corresponding\n",
    "labels.\n",
    "We can then make a prediction by considering the majority among these\n",
    "three neighbors.\n",
    "And as you can see, in this case all the points changed their labels! (I\n",
    "was actually quite surprised when I saw that, I just picked some points\n",
    "at random).\n",
    "Clearly the number of neighbors that we consider matters a lot. But what\n",
    "is the right number?\n",
    "The is a problem you’ll encounter a lot in machine learning, the\n",
    "problem of tuning parameters of the model, also called hyper-parameters,\n",
    "which can not be learned directly from the data."
   ]
  },
  {
   "cell_type": "code",
   "execution_count": 3,
   "metadata": {
    "tags": [
     "remove-input"
    ]
   },
   "outputs": [
    {
     "data": {
      "image/png": "[encoded data removed]",
      "text/plain": [
       "<Figure size 576x576 with 4 Axes>"
      ]
     },
     "metadata": {},
     "output_type": "display_data"
    }
   ],
   "source": [
    "import sys\n",
    "sys.path.append(\"..\")\n",
    "from utils import plot_2d_classification\n",
    "import numpy as np\n",
    "\n",
    "fig, axes = plt.subplots(2, 2, figsize=(8, 8))\n",
    "for ax, n_neighbors in zip(axes.ravel(), [1, 5, 10, 30]):\n",
    "    ax.set_title(f\"n_neighbors={n_neighbors}\")\n",
    "    clf = KNeighborsClassifier(n_neighbors=n_neighbors).fit(X, y)\n",
    "    ax.scatter(X[:, 0], X[:, 1], c=y, edgecolor='k')\n",
    "    plot_2d_classification(clf, X, ax=ax, alpha=.5)\n",
    "    ax.set_aspect(\"equal\")"
   ]
  },
  {
   "cell_type": "markdown",
   "metadata": {},
   "source": [
    "\n",
    "Here’s an overview of how the classification changes if we consider\n",
    "different numbers of neighbors.\n",
    "You can see as red and blue circles the training data. And the background\n",
    "is colored according to which class a datapoint would be assigned to\n",
    "for each location.\n",
    "For one neighbor, you can see that each point in the training set has\n",
    "a little area around it that would be classified according to it’s\n",
    "label. This means all the training points would be classified correctly,\n",
    "but it leads to a very complex shape of the decision boundary.\n",
    "If we increase the number of neighbors, the boundary between red and\n",
    "blue simplifies, and with 40 neighbors we mostly end up with a line.\n",
    "This also means that now many of the training data points would be\n",
    "labeled incorrectly.\n",
    "\n",
    "## Model complexity\n",
    "\n",
    "![:scale 75%](images/knn_model_complexity.png)\n",
    "\n",
    "\n",
    "We can look at this in more detail by comparing training and test set\n",
    "scores for the different numbers of neighbors.\n",
    "Here, I did a random 75%/25% split again. This is a very noisy plot as\n",
    "the dataset is very small and I only did a random split, but you can\n",
    "see a trend here.\n",
    "You can see that for a single neighbor, the training score is 1 so perfect\n",
    "accuracy, but the test score is only 70%.  If we increase the number of\n",
    "neighbors we consider, the training score goes down, but the test score\n",
    "goes up, with an optimum at 19 and 21, but then both go down again.\n",
    "\n",
    "This is a very typical behavior, that I sketched in a schematic for you.\n",
    "\n",
    "\n",
    "here is a cartoon version of how this chart looks in general, though\n",
    "it's horizontally flipped to the one with saw for knn.\n",
    "This chart has accuracy on the y axis, and the abstract concept of model\n",
    "complexity on the x axis.\n",
    "If we make our machine learning models more complex, we will get better\n",
    "training set accuracy, as the model will be able to capture more of the\n",
    "variations in the data.\n",
    "\n",
    "\n",
    "But if we look at the generalization performance, we get a different\n",
    "story. If the model complexity is too low, the model will not be able\n",
    "to capture the main trends, and a more complex model means better\n",
    "generalization.\n",
    "However, if we make the model too complex, generalization performance\n",
    "drops again, because we basically learn to memorize the dataset.\n",
    "\n",
    "\n",
    "\n",
    "## Overfitting and Underfitting\n",
    "\n",
    "![:scale 80%](images/overfitting_underfitting_cartoon_full.png)\n",
    "\n",
    "\n",
    "If we use too simple a model, this is often called underfitting, while\n",
    "if we use to complex a model, this is called overfitting. And somewhere\n",
    "in the middle is a sweet spot.\n",
    "Most models have some way to tune model complexity, and we’ll see many\n",
    "of them in the next couple of weeks.\n",
    "So going back to nearest neighbors, what parameters correspond to high\n",
    "model complexity and what to low model complexity? high n_neighbors =\n",
    "low complexity!"
   ]
  },
  {
   "cell_type": "code",
   "execution_count": 4,
   "metadata": {},
   "outputs": [],
   "source": [
    "import matplotlib.pyplot as plt\n",
    "import numpy as np\n",
    "import sklearn\n",
    "sklearn.set_config(print_changed_only=True)"
   ]
  },
  {
   "cell_type": "code",
   "execution_count": 5,
   "metadata": {},
   "outputs": [],
   "source": [
    "from sklearn.datasets import fetch_openml\n",
    "from sklearn.model_selection import train_test_split\n",
    "blood = fetch_openml('blood-transfusion-service-center')\n",
    "\n",
    "X_train, X_test, y_train, y_test = train_test_split(\n",
    "    blood.data, blood.target, random_state=0)"
   ]
  },
  {
   "cell_type": "code",
   "execution_count": 6,
   "metadata": {},
   "outputs": [
    {
     "data": {
      "text/plain": [
       "(561, 4)"
      ]
     },
     "execution_count": 6,
     "metadata": {},
     "output_type": "execute_result"
    }
   ],
   "source": [
    "X_train.shape"
   ]
  },
  {
   "cell_type": "code",
   "execution_count": 7,
   "metadata": {},
   "outputs": [
    {
     "data": {
      "text/plain": [
       "1    438\n",
       "2    123\n",
       "dtype: int64"
      ]
     },
     "execution_count": 7,
     "metadata": {},
     "output_type": "execute_result"
    }
   ],
   "source": [
    "import pandas as pd\n",
    "pd.Series(y_train).value_counts()"
   ]
  },
  {
   "cell_type": "code",
   "execution_count": 8,
   "metadata": {},
   "outputs": [
    {
     "data": {
      "text/plain": [
       "1    0.780749\n",
       "2    0.219251\n",
       "dtype: float64"
      ]
     },
     "execution_count": 8,
     "metadata": {},
     "output_type": "execute_result"
    }
   ],
   "source": [
    "pd.Series(y_train).value_counts(normalize=True)"
   ]
  },
  {
   "cell_type": "code",
   "execution_count": null,
   "metadata": {},
   "outputs": [],
   "source": []
  }
 ],
 "metadata": {
  "anaconda-cloud": {},
  "kernelspec": {
   "display_name": "Python 3",
   "language": "python",
   "name": "python3"
  },
  "language_info": {
   "codemirror_mode": {
    "name": "ipython",
    "version": 3
   },
   "file_extension": ".py",
   "mimetype": "text/x-python",
   "name": "python",
   "nbconvert_exporter": "python",
   "pygments_lexer": "ipython3",
   "version": "3.7.6"
  }
 },
 "nbformat": 4,
 "nbformat_minor": 4
}
