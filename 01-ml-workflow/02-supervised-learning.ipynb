{
 "cells": [
  {
   "cell_type": "markdown",
   "metadata": {},
   "source": [
    "# Supervised learning with scikit-learn"
   ]
  },
  {
   "cell_type": "markdown",
   "metadata": {},
   "source": [
    "## Supervised Learning\n",
    "\n",
    ".larger[\n",
    "$$ (x_i, y_i) \\propto p(x, y) \\text{ i.i.d.}$$\n",
    "$$ x_i \\in \\mathbb{R}^p$$\n",
    "$$ y_i \\in \\mathbb{R}$$\n",
    "$$\\text{learn }f(x_i) \\approx y_i$$\n",
    "such that\n",
    "$$f(x) \\approx y \\quad$$\n",
    "for new $(x, y) \\propto p(x, y)$.\n",
    "]\n",
    "\n",
    "As a reminder, in supervised learning, the dataset we learn form is\n",
    "input-output pairs $(x_i, y_i)$, where $x_i$ is some n-dimensional input,\n",
    "or feature vector, and $y_i$ is the desired output we want to learn to predict.\n",
    "We assume these samples are drawn from some unknown joint distribution\n",
    "$p(x, y)$.\n",
    "You can think of this as there being some (not necessarily deterministic)\n",
    "process that goes from $x_i$ to $y_i$, but that we don’t know.\n",
    "We try to find a function that approximates the output $y_i$ for each known\n",
    "input $x_i$. But we also demand that for new inputs $x$ , and unobserved $y$,\n",
    "$f(x)$ is approximately $y$.\n",
    "\n",
    "I want to go through a simple examples of supervised algorithms today,\n",
    "nearest neighbors "
   ]
  },
  {
   "cell_type": "markdown",
   "metadata": {},
   "source": [
    "## Nearest Neighbors\n"
   ]
  },
  {
   "cell_type": "code",
   "execution_count": 1,
   "metadata": {
    "tags": [
     "remove-input"
    ]
   },
   "outputs": [
    {
     "data": {
      "image/png": "[encoded data removed]",
      "text/plain": [
       "<Figure size 432x288 with 1 Axes>"
      ]
     },
     "metadata": {
      "needs_background": "light"
     },
     "output_type": "display_data"
    }
   ],
   "source": [
    "from sklearn.datasets import make_blobs\n",
    "import numpy as np\n",
    "import matplotlib.pyplot as plt\n",
    "\n",
    "plt.rcParams['image.cmap'] = \"bwr\"\n",
    "#plt.rcParams['figure.dpi'] = \"300\"\n",
    "plt.rcParams['savefig.bbox'] = \"tight\"\n",
    "\n",
    "X, y = make_blobs(centers=2, cluster_std=2, random_state=0, n_samples=50)\n",
    "plt.figure()\n",
    "plt.gca().set_aspect(\"equal\")\n",
    "plt.scatter(X[:, 0], X[:, 1], c=y)\n",
    "\n",
    "X_test = np.array([[0.5, 3], [4, 2], [-.5, .5]])\n",
    "plt.scatter(X_test[:, 0], X_test[:, 1], c='k', marker=\"*\");"
   ]
  },
  {
   "cell_type": "markdown",
   "metadata": {},
   "source": [
    "\n",
    "$$f(x) = y_i, i = \\text{argmin}_j || x_j - x||$$\n",
    "\n",
    "\n",
    "Let’s say we have this two-class classification dataset here, with\n",
    "two features, one on the x axis and one on the y axis.\n",
    "And we have three new points as marked by the stars here.\n",
    "If I make a prediction using a one nearest neighbor classifier, what\n",
    "will it predict?\n",
    "It will predict the label of the closest data point in the training set.\n",
    "That is basically the simplest machine learning algorithm I can come\n",
    "up with.\n",
    "\n",
    "Here’s the formula:\n",
    "the prediction for a new x is the y_i so that x_i is the closest point\n",
    "in the training set.\n",
    "Ok, so now how do we find out whether this model is any good?"
   ]
  },
  {
   "cell_type": "markdown",
   "metadata": {},
   "source": [
    "![:scale 60%](images/train_test_set_2d_classification.png)\n",
    "\n",
    "\n",
    "The simplest way is to split the data into a training and a test set.\n",
    "So we take some part of the data set,  let’s say 75% and the\n",
    "corresponding output, and train the model, and then apply the model on\n",
    "the remaining 25% to compute the accuracy. This test-set accuracy\n",
    "will provide an unbiased estimate of future performance.\n",
    "So if our i.i.d. assumption is correct, and we get a 90% success\n",
    "rate on the test data, we expect about a 90% success rate on any future\n",
    "data, for which we don't have labels.\n",
    "\n",
    "Let's dive into how to build and evaluate this model with scikit-learn."
   ]
  },
  {
   "cell_type": "markdown",
   "metadata": {},
   "source": [
    "## KNN with scikit-learn"
   ]
  },
  {
   "cell_type": "code",
   "execution_count": 2,
   "metadata": {},
   "outputs": [
    {
     "name": "stdout",
     "output_type": "stream",
     "text": [
      "accuracy:  0.6153846153846154\n"
     ]
    }
   ],
   "source": [
    "from sklearn.model_selection import train_test_split\n",
    "X_train, X_test, y_train, y_test = train_test_split(X, y)\n",
    "\n",
    "from sklearn.neighbors import KNeighborsClassifier\n",
    "knn = KNeighborsClassifier(n_neighbors=1)\n",
    "knn.fit(X_train, y_train)\n",
    "print(\"accuracy: \", knn.score(X_test, y_test))\n",
    "y_pred = knn.predict(X_test)"
   ]
  },
  {
   "cell_type": "markdown",
   "metadata": {},
   "source": [
    "\n",
    "We import train_test_split form model selection, which does a\n",
    "random split into 75%/25%.\n",
    "We provide it with the data X, which are our two features, and the\n",
    "labels y.\n",
    "\n",
    "As you might already know, all the models in scikit-learn are implemented\n",
    "in python classes, with a single object used to build and store the model.\n",
    "\n",
    "We start by importing our model, the KneighborsClassifier, and instantiate\n",
    "it with n_neighbors=1. Instantiating the object is when we set any hyper parameter,\n",
    "such as here saying that we only want to look at the neirest neighbor.\n",
    "\n",
    "Then we can call the fit method to build the model, here knn.fit(X_train,\n",
    "y_train)\n",
    "All models in scikit-learn have a fit-method, and all the supervised ones take\n",
    "the data X and the outcomes y. The fit method builds the model and stores any\n",
    "estimated quantities in the model object, here knn.  In the case of nearest\n",
    "neighbors, the `fit` methods simply remembers the whole training set.\n",
    "\n",
    "Then, we can use knn.score to make predictions on the test data, and\n",
    "compare them against the true labels y_test.\n",
    "\n",
    "For classification models, the score method will always compute\n",
    "accuracy.\n",
    "\n",
    "Just for illustration purposes, I also call the predict method here.\n",
    "The predict method is what's used to make predictions on any dataset.\n",
    "If we use the score method, it calls predict internally and then\n",
    "compares the outcome to the ground truth that's provided.\n",
    "\n",
    "Who here has not seen this before?"
   ]
  },
  {
   "cell_type": "markdown",
   "metadata": {},
   "source": [
    "## Influence of Number of Neighbors\n",
    "\n",
    "\n",
    "So this was the predictions as made by one-nearest neighbor.\n",
    "But we can also consider more neighbors, for example three. Here is the\n",
    "three nearest neighbors for each of the points and the corresponding\n",
    "labels.\n",
    "We can then make a prediction by considering the majority among these\n",
    "three neighbors.\n",
    "And as you can see, in this case all the points changed their labels! (I\n",
    "was actually quite surprised when I saw that, I just picked some points\n",
    "at random).\n",
    "Clearly the number of neighbors that we consider matters a lot. But what\n",
    "is the right number?\n",
    "The is a problem you’ll encounter a lot in machine learning, the\n",
    "problem of tuning parameters of the model, also called hyper-parameters,\n",
    "which can not be learned directly from the data."
   ]
  },
  {
   "cell_type": "markdown",
   "metadata": {},
   "source": [
    "\n",
    "So this was the predictions as made by one-nearest neighbor.\n",
    "But we can also consider more neighbors, for example three. Here is the\n",
    "three nearest neighbors for each of the points and the corresponding\n",
    "labels.\n",
    "We can then make a prediction by considering the majority among these\n",
    "three neighbors.\n",
    "And as you can see, in this case all the points changed their labels! (I\n",
    "was actually quite surprised when I saw that, I just picked some points\n",
    "at random).\n",
    "Clearly the number of neighbors that we consider matters a lot. But what\n",
    "is the right number?\n",
    "The is a problem you’ll encounter a lot in machine learning, the\n",
    "problem of tuning parameters of the model, also called hyper-parameters,\n",
    "which can not be learned directly from the data."
   ]
  },
  {
   "cell_type": "code",
   "execution_count": 3,
   "metadata": {
    "tags": [
     "remove-input"
    ]
   },
   "outputs": [
    {
     "data": {
      "image/png": "[encoded data removed]",
      "text/plain": [
       "<Figure size 576x576 with 4 Axes>"
      ]
     },
     "metadata": {},
     "output_type": "display_data"
    }
   ],
   "source": [
    "import sys\n",
    "sys.path.append(\"..\")\n",
    "from utils import plot_2d_classification\n",
    "import numpy as np\n",
    "\n",
    "fig, axes = plt.subplots(2, 2, figsize=(8, 8))\n",
    "for ax, n_neighbors in zip(axes.ravel(), [1, 5, 10, 30]):\n",
    "    ax.set_title(f\"n_neighbors={n_neighbors}\")\n",
    "    clf = KNeighborsClassifier(n_neighbors=n_neighbors).fit(X, y)\n",
    "    ax.scatter(X[:, 0], X[:, 1], c=y, edgecolor='k')\n",
    "    plot_2d_classification(clf, X, ax=ax, alpha=.5)\n",
    "    ax.set_aspect(\"equal\")"
   ]
  },
  {
   "cell_type": "markdown",
   "metadata": {},
   "source": [
    "\n",
    "Here’s an overview of how the classification changes if we consider\n",
    "different numbers of neighbors.\n",
    "You can see as red and blue circles the training data. And the background\n",
    "is colored according to which class a datapoint would be assigned to\n",
    "for each location.\n",
    "For one neighbor, you can see that each point in the training set has\n",
    "a little area around it that would be classified according to it’s\n",
    "label. This means all the training points would be classified correctly,\n",
    "but it leads to a very complex shape of the decision boundary.\n",
    "If we increase the number of neighbors, the boundary between red and\n",
    "blue simplifies, and with 40 neighbors we mostly end up with a line.\n",
    "This also means that now many of the training data points would be\n",
    "labeled incorrectly.\n",
    "\n",
    "## Model complexity\n",
    "\n",
    "![:scale 75%](images/knn_model_complexity.png)\n",
    "\n",
    "\n",
    "We can look at this in more detail by comparing training and test set\n",
    "scores for the different numbers of neighbors.\n",
    "Here, I did a random 75%/25% split again. This is a very noisy plot as\n",
    "the dataset is very small and I only did a random split, but you can\n",
    "see a trend here.\n",
    "You can see that for a single neighbor, the training score is 1 so perfect\n",
    "accuracy, but the test score is only 70%.  If we increase the number of\n",
    "neighbors we consider, the training score goes down, but the test score\n",
    "goes up, with an optimum at 19 and 21, but then both go down again.\n",
    "\n",
    "This is a very typical behavior, that I sketched in a schematic for you.\n",
    "\n",
    "\n",
    "here is a cartoon version of how this chart looks in general, though\n",
    "it's horizontally flipped to the one with saw for knn.\n",
    "This chart has accuracy on the y axis, and the abstract concept of model\n",
    "complexity on the x axis.\n",
    "If we make our machine learning models more complex, we will get better\n",
    "training set accuracy, as the model will be able to capture more of the\n",
    "variations in the data.\n",
    "\n",
    "\n",
    "But if we look at the generalization performance, we get a different\n",
    "story. If the model complexity is too low, the model will not be able\n",
    "to capture the main trends, and a more complex model means better\n",
    "generalization.\n",
    "However, if we make the model too complex, generalization performance\n",
    "drops again, because we basically learn to memorize the dataset.\n",
    "\n",
    "\n",
    "\n",
    "## Overfitting and Underfitting\n",
    "\n",
    "![:scale 80%](images/overfitting_underfitting_cartoon_full.png)\n",
    "\n",
    "\n",
    "If we use too simple a model, this is often called underfitting, while\n",
    "if we use to complex a model, this is called overfitting. And somewhere\n",
    "in the middle is a sweet spot.\n",
    "Most models have some way to tune model complexity, and we’ll see many\n",
    "of them in the next couple of weeks.\n",
    "So going back to nearest neighbors, what parameters correspond to high\n",
    "model complexity and what to low model complexity? high n_neighbors =\n",
    "low complexity!"
   ]
  },
  {
   "cell_type": "code",
   "execution_count": 4,
   "metadata": {},
   "outputs": [],
   "source": [
    "import matplotlib.pyplot as plt\n",
    "import numpy as np\n",
    "import sklearn\n",
    "sklearn.set_config(print_changed_only=True)"
   ]
  },
  {
   "cell_type": "code",
   "execution_count": 5,
   "metadata": {},
   "outputs": [],
   "source": [
    "from sklearn.datasets import fetch_openml\n",
    "from sklearn.model_selection import train_test_split\n",
    "blood = fetch_openml('blood-transfusion-service-center')\n",
    "\n",
    "X_train, X_test, y_train, y_test = train_test_split(\n",
    "    blood.data, blood.target, random_state=0)"
   ]
  },
  {
   "cell_type": "code",
   "execution_count": 6,
   "metadata": {},
   "outputs": [
    {
     "data": {
      "text/plain": [
       "(561, 4)"
      ]
     },
     "execution_count": 6,
     "metadata": {},
     "output_type": "execute_result"
    }
   ],
   "source": [
    "X_train.shape"
   ]
  },
  {
   "cell_type": "code",
   "execution_count": 7,
   "metadata": {},
   "outputs": [
    {
     "data": {
      "text/plain": [
       "1    438\n",
       "2    123\n",
       "dtype: int64"
      ]
     },
     "execution_count": 7,
     "metadata": {},
     "output_type": "execute_result"
    }
   ],
   "source": [
    "import pandas as pd\n",
    "pd.Series(y_train).value_counts()"
   ]
  },
  {
   "cell_type": "code",
   "execution_count": 8,
   "metadata": {},
   "outputs": [
    {
     "data": {
      "text/plain": [
       "1    0.780749\n",
       "2    0.219251\n",
       "dtype: float64"
      ]
     },
     "execution_count": 8,
     "metadata": {},
     "output_type": "execute_result"
    }
   ],
   "source": [
    "pd.Series(y_train).value_counts(normalize=True)"
   ]
  },
  {
   "cell_type": "code",
   "execution_count": null,
   "metadata": {},
   "outputs": [],
   "source": []
  }
 ],
 "metadata": {
  "anaconda-cloud": {},
  "kernelspec": {
   "display_name": "Python 3",
   "language": "python",
   "name": "python3"
  },
  "language_info": {
   "codemirror_mode": {
    "name": "ipython",
    "version": 3
   },
   "file_extension": ".py",
   "mimetype": "text/x-python",
   "name": "python",
   "nbconvert_exporter": "python",
   "pygments_lexer": "ipython3",
   "version": "3.7.6"
  }
 },
 "nbformat": 4,
 "nbformat_minor": 4
}
