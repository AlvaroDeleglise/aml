{
 "cells": [
  {
   "cell_type": "markdown",
   "metadata": {},
   "source": [
    "# Categorical Variables"
   ]
  },
  {
   "cell_type": "markdown",
   "metadata": {},
   "source": [
    "In the last section we talked about scaling for continuous features, which all the features in the cancer dataset were.\n",
    "In the lending club data, we also saw another type of feature, categorical or discrete features. Categorical or discrete features are those can take one of several distinct values that are usually not numerical, and often not even ordered. In the lending club data, examples were the grade, which could be a letter from 'A' to 'G', or home ownership, which could be 'RENT', 'MORTGAGE', 'OWN' or 'ANY'.\n"
   ]
  },
  {
   "cell_type": "code",
   "execution_count": 1,
   "metadata": {},
   "outputs": [],
   "source": [
    "import pandas as pd"
   ]
  },
  {
   "cell_type": "code",
   "execution_count": 2,
   "metadata": {},
   "outputs": [
    {
     "name": "stderr",
     "output_type": "stream",
     "text": [
      "C:\\Users\\t3kci\\anaconda3\\lib\\site-packages\\IPython\\core\\interactiveshell.py:3063: DtypeWarning: Columns (123,124,125,128,129,130,133,139,140,141) have mixed types.Specify dtype option on import or set low_memory=False.\n",
      "  interactivity=interactivity, compiler=compiler, result=result)\n"
     ]
    }
   ],
   "source": [
    "loans = pd.read_csv(\"C:/Users/t3kci/Downloads/loan.csv/loan.csv\", nrows=100000)"
   ]
  },
  {
   "cell_type": "code",
   "execution_count": 3,
   "metadata": {},
   "outputs": [
    {
     "data": {
      "text/plain": [
       "array(['C', 'D', 'B', 'A', 'E', 'F', 'G'], dtype=object)"
      ]
     },
     "execution_count": 3,
     "metadata": {},
     "output_type": "execute_result"
    }
   ],
   "source": [
    "loans.grade.unique()"
   ]
  },
  {
   "cell_type": "code",
   "execution_count": 4,
   "metadata": {},
   "outputs": [
    {
     "data": {
      "text/plain": [
       "array(['RENT', 'MORTGAGE', 'OWN', 'ANY'], dtype=object)"
      ]
     },
     "execution_count": 4,
     "metadata": {},
     "output_type": "execute_result"
    }
   ],
   "source": [
    "loans.home_ownership.unique()"
   ]
  },
  {
   "cell_type": "markdown",
   "metadata": {},
   "source": [
    "Most machine learning algorithms require that we preprocess these features into some numeric encoding before we can use them. For our old friend ``KNeighborsClassifier``, we could in theory define a distance metric on these categorical features (which is certainly possible and many options exist), though the simpler and more common approach is to transform the data so we can use the standard euclidean distance on all the features.\n",
    "Let's take a small subset of the data to investigate the possible preprocessing methods:"
   ]
  },
  {
   "cell_type": "code",
   "execution_count": 5,
   "metadata": {},
   "outputs": [
    {
     "data": {
      "text/html": [
       "<div>\n",
       "<style scoped>\n",
       "    .dataframe tbody tr th:only-of-type {\n",
       "        vertical-align: middle;\n",
       "    }\n",
       "\n",
       "    .dataframe tbody tr th {\n",
       "        vertical-align: top;\n",
       "    }\n",
       "\n",
       "    .dataframe thead th {\n",
       "        text-align: right;\n",
       "    }\n",
       "</style>\n",
       "<table border=\"1\" class=\"dataframe\">\n",
       "  <thead>\n",
       "    <tr style=\"text-align: right;\">\n",
       "      <th></th>\n",
       "      <th>loan_amnt</th>\n",
       "      <th>home_ownership</th>\n",
       "      <th>grade</th>\n",
       "      <th>loan_status</th>\n",
       "    </tr>\n",
       "  </thead>\n",
       "  <tbody>\n",
       "    <tr>\n",
       "      <th>0</th>\n",
       "      <td>8000</td>\n",
       "      <td>MORTGAGE</td>\n",
       "      <td>A</td>\n",
       "      <td>Charged Off</td>\n",
       "    </tr>\n",
       "    <tr>\n",
       "      <th>1</th>\n",
       "      <td>6000</td>\n",
       "      <td>MORTGAGE</td>\n",
       "      <td>C</td>\n",
       "      <td>Charged Off</td>\n",
       "    </tr>\n",
       "    <tr>\n",
       "      <th>2</th>\n",
       "      <td>10000</td>\n",
       "      <td>MORTGAGE</td>\n",
       "      <td>A</td>\n",
       "      <td>Charged Off</td>\n",
       "    </tr>\n",
       "    <tr>\n",
       "      <th>3</th>\n",
       "      <td>10000</td>\n",
       "      <td>RENT</td>\n",
       "      <td>E</td>\n",
       "      <td>Charged Off</td>\n",
       "    </tr>\n",
       "    <tr>\n",
       "      <th>4</th>\n",
       "      <td>35000</td>\n",
       "      <td>MORTGAGE</td>\n",
       "      <td>C</td>\n",
       "      <td>Charged Off</td>\n",
       "    </tr>\n",
       "    <tr>\n",
       "      <th>5</th>\n",
       "      <td>4800</td>\n",
       "      <td>MORTGAGE</td>\n",
       "      <td>C</td>\n",
       "      <td>Charged Off</td>\n",
       "    </tr>\n",
       "    <tr>\n",
       "      <th>6</th>\n",
       "      <td>35000</td>\n",
       "      <td>RENT</td>\n",
       "      <td>C</td>\n",
       "      <td>Charged Off</td>\n",
       "    </tr>\n",
       "    <tr>\n",
       "      <th>7</th>\n",
       "      <td>15000</td>\n",
       "      <td>OWN</td>\n",
       "      <td>B</td>\n",
       "      <td>Charged Off</td>\n",
       "    </tr>\n",
       "    <tr>\n",
       "      <th>8</th>\n",
       "      <td>16000</td>\n",
       "      <td>RENT</td>\n",
       "      <td>B</td>\n",
       "      <td>Charged Off</td>\n",
       "    </tr>\n",
       "    <tr>\n",
       "      <th>9</th>\n",
       "      <td>25000</td>\n",
       "      <td>MORTGAGE</td>\n",
       "      <td>A</td>\n",
       "      <td>Charged Off</td>\n",
       "    </tr>\n",
       "    <tr>\n",
       "      <th>10</th>\n",
       "      <td>30000</td>\n",
       "      <td>MORTGAGE</td>\n",
       "      <td>D</td>\n",
       "      <td>Fully Paid</td>\n",
       "    </tr>\n",
       "    <tr>\n",
       "      <th>11</th>\n",
       "      <td>40000</td>\n",
       "      <td>MORTGAGE</td>\n",
       "      <td>C</td>\n",
       "      <td>Fully Paid</td>\n",
       "    </tr>\n",
       "    <tr>\n",
       "      <th>12</th>\n",
       "      <td>20000</td>\n",
       "      <td>MORTGAGE</td>\n",
       "      <td>A</td>\n",
       "      <td>Fully Paid</td>\n",
       "    </tr>\n",
       "    <tr>\n",
       "      <th>13</th>\n",
       "      <td>4500</td>\n",
       "      <td>RENT</td>\n",
       "      <td>B</td>\n",
       "      <td>Fully Paid</td>\n",
       "    </tr>\n",
       "    <tr>\n",
       "      <th>14</th>\n",
       "      <td>8425</td>\n",
       "      <td>MORTGAGE</td>\n",
       "      <td>E</td>\n",
       "      <td>Fully Paid</td>\n",
       "    </tr>\n",
       "    <tr>\n",
       "      <th>15</th>\n",
       "      <td>20000</td>\n",
       "      <td>RENT</td>\n",
       "      <td>D</td>\n",
       "      <td>Fully Paid</td>\n",
       "    </tr>\n",
       "    <tr>\n",
       "      <th>16</th>\n",
       "      <td>6600</td>\n",
       "      <td>RENT</td>\n",
       "      <td>B</td>\n",
       "      <td>Fully Paid</td>\n",
       "    </tr>\n",
       "    <tr>\n",
       "      <th>17</th>\n",
       "      <td>2500</td>\n",
       "      <td>RENT</td>\n",
       "      <td>C</td>\n",
       "      <td>Fully Paid</td>\n",
       "    </tr>\n",
       "    <tr>\n",
       "      <th>18</th>\n",
       "      <td>4000</td>\n",
       "      <td>MORTGAGE</td>\n",
       "      <td>D</td>\n",
       "      <td>Fully Paid</td>\n",
       "    </tr>\n",
       "    <tr>\n",
       "      <th>19</th>\n",
       "      <td>2700</td>\n",
       "      <td>OWN</td>\n",
       "      <td>A</td>\n",
       "      <td>Fully Paid</td>\n",
       "    </tr>\n",
       "  </tbody>\n",
       "</table>\n",
       "</div>"
      ],
      "text/plain": [
       "    loan_amnt home_ownership grade  loan_status\n",
       "0        8000       MORTGAGE     A  Charged Off\n",
       "1        6000       MORTGAGE     C  Charged Off\n",
       "2       10000       MORTGAGE     A  Charged Off\n",
       "3       10000           RENT     E  Charged Off\n",
       "4       35000       MORTGAGE     C  Charged Off\n",
       "5        4800       MORTGAGE     C  Charged Off\n",
       "6       35000           RENT     C  Charged Off\n",
       "7       15000            OWN     B  Charged Off\n",
       "8       16000           RENT     B  Charged Off\n",
       "9       25000       MORTGAGE     A  Charged Off\n",
       "10      30000       MORTGAGE     D   Fully Paid\n",
       "11      40000       MORTGAGE     C   Fully Paid\n",
       "12      20000       MORTGAGE     A   Fully Paid\n",
       "13       4500           RENT     B   Fully Paid\n",
       "14       8425       MORTGAGE     E   Fully Paid\n",
       "15      20000           RENT     D   Fully Paid\n",
       "16       6600           RENT     B   Fully Paid\n",
       "17       2500           RENT     C   Fully Paid\n",
       "18       4000       MORTGAGE     D   Fully Paid\n",
       "19       2700            OWN     A   Fully Paid"
      ]
     },
     "execution_count": 5,
     "metadata": {},
     "output_type": "execute_result"
    }
   ],
   "source": [
    "# look only at the two loan statuses we discussed in Chapter TODO\n",
    "loans_paid = loans[loans.loan_status.isin(['Fully Paid', 'Charged Off'])]\n",
    "# For this example, we want some paid and some charged off loans\n",
    "# we group them to make sure we get some of both. We then take the first 10 and remove the grouping index\n",
    "some_loans = loans_paid.groupby('loan_status').apply(lambda x: x.head(10)).reset_index(drop=True)\n",
    "# we only consider three relatively well-behaved features and the loan status\n",
    "small_data = some_loans[['loan_amnt', 'home_ownership', 'grade', 'loan_status']]\n",
    "small_data"
   ]
  },
  {
   "cell_type": "markdown",
   "metadata": {},
   "source": [
    "The loan amount is a continuous feature; it's an integer amount, but grade and home ownership are categorical. The loan_status is our classification target (which means it's also a discrete variable, but we don't consider it a feature and won't process it as such).\n",
    "Scikit-learn requires you to explicitly handle categorical features in most cases, which is unlike some other libraries and frameworks. However, that gives you more control over the processing, and a better idea of what happens to your data.\n",
    "\n",
    "The encoding that is most appropriate depends on the model you're using, but there are some general encoding schemes that are frequently used."
   ]
  },
  {
   "cell_type": "markdown",
   "metadata": {},
   "source": [
    "## Ordinal (or integer) encoding\n",
    "One of the simplest ways to encode categorical data is to assign an integer to each category. You could do this with the ``OrdinalEncoder`` in scikit-learn, or with pandas by using pandas categorical data:"
   ]
  },
  {
   "cell_type": "code",
   "execution_count": 6,
   "metadata": {},
   "outputs": [
    {
     "data": {
      "text/plain": [
       "0     MORTGAGE\n",
       "1     MORTGAGE\n",
       "2     MORTGAGE\n",
       "3         RENT\n",
       "4     MORTGAGE\n",
       "5     MORTGAGE\n",
       "6         RENT\n",
       "7          OWN\n",
       "8         RENT\n",
       "9     MORTGAGE\n",
       "10    MORTGAGE\n",
       "11    MORTGAGE\n",
       "12    MORTGAGE\n",
       "13        RENT\n",
       "14    MORTGAGE\n",
       "15        RENT\n",
       "16        RENT\n",
       "17        RENT\n",
       "18    MORTGAGE\n",
       "19         OWN\n",
       "Name: home_ownership, dtype: category\n",
       "Categories (3, object): [MORTGAGE, OWN, RENT]"
      ]
     },
     "execution_count": 6,
     "metadata": {},
     "output_type": "execute_result"
    }
   ],
   "source": [
    "# extract a column and convert it to categorical data (it was represented as strings before)\n",
    "home_ownership_cat = small_data.home_ownership.astype('category')\n",
    "home_ownership_cat"
   ]
  },
  {
   "cell_type": "code",
   "execution_count": 7,
   "metadata": {},
   "outputs": [
    {
     "data": {
      "text/plain": [
       "0     0\n",
       "1     0\n",
       "2     0\n",
       "3     2\n",
       "4     0\n",
       "5     0\n",
       "6     2\n",
       "7     1\n",
       "8     2\n",
       "9     0\n",
       "10    0\n",
       "11    0\n",
       "12    0\n",
       "13    2\n",
       "14    0\n",
       "15    2\n",
       "16    2\n",
       "17    2\n",
       "18    0\n",
       "19    1\n",
       "dtype: int8"
      ]
     },
     "execution_count": 7,
     "metadata": {},
     "output_type": "execute_result"
    }
   ],
   "source": [
    "# get integer codes from the categorical data\n",
    "# all categorical operations are accessible through the cat attribute:\n",
    "home_ownership_cat.cat.codes"
   ]
  },
  {
   "cell_type": "markdown",
   "metadata": {},
   "source": [
    "We could create a new dataframe using these integer codes, which now could be interpreted by a machine learning model. However, this is often problematic as this imposes an order and a distance between the different categories, that might not accurately reflect the semantics of the data. Both pandas and scikit-learn by default use the lexical ordering of categories, so MORTGAGE corresponds to 0, OWN to 1 and RENT to 2. This order makes little sense. We could specify our own ordering, say RENT, MORTGAGE, OWN (describing degrees of ownership) but this is also not entirely satisfactory: if we encode it using integers, we postulate that the difference between RENT and MORTGAGE is the same as the difference between MORTGAGE and OWN, and the difference between RENT and OWN is twice the distance between MORTGAGE and OWN. Making these assumption seems somewhat questionable, and in many cases, even ordering the categories might be hard - imagine working on a dataset of cars that includes the color, imposing any ordering there seems very arbitray."
   ]
  },
  {
   "cell_type": "markdown",
   "metadata": {},
   "source": [
    "For the grades, using integer encodings might be reasonable, as there is a clear ordering and distance. Whether this is appropriate might depend on the model you are using. If there is very few categories, such as here, it's probably a safer bet to forego the ordinal encoding and use a different scheme instead."
   ]
  },
  {
   "cell_type": "markdown",
   "metadata": {},
   "source": [
    "## One-Hot (Dummy) Encoding\n",
    "\n",
    "The most commonly used encoding scheme for categorical variables by far is the so-called one-hot encoding or dummy encoding. The idea behind one-hot encoding is to add a new column for each value of a categorical variable, and set the column to 1 for the category that applies to the row, and 0 for all the other categories. An easy way to compute this encoding is the ``get_dummies`` function in pandas:"
   ]
  },
  {
   "cell_type": "code",
   "execution_count": 8,
   "metadata": {},
   "outputs": [
    {
     "data": {
      "text/html": [
       "<div>\n",
       "<style scoped>\n",
       "    .dataframe tbody tr th:only-of-type {\n",
       "        vertical-align: middle;\n",
       "    }\n",
       "\n",
       "    .dataframe tbody tr th {\n",
       "        vertical-align: top;\n",
       "    }\n",
       "\n",
       "    .dataframe thead th {\n",
       "        text-align: right;\n",
       "    }\n",
       "</style>\n",
       "<table border=\"1\" class=\"dataframe\">\n",
       "  <thead>\n",
       "    <tr style=\"text-align: right;\">\n",
       "      <th></th>\n",
       "      <th>grade</th>\n",
       "    </tr>\n",
       "  </thead>\n",
       "  <tbody>\n",
       "    <tr>\n",
       "      <th>0</th>\n",
       "      <td>A</td>\n",
       "    </tr>\n",
       "    <tr>\n",
       "      <th>1</th>\n",
       "      <td>C</td>\n",
       "    </tr>\n",
       "    <tr>\n",
       "      <th>2</th>\n",
       "      <td>A</td>\n",
       "    </tr>\n",
       "    <tr>\n",
       "      <th>3</th>\n",
       "      <td>E</td>\n",
       "    </tr>\n",
       "    <tr>\n",
       "      <th>4</th>\n",
       "      <td>C</td>\n",
       "    </tr>\n",
       "  </tbody>\n",
       "</table>\n",
       "</div>"
      ],
      "text/plain": [
       "  grade\n",
       "0     A\n",
       "1     C\n",
       "2     A\n",
       "3     E\n",
       "4     C"
      ]
     },
     "execution_count": 8,
     "metadata": {},
     "output_type": "execute_result"
    }
   ],
   "source": [
    "small_data[['grade']].head()"
   ]
  },
  {
   "cell_type": "code",
   "execution_count": 9,
   "metadata": {},
   "outputs": [
    {
     "data": {
      "text/html": [
       "<div>\n",
       "<style scoped>\n",
       "    .dataframe tbody tr th:only-of-type {\n",
       "        vertical-align: middle;\n",
       "    }\n",
       "\n",
       "    .dataframe tbody tr th {\n",
       "        vertical-align: top;\n",
       "    }\n",
       "\n",
       "    .dataframe thead th {\n",
       "        text-align: right;\n",
       "    }\n",
       "</style>\n",
       "<table border=\"1\" class=\"dataframe\">\n",
       "  <thead>\n",
       "    <tr style=\"text-align: right;\">\n",
       "      <th></th>\n",
       "      <th>grade_A</th>\n",
       "      <th>grade_B</th>\n",
       "      <th>grade_C</th>\n",
       "      <th>grade_D</th>\n",
       "      <th>grade_E</th>\n",
       "    </tr>\n",
       "  </thead>\n",
       "  <tbody>\n",
       "    <tr>\n",
       "      <th>0</th>\n",
       "      <td>1</td>\n",
       "      <td>0</td>\n",
       "      <td>0</td>\n",
       "      <td>0</td>\n",
       "      <td>0</td>\n",
       "    </tr>\n",
       "    <tr>\n",
       "      <th>1</th>\n",
       "      <td>0</td>\n",
       "      <td>0</td>\n",
       "      <td>1</td>\n",
       "      <td>0</td>\n",
       "      <td>0</td>\n",
       "    </tr>\n",
       "    <tr>\n",
       "      <th>2</th>\n",
       "      <td>1</td>\n",
       "      <td>0</td>\n",
       "      <td>0</td>\n",
       "      <td>0</td>\n",
       "      <td>0</td>\n",
       "    </tr>\n",
       "    <tr>\n",
       "      <th>3</th>\n",
       "      <td>0</td>\n",
       "      <td>0</td>\n",
       "      <td>0</td>\n",
       "      <td>0</td>\n",
       "      <td>1</td>\n",
       "    </tr>\n",
       "    <tr>\n",
       "      <th>4</th>\n",
       "      <td>0</td>\n",
       "      <td>0</td>\n",
       "      <td>1</td>\n",
       "      <td>0</td>\n",
       "      <td>0</td>\n",
       "    </tr>\n",
       "  </tbody>\n",
       "</table>\n",
       "</div>"
      ],
      "text/plain": [
       "   grade_A  grade_B  grade_C  grade_D  grade_E\n",
       "0        1        0        0        0        0\n",
       "1        0        0        1        0        0\n",
       "2        1        0        0        0        0\n",
       "3        0        0        0        0        1\n",
       "4        0        0        1        0        0"
      ]
     },
     "execution_count": 9,
     "metadata": {},
     "output_type": "execute_result"
    }
   ],
   "source": [
    "pd.get_dummies(small_data[['grade']]).head()"
   ]
  },
  {
   "cell_type": "markdown",
   "metadata": {},
   "source": [
    "As you can see, ``get_dummies`` replaced the one column ``grade`` by five columns, one for each possible value. The original value for the grade of first row was ``A`` so the new column ``grade_A`` has a 1, while all the other columns have a 0.\n",
    "We can also call ``get_dummies`` on the whole dataframe. In this case, it will apply dummy encoding to all the columns that have either categorical data or objects (including strings):"
   ]
  },
  {
   "cell_type": "code",
   "execution_count": 10,
   "metadata": {},
   "outputs": [
    {
     "data": {
      "text/html": [
       "<div>\n",
       "<style scoped>\n",
       "    .dataframe tbody tr th:only-of-type {\n",
       "        vertical-align: middle;\n",
       "    }\n",
       "\n",
       "    .dataframe tbody tr th {\n",
       "        vertical-align: top;\n",
       "    }\n",
       "\n",
       "    .dataframe thead th {\n",
       "        text-align: right;\n",
       "    }\n",
       "</style>\n",
       "<table border=\"1\" class=\"dataframe\">\n",
       "  <thead>\n",
       "    <tr style=\"text-align: right;\">\n",
       "      <th></th>\n",
       "      <th>loan_amnt</th>\n",
       "      <th>home_ownership_MORTGAGE</th>\n",
       "      <th>home_ownership_OWN</th>\n",
       "      <th>home_ownership_RENT</th>\n",
       "      <th>grade_A</th>\n",
       "      <th>grade_B</th>\n",
       "      <th>grade_C</th>\n",
       "      <th>grade_D</th>\n",
       "      <th>grade_E</th>\n",
       "      <th>loan_status_Charged Off</th>\n",
       "      <th>loan_status_Fully Paid</th>\n",
       "    </tr>\n",
       "  </thead>\n",
       "  <tbody>\n",
       "    <tr>\n",
       "      <th>0</th>\n",
       "      <td>8000</td>\n",
       "      <td>1</td>\n",
       "      <td>0</td>\n",
       "      <td>0</td>\n",
       "      <td>1</td>\n",
       "      <td>0</td>\n",
       "      <td>0</td>\n",
       "      <td>0</td>\n",
       "      <td>0</td>\n",
       "      <td>1</td>\n",
       "      <td>0</td>\n",
       "    </tr>\n",
       "    <tr>\n",
       "      <th>1</th>\n",
       "      <td>6000</td>\n",
       "      <td>1</td>\n",
       "      <td>0</td>\n",
       "      <td>0</td>\n",
       "      <td>0</td>\n",
       "      <td>0</td>\n",
       "      <td>1</td>\n",
       "      <td>0</td>\n",
       "      <td>0</td>\n",
       "      <td>1</td>\n",
       "      <td>0</td>\n",
       "    </tr>\n",
       "    <tr>\n",
       "      <th>2</th>\n",
       "      <td>10000</td>\n",
       "      <td>1</td>\n",
       "      <td>0</td>\n",
       "      <td>0</td>\n",
       "      <td>1</td>\n",
       "      <td>0</td>\n",
       "      <td>0</td>\n",
       "      <td>0</td>\n",
       "      <td>0</td>\n",
       "      <td>1</td>\n",
       "      <td>0</td>\n",
       "    </tr>\n",
       "    <tr>\n",
       "      <th>3</th>\n",
       "      <td>10000</td>\n",
       "      <td>0</td>\n",
       "      <td>0</td>\n",
       "      <td>1</td>\n",
       "      <td>0</td>\n",
       "      <td>0</td>\n",
       "      <td>0</td>\n",
       "      <td>0</td>\n",
       "      <td>1</td>\n",
       "      <td>1</td>\n",
       "      <td>0</td>\n",
       "    </tr>\n",
       "    <tr>\n",
       "      <th>4</th>\n",
       "      <td>35000</td>\n",
       "      <td>1</td>\n",
       "      <td>0</td>\n",
       "      <td>0</td>\n",
       "      <td>0</td>\n",
       "      <td>0</td>\n",
       "      <td>1</td>\n",
       "      <td>0</td>\n",
       "      <td>0</td>\n",
       "      <td>1</td>\n",
       "      <td>0</td>\n",
       "    </tr>\n",
       "  </tbody>\n",
       "</table>\n",
       "</div>"
      ],
      "text/plain": [
       "   loan_amnt  home_ownership_MORTGAGE  home_ownership_OWN  \\\n",
       "0       8000                        1                   0   \n",
       "1       6000                        1                   0   \n",
       "2      10000                        1                   0   \n",
       "3      10000                        0                   0   \n",
       "4      35000                        1                   0   \n",
       "\n",
       "   home_ownership_RENT  grade_A  grade_B  grade_C  grade_D  grade_E  \\\n",
       "0                    0        1        0        0        0        0   \n",
       "1                    0        0        0        1        0        0   \n",
       "2                    0        1        0        0        0        0   \n",
       "3                    1        0        0        0        0        1   \n",
       "4                    0        0        0        1        0        0   \n",
       "\n",
       "   loan_status_Charged Off  loan_status_Fully Paid  \n",
       "0                        1                       0  \n",
       "1                        1                       0  \n",
       "2                        1                       0  \n",
       "3                        1                       0  \n",
       "4                        1                       0  "
      ]
     },
     "execution_count": 10,
     "metadata": {},
     "output_type": "execute_result"
    }
   ],
   "source": [
    "pd.get_dummies(small_data).head()"
   ]
  },
  {
   "cell_type": "markdown",
   "metadata": {},
   "source": [
    "As you can see, ``loan_amnt`` wasn't changed, while the dummy encoding was applied to all the other columns, including the target ``loan_status``. As we don't want to encode this column, we can explicitly provide the columns that we want to encode:"
   ]
  },
  {
   "cell_type": "code",
   "execution_count": 11,
   "metadata": {},
   "outputs": [
    {
     "data": {
      "text/html": [
       "<div>\n",
       "<style scoped>\n",
       "    .dataframe tbody tr th:only-of-type {\n",
       "        vertical-align: middle;\n",
       "    }\n",
       "\n",
       "    .dataframe tbody tr th {\n",
       "        vertical-align: top;\n",
       "    }\n",
       "\n",
       "    .dataframe thead th {\n",
       "        text-align: right;\n",
       "    }\n",
       "</style>\n",
       "<table border=\"1\" class=\"dataframe\">\n",
       "  <thead>\n",
       "    <tr style=\"text-align: right;\">\n",
       "      <th></th>\n",
       "      <th>loan_amnt</th>\n",
       "      <th>loan_status</th>\n",
       "      <th>home_ownership_MORTGAGE</th>\n",
       "      <th>home_ownership_OWN</th>\n",
       "      <th>home_ownership_RENT</th>\n",
       "      <th>grade_A</th>\n",
       "      <th>grade_B</th>\n",
       "      <th>grade_C</th>\n",
       "      <th>grade_D</th>\n",
       "      <th>grade_E</th>\n",
       "    </tr>\n",
       "  </thead>\n",
       "  <tbody>\n",
       "    <tr>\n",
       "      <th>0</th>\n",
       "      <td>8000</td>\n",
       "      <td>Charged Off</td>\n",
       "      <td>1</td>\n",
       "      <td>0</td>\n",
       "      <td>0</td>\n",
       "      <td>1</td>\n",
       "      <td>0</td>\n",
       "      <td>0</td>\n",
       "      <td>0</td>\n",
       "      <td>0</td>\n",
       "    </tr>\n",
       "    <tr>\n",
       "      <th>1</th>\n",
       "      <td>6000</td>\n",
       "      <td>Charged Off</td>\n",
       "      <td>1</td>\n",
       "      <td>0</td>\n",
       "      <td>0</td>\n",
       "      <td>0</td>\n",
       "      <td>0</td>\n",
       "      <td>1</td>\n",
       "      <td>0</td>\n",
       "      <td>0</td>\n",
       "    </tr>\n",
       "    <tr>\n",
       "      <th>2</th>\n",
       "      <td>10000</td>\n",
       "      <td>Charged Off</td>\n",
       "      <td>1</td>\n",
       "      <td>0</td>\n",
       "      <td>0</td>\n",
       "      <td>1</td>\n",
       "      <td>0</td>\n",
       "      <td>0</td>\n",
       "      <td>0</td>\n",
       "      <td>0</td>\n",
       "    </tr>\n",
       "    <tr>\n",
       "      <th>3</th>\n",
       "      <td>10000</td>\n",
       "      <td>Charged Off</td>\n",
       "      <td>0</td>\n",
       "      <td>0</td>\n",
       "      <td>1</td>\n",
       "      <td>0</td>\n",
       "      <td>0</td>\n",
       "      <td>0</td>\n",
       "      <td>0</td>\n",
       "      <td>1</td>\n",
       "    </tr>\n",
       "    <tr>\n",
       "      <th>4</th>\n",
       "      <td>35000</td>\n",
       "      <td>Charged Off</td>\n",
       "      <td>1</td>\n",
       "      <td>0</td>\n",
       "      <td>0</td>\n",
       "      <td>0</td>\n",
       "      <td>0</td>\n",
       "      <td>1</td>\n",
       "      <td>0</td>\n",
       "      <td>0</td>\n",
       "    </tr>\n",
       "  </tbody>\n",
       "</table>\n",
       "</div>"
      ],
      "text/plain": [
       "   loan_amnt  loan_status  home_ownership_MORTGAGE  home_ownership_OWN  \\\n",
       "0       8000  Charged Off                        1                   0   \n",
       "1       6000  Charged Off                        1                   0   \n",
       "2      10000  Charged Off                        1                   0   \n",
       "3      10000  Charged Off                        0                   0   \n",
       "4      35000  Charged Off                        1                   0   \n",
       "\n",
       "   home_ownership_RENT  grade_A  grade_B  grade_C  grade_D  grade_E  \n",
       "0                    0        1        0        0        0        0  \n",
       "1                    0        0        0        1        0        0  \n",
       "2                    0        1        0        0        0        0  \n",
       "3                    1        0        0        0        0        1  \n",
       "4                    0        0        0        1        0        0  "
      ]
     },
     "execution_count": 11,
     "metadata": {},
     "output_type": "execute_result"
    }
   ],
   "source": [
    "pd.get_dummies(small_data, columns=['home_ownership', 'grade']).head()"
   ]
  },
  {
   "cell_type": "markdown",
   "metadata": {},
   "source": [
    "```{note}\n",
    "If a categorical variable was already represented as an integer you can force pandas to apply dummy encoding by passing the column name to the ``columns`` parameter of ``pd.get_dummies``.\n",
    "```"
   ]
  },
  {
   "cell_type": "markdown",
   "metadata": {},
   "source": [
    "### Aligning dataframes with pandas\n",
    "A common problem in using ``get_dummies`` is that if you have multiple datasets or files, and you call ``get_dummies`` on each of them, you might get inconsistent encodings.\n",
    "Let's split our toy data into training and test set and apply ``get_dummies`` on them separately:"
   ]
  },
  {
   "cell_type": "code",
   "execution_count": 12,
   "metadata": {},
   "outputs": [
    {
     "data": {
      "text/html": [
       "<div>\n",
       "<style scoped>\n",
       "    .dataframe tbody tr th:only-of-type {\n",
       "        vertical-align: middle;\n",
       "    }\n",
       "\n",
       "    .dataframe tbody tr th {\n",
       "        vertical-align: top;\n",
       "    }\n",
       "\n",
       "    .dataframe thead th {\n",
       "        text-align: right;\n",
       "    }\n",
       "</style>\n",
       "<table border=\"1\" class=\"dataframe\">\n",
       "  <thead>\n",
       "    <tr style=\"text-align: right;\">\n",
       "      <th></th>\n",
       "      <th>loan_amnt</th>\n",
       "      <th>loan_status</th>\n",
       "      <th>home_ownership_MORTGAGE</th>\n",
       "      <th>home_ownership_RENT</th>\n",
       "      <th>grade_A</th>\n",
       "      <th>grade_B</th>\n",
       "      <th>grade_C</th>\n",
       "      <th>grade_D</th>\n",
       "      <th>grade_E</th>\n",
       "    </tr>\n",
       "  </thead>\n",
       "  <tbody>\n",
       "    <tr>\n",
       "      <th>17</th>\n",
       "      <td>2500</td>\n",
       "      <td>Fully Paid</td>\n",
       "      <td>0</td>\n",
       "      <td>1</td>\n",
       "      <td>0</td>\n",
       "      <td>0</td>\n",
       "      <td>1</td>\n",
       "      <td>0</td>\n",
       "      <td>0</td>\n",
       "    </tr>\n",
       "    <tr>\n",
       "      <th>18</th>\n",
       "      <td>4000</td>\n",
       "      <td>Fully Paid</td>\n",
       "      <td>1</td>\n",
       "      <td>0</td>\n",
       "      <td>0</td>\n",
       "      <td>0</td>\n",
       "      <td>0</td>\n",
       "      <td>1</td>\n",
       "      <td>0</td>\n",
       "    </tr>\n",
       "    <tr>\n",
       "      <th>11</th>\n",
       "      <td>40000</td>\n",
       "      <td>Fully Paid</td>\n",
       "      <td>1</td>\n",
       "      <td>0</td>\n",
       "      <td>0</td>\n",
       "      <td>0</td>\n",
       "      <td>1</td>\n",
       "      <td>0</td>\n",
       "      <td>0</td>\n",
       "    </tr>\n",
       "    <tr>\n",
       "      <th>6</th>\n",
       "      <td>35000</td>\n",
       "      <td>Charged Off</td>\n",
       "      <td>0</td>\n",
       "      <td>1</td>\n",
       "      <td>0</td>\n",
       "      <td>0</td>\n",
       "      <td>1</td>\n",
       "      <td>0</td>\n",
       "      <td>0</td>\n",
       "    </tr>\n",
       "    <tr>\n",
       "      <th>14</th>\n",
       "      <td>8425</td>\n",
       "      <td>Fully Paid</td>\n",
       "      <td>1</td>\n",
       "      <td>0</td>\n",
       "      <td>0</td>\n",
       "      <td>0</td>\n",
       "      <td>0</td>\n",
       "      <td>0</td>\n",
       "      <td>1</td>\n",
       "    </tr>\n",
       "    <tr>\n",
       "      <th>1</th>\n",
       "      <td>6000</td>\n",
       "      <td>Charged Off</td>\n",
       "      <td>1</td>\n",
       "      <td>0</td>\n",
       "      <td>0</td>\n",
       "      <td>0</td>\n",
       "      <td>1</td>\n",
       "      <td>0</td>\n",
       "      <td>0</td>\n",
       "    </tr>\n",
       "    <tr>\n",
       "      <th>2</th>\n",
       "      <td>10000</td>\n",
       "      <td>Charged Off</td>\n",
       "      <td>1</td>\n",
       "      <td>0</td>\n",
       "      <td>1</td>\n",
       "      <td>0</td>\n",
       "      <td>0</td>\n",
       "      <td>0</td>\n",
       "      <td>0</td>\n",
       "    </tr>\n",
       "    <tr>\n",
       "      <th>12</th>\n",
       "      <td>20000</td>\n",
       "      <td>Fully Paid</td>\n",
       "      <td>1</td>\n",
       "      <td>0</td>\n",
       "      <td>1</td>\n",
       "      <td>0</td>\n",
       "      <td>0</td>\n",
       "      <td>0</td>\n",
       "      <td>0</td>\n",
       "    </tr>\n",
       "    <tr>\n",
       "      <th>3</th>\n",
       "      <td>10000</td>\n",
       "      <td>Charged Off</td>\n",
       "      <td>0</td>\n",
       "      <td>1</td>\n",
       "      <td>0</td>\n",
       "      <td>0</td>\n",
       "      <td>0</td>\n",
       "      <td>0</td>\n",
       "      <td>1</td>\n",
       "    </tr>\n",
       "    <tr>\n",
       "      <th>8</th>\n",
       "      <td>16000</td>\n",
       "      <td>Charged Off</td>\n",
       "      <td>0</td>\n",
       "      <td>1</td>\n",
       "      <td>0</td>\n",
       "      <td>1</td>\n",
       "      <td>0</td>\n",
       "      <td>0</td>\n",
       "      <td>0</td>\n",
       "    </tr>\n",
       "    <tr>\n",
       "      <th>0</th>\n",
       "      <td>8000</td>\n",
       "      <td>Charged Off</td>\n",
       "      <td>1</td>\n",
       "      <td>0</td>\n",
       "      <td>1</td>\n",
       "      <td>0</td>\n",
       "      <td>0</td>\n",
       "      <td>0</td>\n",
       "      <td>0</td>\n",
       "    </tr>\n",
       "    <tr>\n",
       "      <th>16</th>\n",
       "      <td>6600</td>\n",
       "      <td>Fully Paid</td>\n",
       "      <td>0</td>\n",
       "      <td>1</td>\n",
       "      <td>0</td>\n",
       "      <td>1</td>\n",
       "      <td>0</td>\n",
       "      <td>0</td>\n",
       "      <td>0</td>\n",
       "    </tr>\n",
       "    <tr>\n",
       "      <th>4</th>\n",
       "      <td>35000</td>\n",
       "      <td>Charged Off</td>\n",
       "      <td>1</td>\n",
       "      <td>0</td>\n",
       "      <td>0</td>\n",
       "      <td>0</td>\n",
       "      <td>1</td>\n",
       "      <td>0</td>\n",
       "      <td>0</td>\n",
       "    </tr>\n",
       "    <tr>\n",
       "      <th>15</th>\n",
       "      <td>20000</td>\n",
       "      <td>Fully Paid</td>\n",
       "      <td>0</td>\n",
       "      <td>1</td>\n",
       "      <td>0</td>\n",
       "      <td>0</td>\n",
       "      <td>0</td>\n",
       "      <td>1</td>\n",
       "      <td>0</td>\n",
       "    </tr>\n",
       "    <tr>\n",
       "      <th>9</th>\n",
       "      <td>25000</td>\n",
       "      <td>Charged Off</td>\n",
       "      <td>1</td>\n",
       "      <td>0</td>\n",
       "      <td>1</td>\n",
       "      <td>0</td>\n",
       "      <td>0</td>\n",
       "      <td>0</td>\n",
       "      <td>0</td>\n",
       "    </tr>\n",
       "  </tbody>\n",
       "</table>\n",
       "</div>"
      ],
      "text/plain": [
       "    loan_amnt  loan_status  home_ownership_MORTGAGE  home_ownership_RENT  \\\n",
       "17       2500   Fully Paid                        0                    1   \n",
       "18       4000   Fully Paid                        1                    0   \n",
       "11      40000   Fully Paid                        1                    0   \n",
       "6       35000  Charged Off                        0                    1   \n",
       "14       8425   Fully Paid                        1                    0   \n",
       "1        6000  Charged Off                        1                    0   \n",
       "2       10000  Charged Off                        1                    0   \n",
       "12      20000   Fully Paid                        1                    0   \n",
       "3       10000  Charged Off                        0                    1   \n",
       "8       16000  Charged Off                        0                    1   \n",
       "0        8000  Charged Off                        1                    0   \n",
       "16       6600   Fully Paid                        0                    1   \n",
       "4       35000  Charged Off                        1                    0   \n",
       "15      20000   Fully Paid                        0                    1   \n",
       "9       25000  Charged Off                        1                    0   \n",
       "\n",
       "    grade_A  grade_B  grade_C  grade_D  grade_E  \n",
       "17        0        0        1        0        0  \n",
       "18        0        0        0        1        0  \n",
       "11        0        0        1        0        0  \n",
       "6         0        0        1        0        0  \n",
       "14        0        0        0        0        1  \n",
       "1         0        0        1        0        0  \n",
       "2         1        0        0        0        0  \n",
       "12        1        0        0        0        0  \n",
       "3         0        0        0        0        1  \n",
       "8         0        1        0        0        0  \n",
       "0         1        0        0        0        0  \n",
       "16        0        1        0        0        0  \n",
       "4         0        0        1        0        0  \n",
       "15        0        0        0        1        0  \n",
       "9         1        0        0        0        0  "
      ]
     },
     "execution_count": 12,
     "metadata": {},
     "output_type": "execute_result"
    }
   ],
   "source": [
    "from sklearn.model_selection import train_test_split\n",
    "small_train, small_test = train_test_split(small_data, random_state=21)\n",
    "# To avoid setting with copy warnings we copy the data after splitting\n",
    "# this is probably not necessary\n",
    "small_train = small_train.copy()\n",
    "small_test = small_test.copy()\n",
    "pd.get_dummies(small_train, columns=['home_ownership', 'grade'])"
   ]
  },
  {
   "cell_type": "code",
   "execution_count": 13,
   "metadata": {},
   "outputs": [
    {
     "data": {
      "text/html": [
       "<div>\n",
       "<style scoped>\n",
       "    .dataframe tbody tr th:only-of-type {\n",
       "        vertical-align: middle;\n",
       "    }\n",
       "\n",
       "    .dataframe tbody tr th {\n",
       "        vertical-align: top;\n",
       "    }\n",
       "\n",
       "    .dataframe thead th {\n",
       "        text-align: right;\n",
       "    }\n",
       "</style>\n",
       "<table border=\"1\" class=\"dataframe\">\n",
       "  <thead>\n",
       "    <tr style=\"text-align: right;\">\n",
       "      <th></th>\n",
       "      <th>loan_amnt</th>\n",
       "      <th>loan_status</th>\n",
       "      <th>home_ownership_MORTGAGE</th>\n",
       "      <th>home_ownership_OWN</th>\n",
       "      <th>home_ownership_RENT</th>\n",
       "      <th>grade_A</th>\n",
       "      <th>grade_B</th>\n",
       "      <th>grade_C</th>\n",
       "      <th>grade_D</th>\n",
       "    </tr>\n",
       "  </thead>\n",
       "  <tbody>\n",
       "    <tr>\n",
       "      <th>7</th>\n",
       "      <td>15000</td>\n",
       "      <td>Charged Off</td>\n",
       "      <td>0</td>\n",
       "      <td>1</td>\n",
       "      <td>0</td>\n",
       "      <td>0</td>\n",
       "      <td>1</td>\n",
       "      <td>0</td>\n",
       "      <td>0</td>\n",
       "    </tr>\n",
       "    <tr>\n",
       "      <th>10</th>\n",
       "      <td>30000</td>\n",
       "      <td>Fully Paid</td>\n",
       "      <td>1</td>\n",
       "      <td>0</td>\n",
       "      <td>0</td>\n",
       "      <td>0</td>\n",
       "      <td>0</td>\n",
       "      <td>0</td>\n",
       "      <td>1</td>\n",
       "    </tr>\n",
       "    <tr>\n",
       "      <th>19</th>\n",
       "      <td>2700</td>\n",
       "      <td>Fully Paid</td>\n",
       "      <td>0</td>\n",
       "      <td>1</td>\n",
       "      <td>0</td>\n",
       "      <td>1</td>\n",
       "      <td>0</td>\n",
       "      <td>0</td>\n",
       "      <td>0</td>\n",
       "    </tr>\n",
       "    <tr>\n",
       "      <th>13</th>\n",
       "      <td>4500</td>\n",
       "      <td>Fully Paid</td>\n",
       "      <td>0</td>\n",
       "      <td>0</td>\n",
       "      <td>1</td>\n",
       "      <td>0</td>\n",
       "      <td>1</td>\n",
       "      <td>0</td>\n",
       "      <td>0</td>\n",
       "    </tr>\n",
       "    <tr>\n",
       "      <th>5</th>\n",
       "      <td>4800</td>\n",
       "      <td>Charged Off</td>\n",
       "      <td>1</td>\n",
       "      <td>0</td>\n",
       "      <td>0</td>\n",
       "      <td>0</td>\n",
       "      <td>0</td>\n",
       "      <td>1</td>\n",
       "      <td>0</td>\n",
       "    </tr>\n",
       "  </tbody>\n",
       "</table>\n",
       "</div>"
      ],
      "text/plain": [
       "    loan_amnt  loan_status  home_ownership_MORTGAGE  home_ownership_OWN  \\\n",
       "7       15000  Charged Off                        0                   1   \n",
       "10      30000   Fully Paid                        1                   0   \n",
       "19       2700   Fully Paid                        0                   1   \n",
       "13       4500   Fully Paid                        0                   0   \n",
       "5        4800  Charged Off                        1                   0   \n",
       "\n",
       "    home_ownership_RENT  grade_A  grade_B  grade_C  grade_D  \n",
       "7                     0        0        1        0        0  \n",
       "10                    0        0        0        0        1  \n",
       "19                    0        1        0        0        0  \n",
       "13                    1        0        1        0        0  \n",
       "5                     0        0        0        1        0  "
      ]
     },
     "execution_count": 13,
     "metadata": {},
     "output_type": "execute_result"
    }
   ],
   "source": [
    "pd.get_dummies(small_test, columns=['home_ownership', 'grade'])"
   ]
  },
  {
   "cell_type": "markdown",
   "metadata": {},
   "source": [
    "Both of the dataframes have seven columns, but the meaning of the columns is quite different. The training set doesn't have a column for ``home_ownership=OWN`` while the test set doesn't have a column for ``grade=E``.\n",
    "However, remember that scikit-learn doesn't know about column names in dataframes, so if you'd passed this data directly into scikit-learn, you would get meaningless predictions without knowing it! TODO callout?\n",
    "\n",
    "There's several ways to avoid this; the easiest is to use ``get_dummies`` before splitting the data, that might not be possible if new data arrives and you want to apply an existing model.\n",
    "Another way is to encode all categorical variables using the pandas categorical type, and specifying all the known categories:"
   ]
  },
  {
   "cell_type": "code",
   "execution_count": 14,
   "metadata": {},
   "outputs": [],
   "source": [
    "ownership_cats = ['MORTGAGE', 'OWN', 'RENT']\n",
    "grade_cats = ['A', 'B', 'C', 'D', 'E']\n",
    "\n",
    "small_test_explicit_cats = small_test.copy()\n",
    "small_test_explicit_cats['home_ownership'] = pd.Categorical(small_test_explicit_cats['home_ownership'], categories=ownership_cats)\n",
    "small_test_explicit_cats['grade'] = pd.Categorical(small_test_explicit_cats['grade'], categories=grade_cats)"
   ]
  },
  {
   "cell_type": "markdown",
   "metadata": {},
   "source": [
    "Now the columns are aware of all possible values, and all of them will receive a column, whether the value is present or not (not the all-zero column `grade_E`):"
   ]
  },
  {
   "cell_type": "code",
   "execution_count": 15,
   "metadata": {},
   "outputs": [
    {
     "data": {
      "text/html": [
       "<div>\n",
       "<style scoped>\n",
       "    .dataframe tbody tr th:only-of-type {\n",
       "        vertical-align: middle;\n",
       "    }\n",
       "\n",
       "    .dataframe tbody tr th {\n",
       "        vertical-align: top;\n",
       "    }\n",
       "\n",
       "    .dataframe thead th {\n",
       "        text-align: right;\n",
       "    }\n",
       "</style>\n",
       "<table border=\"1\" class=\"dataframe\">\n",
       "  <thead>\n",
       "    <tr style=\"text-align: right;\">\n",
       "      <th></th>\n",
       "      <th>loan_amnt</th>\n",
       "      <th>loan_status</th>\n",
       "      <th>home_ownership_MORTGAGE</th>\n",
       "      <th>home_ownership_OWN</th>\n",
       "      <th>home_ownership_RENT</th>\n",
       "      <th>grade_A</th>\n",
       "      <th>grade_B</th>\n",
       "      <th>grade_C</th>\n",
       "      <th>grade_D</th>\n",
       "      <th>grade_E</th>\n",
       "    </tr>\n",
       "  </thead>\n",
       "  <tbody>\n",
       "    <tr>\n",
       "      <th>7</th>\n",
       "      <td>15000</td>\n",
       "      <td>Charged Off</td>\n",
       "      <td>0</td>\n",
       "      <td>1</td>\n",
       "      <td>0</td>\n",
       "      <td>0</td>\n",
       "      <td>1</td>\n",
       "      <td>0</td>\n",
       "      <td>0</td>\n",
       "      <td>0</td>\n",
       "    </tr>\n",
       "    <tr>\n",
       "      <th>10</th>\n",
       "      <td>30000</td>\n",
       "      <td>Fully Paid</td>\n",
       "      <td>1</td>\n",
       "      <td>0</td>\n",
       "      <td>0</td>\n",
       "      <td>0</td>\n",
       "      <td>0</td>\n",
       "      <td>0</td>\n",
       "      <td>1</td>\n",
       "      <td>0</td>\n",
       "    </tr>\n",
       "    <tr>\n",
       "      <th>19</th>\n",
       "      <td>2700</td>\n",
       "      <td>Fully Paid</td>\n",
       "      <td>0</td>\n",
       "      <td>1</td>\n",
       "      <td>0</td>\n",
       "      <td>1</td>\n",
       "      <td>0</td>\n",
       "      <td>0</td>\n",
       "      <td>0</td>\n",
       "      <td>0</td>\n",
       "    </tr>\n",
       "    <tr>\n",
       "      <th>13</th>\n",
       "      <td>4500</td>\n",
       "      <td>Fully Paid</td>\n",
       "      <td>0</td>\n",
       "      <td>0</td>\n",
       "      <td>1</td>\n",
       "      <td>0</td>\n",
       "      <td>1</td>\n",
       "      <td>0</td>\n",
       "      <td>0</td>\n",
       "      <td>0</td>\n",
       "    </tr>\n",
       "    <tr>\n",
       "      <th>5</th>\n",
       "      <td>4800</td>\n",
       "      <td>Charged Off</td>\n",
       "      <td>1</td>\n",
       "      <td>0</td>\n",
       "      <td>0</td>\n",
       "      <td>0</td>\n",
       "      <td>0</td>\n",
       "      <td>1</td>\n",
       "      <td>0</td>\n",
       "      <td>0</td>\n",
       "    </tr>\n",
       "  </tbody>\n",
       "</table>\n",
       "</div>"
      ],
      "text/plain": [
       "    loan_amnt  loan_status  home_ownership_MORTGAGE  home_ownership_OWN  \\\n",
       "7       15000  Charged Off                        0                   1   \n",
       "10      30000   Fully Paid                        1                   0   \n",
       "19       2700   Fully Paid                        0                   1   \n",
       "13       4500   Fully Paid                        0                   0   \n",
       "5        4800  Charged Off                        1                   0   \n",
       "\n",
       "    home_ownership_RENT  grade_A  grade_B  grade_C  grade_D  grade_E  \n",
       "7                     0        0        1        0        0        0  \n",
       "10                    0        0        0        0        1        0  \n",
       "19                    0        1        0        0        0        0  \n",
       "13                    1        0        1        0        0        0  \n",
       "5                     0        0        0        1        0        0  "
      ]
     },
     "execution_count": 15,
     "metadata": {},
     "output_type": "execute_result"
    }
   ],
   "source": [
    "pd.get_dummies(small_test_explicit_cats, columns=['home_ownership', 'grade'])"
   ]
  },
  {
   "cell_type": "markdown",
   "metadata": {},
   "source": [
    "This method is very explicit and safe, but can be a bit cumbersome if there's many categorical columns, or not all of the categories are known beforehand.\n",
    "A somewhat simpler and less explicit method is using ``pd.align`` after calling ``get_dummies``:"
   ]
  },
  {
   "cell_type": "code",
   "execution_count": 16,
   "metadata": {},
   "outputs": [
    {
     "data": {
      "text/html": [
       "<div>\n",
       "<style scoped>\n",
       "    .dataframe tbody tr th:only-of-type {\n",
       "        vertical-align: middle;\n",
       "    }\n",
       "\n",
       "    .dataframe tbody tr th {\n",
       "        vertical-align: top;\n",
       "    }\n",
       "\n",
       "    .dataframe thead th {\n",
       "        text-align: right;\n",
       "    }\n",
       "</style>\n",
       "<table border=\"1\" class=\"dataframe\">\n",
       "  <thead>\n",
       "    <tr style=\"text-align: right;\">\n",
       "      <th></th>\n",
       "      <th>loan_amnt</th>\n",
       "      <th>loan_status</th>\n",
       "      <th>home_ownership_MORTGAGE</th>\n",
       "      <th>home_ownership_RENT</th>\n",
       "      <th>grade_A</th>\n",
       "      <th>grade_B</th>\n",
       "      <th>grade_C</th>\n",
       "      <th>grade_D</th>\n",
       "      <th>grade_E</th>\n",
       "    </tr>\n",
       "  </thead>\n",
       "  <tbody>\n",
       "    <tr>\n",
       "      <th>7</th>\n",
       "      <td>15000</td>\n",
       "      <td>Charged Off</td>\n",
       "      <td>0</td>\n",
       "      <td>0</td>\n",
       "      <td>0</td>\n",
       "      <td>1</td>\n",
       "      <td>0</td>\n",
       "      <td>0</td>\n",
       "      <td>0</td>\n",
       "    </tr>\n",
       "    <tr>\n",
       "      <th>10</th>\n",
       "      <td>30000</td>\n",
       "      <td>Fully Paid</td>\n",
       "      <td>1</td>\n",
       "      <td>0</td>\n",
       "      <td>0</td>\n",
       "      <td>0</td>\n",
       "      <td>0</td>\n",
       "      <td>1</td>\n",
       "      <td>0</td>\n",
       "    </tr>\n",
       "    <tr>\n",
       "      <th>19</th>\n",
       "      <td>2700</td>\n",
       "      <td>Fully Paid</td>\n",
       "      <td>0</td>\n",
       "      <td>0</td>\n",
       "      <td>1</td>\n",
       "      <td>0</td>\n",
       "      <td>0</td>\n",
       "      <td>0</td>\n",
       "      <td>0</td>\n",
       "    </tr>\n",
       "    <tr>\n",
       "      <th>13</th>\n",
       "      <td>4500</td>\n",
       "      <td>Fully Paid</td>\n",
       "      <td>0</td>\n",
       "      <td>1</td>\n",
       "      <td>0</td>\n",
       "      <td>1</td>\n",
       "      <td>0</td>\n",
       "      <td>0</td>\n",
       "      <td>0</td>\n",
       "    </tr>\n",
       "    <tr>\n",
       "      <th>5</th>\n",
       "      <td>4800</td>\n",
       "      <td>Charged Off</td>\n",
       "      <td>1</td>\n",
       "      <td>0</td>\n",
       "      <td>0</td>\n",
       "      <td>0</td>\n",
       "      <td>1</td>\n",
       "      <td>0</td>\n",
       "      <td>0</td>\n",
       "    </tr>\n",
       "  </tbody>\n",
       "</table>\n",
       "</div>"
      ],
      "text/plain": [
       "    loan_amnt  loan_status  home_ownership_MORTGAGE  home_ownership_RENT  \\\n",
       "7       15000  Charged Off                        0                    0   \n",
       "10      30000   Fully Paid                        1                    0   \n",
       "19       2700   Fully Paid                        0                    0   \n",
       "13       4500   Fully Paid                        0                    1   \n",
       "5        4800  Charged Off                        1                    0   \n",
       "\n",
       "    grade_A  grade_B  grade_C  grade_D  grade_E  \n",
       "7         0        1        0        0        0  \n",
       "10        0        0        0        1        0  \n",
       "19        1        0        0        0        0  \n",
       "13        0        1        0        0        0  \n",
       "5         0        0        1        0        0  "
      ]
     },
     "execution_count": 16,
     "metadata": {},
     "output_type": "execute_result"
    }
   ],
   "source": [
    "# compute dummy encoding (the columns will not match afterwards)\n",
    "small_train_dummies = pd.get_dummies(small_train, columns=['home_ownership', 'grade'])\n",
    "small_test_dummies = pd.get_dummies(small_test, columns=['home_ownership', 'grade'])\n",
    "\n",
    "# align dataframes\n",
    "# join='right' aligns test (left=self) to train (right=other) keeping only the columns in train\n",
    "# axis=1 means we align only the columns, and don't try joining the row indices\n",
    "# align returns two aligned frames; because we did a right join, train is unchanged\n",
    "# so we can discard the second return value (and assign it to _)\n",
    "# fill value specifies what to put into previously non-existing columns\n",
    "test_aligned, _ = small_test_dummies.align(small_train_dummies, join='right', axis=1, fill_value=0)\n",
    "test_aligned"
   ]
  },
  {
   "cell_type": "markdown",
   "metadata": {},
   "source": [
    "The result is an aligned dataframe ``test_aligned`` that has the same columns as ``small_train_dummies``, the dataframe it was aligned with.\n",
    "This ensures that the shapes are compatible between training and test set and we will get meaningful results from scikit-learn.\n",
    "Note that 'OWN' column that was previously present in the test set was dropped as it is not present in the training set.\n",
    "We could also perform an inner join when aligning the dataframes (which is the default in ``pd.align`` if you don't specify ``join``), so that the aligned dataframes contain all the columns present in either of the dataframes:\n"
   ]
  },
  {
   "cell_type": "code",
   "execution_count": 17,
   "metadata": {},
   "outputs": [
    {
     "data": {
      "text/html": [
       "<div>\n",
       "<style scoped>\n",
       "    .dataframe tbody tr th:only-of-type {\n",
       "        vertical-align: middle;\n",
       "    }\n",
       "\n",
       "    .dataframe tbody tr th {\n",
       "        vertical-align: top;\n",
       "    }\n",
       "\n",
       "    .dataframe thead th {\n",
       "        text-align: right;\n",
       "    }\n",
       "</style>\n",
       "<table border=\"1\" class=\"dataframe\">\n",
       "  <thead>\n",
       "    <tr style=\"text-align: right;\">\n",
       "      <th></th>\n",
       "      <th>grade_A</th>\n",
       "      <th>grade_B</th>\n",
       "      <th>grade_C</th>\n",
       "      <th>grade_D</th>\n",
       "      <th>grade_E</th>\n",
       "      <th>home_ownership_MORTGAGE</th>\n",
       "      <th>home_ownership_OWN</th>\n",
       "      <th>home_ownership_RENT</th>\n",
       "      <th>loan_amnt</th>\n",
       "      <th>loan_status</th>\n",
       "    </tr>\n",
       "  </thead>\n",
       "  <tbody>\n",
       "    <tr>\n",
       "      <th>7</th>\n",
       "      <td>0</td>\n",
       "      <td>1</td>\n",
       "      <td>0</td>\n",
       "      <td>0</td>\n",
       "      <td>0</td>\n",
       "      <td>0</td>\n",
       "      <td>1</td>\n",
       "      <td>0</td>\n",
       "      <td>15000</td>\n",
       "      <td>Charged Off</td>\n",
       "    </tr>\n",
       "    <tr>\n",
       "      <th>10</th>\n",
       "      <td>0</td>\n",
       "      <td>0</td>\n",
       "      <td>0</td>\n",
       "      <td>1</td>\n",
       "      <td>0</td>\n",
       "      <td>1</td>\n",
       "      <td>0</td>\n",
       "      <td>0</td>\n",
       "      <td>30000</td>\n",
       "      <td>Fully Paid</td>\n",
       "    </tr>\n",
       "    <tr>\n",
       "      <th>19</th>\n",
       "      <td>1</td>\n",
       "      <td>0</td>\n",
       "      <td>0</td>\n",
       "      <td>0</td>\n",
       "      <td>0</td>\n",
       "      <td>0</td>\n",
       "      <td>1</td>\n",
       "      <td>0</td>\n",
       "      <td>2700</td>\n",
       "      <td>Fully Paid</td>\n",
       "    </tr>\n",
       "    <tr>\n",
       "      <th>13</th>\n",
       "      <td>0</td>\n",
       "      <td>1</td>\n",
       "      <td>0</td>\n",
       "      <td>0</td>\n",
       "      <td>0</td>\n",
       "      <td>0</td>\n",
       "      <td>0</td>\n",
       "      <td>1</td>\n",
       "      <td>4500</td>\n",
       "      <td>Fully Paid</td>\n",
       "    </tr>\n",
       "    <tr>\n",
       "      <th>5</th>\n",
       "      <td>0</td>\n",
       "      <td>0</td>\n",
       "      <td>1</td>\n",
       "      <td>0</td>\n",
       "      <td>0</td>\n",
       "      <td>1</td>\n",
       "      <td>0</td>\n",
       "      <td>0</td>\n",
       "      <td>4800</td>\n",
       "      <td>Charged Off</td>\n",
       "    </tr>\n",
       "  </tbody>\n",
       "</table>\n",
       "</div>"
      ],
      "text/plain": [
       "    grade_A  grade_B  grade_C  grade_D  grade_E  home_ownership_MORTGAGE  \\\n",
       "7         0        1        0        0        0                        0   \n",
       "10        0        0        0        1        0                        1   \n",
       "19        1        0        0        0        0                        0   \n",
       "13        0        1        0        0        0                        0   \n",
       "5         0        0        1        0        0                        1   \n",
       "\n",
       "    home_ownership_OWN  home_ownership_RENT  loan_amnt  loan_status  \n",
       "7                    1                    0      15000  Charged Off  \n",
       "10                   0                    0      30000   Fully Paid  \n",
       "19                   1                    0       2700   Fully Paid  \n",
       "13                   0                    1       4500   Fully Paid  \n",
       "5                    0                    0       4800  Charged Off  "
      ]
     },
     "execution_count": 17,
     "metadata": {},
     "output_type": "execute_result"
    }
   ],
   "source": [
    "# if we don't specify join, an inner join is performed and we retain all the columns\n",
    "# in this case we also want to store the new aligned training set\n",
    "test_aligned, train_aligned = small_test_dummies.align(small_train_dummies, axis=1, fill_value=0)\n",
    "test_aligned"
   ]
  },
  {
   "cell_type": "markdown",
   "metadata": {},
   "source": [
    "However, that's not very useful if you already created a model using the original training dataset."
   ]
  },
  {
   "cell_type": "markdown",
   "metadata": {},
   "source": [
    "## OneHotEncoder - dummies with sklearn\n",
    "Another option (and the one we will use for most of the book) is to do our encoding with scikit-learn. Because scikit-learn has a concept of training and test set, the issue of aligning the data is handled automatically.\n",
    "The dummy or one-hot encoding in scikit-learn is implemented in the ``OneHotEncoder``, which is a transformer, just like other preprocessing methods."
   ]
  },
  {
   "cell_type": "code",
   "execution_count": 18,
   "metadata": {},
   "outputs": [],
   "source": [
    "from sklearn.preprocessing import OneHotEncoder\n",
    "# By default, OneHotEncoder errors if it sees unknown categories in the test data\n",
    "# we will overwrite this behavior by specifying handle_unknown='ignore'\n",
    "# also OneHotEncoder by default outputs scipy sparse matrices, which are more efficient but cumbersome\n",
    "# we disable that with sparse=False\n",
    "ohe = OneHotEncoder(handle_unknown='ignore', sparse=False)\n",
    "# fit on the training set; stores the categories for each column\n",
    "ohe.fit(small_train)\n",
    "# apply one-hot encoding to both training and test set\n",
    "X_train_ohe = ohe.transform(small_train)\n",
    "X_test_ohe = ohe.transform(small_test)"
   ]
  },
  {
   "cell_type": "code",
   "execution_count": 19,
   "metadata": {},
   "outputs": [
    {
     "data": {
      "text/plain": [
       "array([[1., 0., 0., 0., 0., 0., 0., 0., 0., 0., 0., 0., 0., 1., 0., 0.,\n",
       "        1., 0., 0., 0., 1.],\n",
       "       [0., 1., 0., 0., 0., 0., 0., 0., 0., 0., 0., 0., 1., 0., 0., 0.,\n",
       "        0., 1., 0., 0., 1.],\n",
       "       [0., 0., 0., 0., 0., 0., 0., 0., 0., 0., 0., 1., 1., 0., 0., 0.,\n",
       "        1., 0., 0., 0., 1.],\n",
       "       [0., 0., 0., 0., 0., 0., 0., 0., 0., 0., 1., 0., 0., 1., 0., 0.,\n",
       "        1., 0., 0., 1., 0.],\n",
       "       [0., 0., 0., 0., 0., 1., 0., 0., 0., 0., 0., 0., 1., 0., 0., 0.,\n",
       "        0., 0., 1., 0., 1.],\n",
       "       [0., 0., 1., 0., 0., 0., 0., 0., 0., 0., 0., 0., 1., 0., 0., 0.,\n",
       "        1., 0., 0., 1., 0.],\n",
       "       [0., 0., 0., 0., 0., 0., 1., 0., 0., 0., 0., 0., 1., 0., 1., 0.,\n",
       "        0., 0., 0., 1., 0.],\n",
       "       [0., 0., 0., 0., 0., 0., 0., 0., 1., 0., 0., 0., 1., 0., 1., 0.,\n",
       "        0., 0., 0., 0., 1.],\n",
       "       [0., 0., 0., 0., 0., 0., 1., 0., 0., 0., 0., 0., 0., 1., 0., 0.,\n",
       "        0., 0., 1., 1., 0.],\n",
       "       [0., 0., 0., 0., 0., 0., 0., 1., 0., 0., 0., 0., 0., 1., 0., 1.,\n",
       "        0., 0., 0., 1., 0.],\n",
       "       [0., 0., 0., 0., 1., 0., 0., 0., 0., 0., 0., 0., 1., 0., 1., 0.,\n",
       "        0., 0., 0., 1., 0.],\n",
       "       [0., 0., 0., 1., 0., 0., 0., 0., 0., 0., 0., 0., 0., 1., 0., 1.,\n",
       "        0., 0., 0., 0., 1.],\n",
       "       [0., 0., 0., 0., 0., 0., 0., 0., 0., 0., 1., 0., 1., 0., 0., 0.,\n",
       "        1., 0., 0., 1., 0.],\n",
       "       [0., 0., 0., 0., 0., 0., 0., 0., 1., 0., 0., 0., 0., 1., 0., 0.,\n",
       "        0., 1., 0., 0., 1.],\n",
       "       [0., 0., 0., 0., 0., 0., 0., 0., 0., 1., 0., 0., 1., 0., 1., 0.,\n",
       "        0., 0., 0., 1., 0.]])"
      ]
     },
     "execution_count": 19,
     "metadata": {},
     "output_type": "execute_result"
    }
   ],
   "source": [
    "X_train_ohe"
   ]
  },
  {
   "cell_type": "markdown",
   "metadata": {},
   "source": [
    "```{margin} Feature names in scikit-learn\n",
    "While scikit-learn doesn't output pandas dataframes (for now) we can get feature names for the output of some transformers using the ``get_feature_names`` method.\n",
    "```"
   ]
  },
  {
   "cell_type": "markdown",
   "metadata": {},
   "source": [
    "There are two things you might notice in this output: as with all scikit-learn transformations, the output is a numpy array without column names, which can be a bit inconvenient.\n",
    "Secondly, all the columns have been one-hot-encoded, the loan amount is not present any more.\n",
    "We can actually get the feature names by using the ``get_feature_names`` method of the ``OneHotEncoder``:"
   ]
  },
  {
   "cell_type": "code",
   "execution_count": 20,
   "metadata": {},
   "outputs": [
    {
     "data": {
      "text/plain": [
       "array(['x0_2500', 'x0_4000', 'x0_6000', 'x0_6600', 'x0_8000', 'x0_8425',\n",
       "       'x0_10000', 'x0_16000', 'x0_20000', 'x0_25000', 'x0_35000',\n",
       "       'x0_40000', 'x1_MORTGAGE', 'x1_RENT', 'x2_A', 'x2_B', 'x2_C',\n",
       "       'x2_D', 'x2_E', 'x3_Charged Off', 'x3_Fully Paid'], dtype=object)"
      ]
     },
     "execution_count": 20,
     "metadata": {},
     "output_type": "execute_result"
    }
   ],
   "source": [
    "ohe.get_feature_names()"
   ]
  },
  {
   "cell_type": "markdown",
   "metadata": {},
   "source": [
    "By default, the input columns in scikit-learn are named ``x0``, ``x1`` and so on, so what this tells us is that for the first feature, loan amount, several new columns were added to one-hot-encode the observed integer values, which was not what we had in mind. We can get more informative feature names by passing the original dataframe column names to ``get_feature_names``:"
   ]
  },
  {
   "cell_type": "code",
   "execution_count": 21,
   "metadata": {},
   "outputs": [
    {
     "data": {
      "text/plain": [
       "array(['loan_amnt_2500', 'loan_amnt_4000', 'loan_amnt_6000',\n",
       "       'loan_amnt_6600', 'loan_amnt_8000', 'loan_amnt_8425',\n",
       "       'loan_amnt_10000', 'loan_amnt_16000', 'loan_amnt_20000',\n",
       "       'loan_amnt_25000', 'loan_amnt_35000', 'loan_amnt_40000',\n",
       "       'home_ownership_MORTGAGE', 'home_ownership_RENT', 'grade_A',\n",
       "       'grade_B', 'grade_C', 'grade_D', 'grade_E',\n",
       "       'loan_status_Charged Off', 'loan_status_Fully Paid'], dtype=object)"
      ]
     },
     "execution_count": 21,
     "metadata": {},
     "output_type": "execute_result"
    }
   ],
   "source": [
    "ohe.get_feature_names(small_train.columns)"
   ]
  },
  {
   "cell_type": "markdown",
   "metadata": {},
   "source": [
    "OneHotEncoder, like all other estimators in scikit-learn, always works on all input columns. So we need to pass it only the column that we want to transform.\n",
    "So one possible way to do this would be to slice of the categorical columns, transform them with ``OneHotEncoder``, like so:"
   ]
  },
  {
   "cell_type": "code",
   "execution_count": 22,
   "metadata": {},
   "outputs": [
    {
     "data": {
      "text/plain": [
       "Index(['loan_amnt', 'home_ownership', 'grade', 'loan_status'], dtype='object')"
      ]
     },
     "execution_count": 22,
     "metadata": {},
     "output_type": "execute_result"
    }
   ],
   "source": [
    "small_train.columns"
   ]
  },
  {
   "cell_type": "code",
   "execution_count": 23,
   "metadata": {},
   "outputs": [
    {
     "data": {
      "text/plain": [
       "array([[0., 1., 0., 0., 1., 0., 0.],\n",
       "       [1., 0., 0., 0., 0., 1., 0.],\n",
       "       [1., 0., 0., 0., 1., 0., 0.],\n",
       "       [0., 1., 0., 0., 1., 0., 0.],\n",
       "       [1., 0., 0., 0., 0., 0., 1.],\n",
       "       [1., 0., 0., 0., 1., 0., 0.],\n",
       "       [1., 0., 1., 0., 0., 0., 0.],\n",
       "       [1., 0., 1., 0., 0., 0., 0.],\n",
       "       [0., 1., 0., 0., 0., 0., 1.],\n",
       "       [0., 1., 0., 1., 0., 0., 0.],\n",
       "       [1., 0., 1., 0., 0., 0., 0.],\n",
       "       [0., 1., 0., 1., 0., 0., 0.],\n",
       "       [1., 0., 0., 0., 1., 0., 0.],\n",
       "       [0., 1., 0., 0., 0., 1., 0.],\n",
       "       [1., 0., 1., 0., 0., 0., 0.]])"
      ]
     },
     "execution_count": 23,
     "metadata": {},
     "output_type": "execute_result"
    }
   ],
   "source": [
    "train_cat = small_train[['home_ownership', 'grade']]\n",
    "ohe = OneHotEncoder(handle_unknown='ignore', sparse=False)\n",
    "train_cat_ohe = ohe.fit_transform(train_cat)\n",
    "train_cat_ohe"
   ]
  },
  {
   "cell_type": "markdown",
   "metadata": {},
   "source": [
    "We can now make this one-hot-encoded array back into a dataframe by using ``get_feature_names``:"
   ]
  },
  {
   "cell_type": "code",
   "execution_count": 24,
   "metadata": {},
   "outputs": [
    {
     "data": {
      "text/html": [
       "<div>\n",
       "<style scoped>\n",
       "    .dataframe tbody tr th:only-of-type {\n",
       "        vertical-align: middle;\n",
       "    }\n",
       "\n",
       "    .dataframe tbody tr th {\n",
       "        vertical-align: top;\n",
       "    }\n",
       "\n",
       "    .dataframe thead th {\n",
       "        text-align: right;\n",
       "    }\n",
       "</style>\n",
       "<table border=\"1\" class=\"dataframe\">\n",
       "  <thead>\n",
       "    <tr style=\"text-align: right;\">\n",
       "      <th></th>\n",
       "      <th>home_ownership_MORTGAGE</th>\n",
       "      <th>home_ownership_RENT</th>\n",
       "      <th>grade_A</th>\n",
       "      <th>grade_B</th>\n",
       "      <th>grade_C</th>\n",
       "      <th>grade_D</th>\n",
       "      <th>grade_E</th>\n",
       "    </tr>\n",
       "  </thead>\n",
       "  <tbody>\n",
       "    <tr>\n",
       "      <th>17</th>\n",
       "      <td>0.0</td>\n",
       "      <td>1.0</td>\n",
       "      <td>0.0</td>\n",
       "      <td>0.0</td>\n",
       "      <td>1.0</td>\n",
       "      <td>0.0</td>\n",
       "      <td>0.0</td>\n",
       "    </tr>\n",
       "    <tr>\n",
       "      <th>18</th>\n",
       "      <td>1.0</td>\n",
       "      <td>0.0</td>\n",
       "      <td>0.0</td>\n",
       "      <td>0.0</td>\n",
       "      <td>0.0</td>\n",
       "      <td>1.0</td>\n",
       "      <td>0.0</td>\n",
       "    </tr>\n",
       "    <tr>\n",
       "      <th>11</th>\n",
       "      <td>1.0</td>\n",
       "      <td>0.0</td>\n",
       "      <td>0.0</td>\n",
       "      <td>0.0</td>\n",
       "      <td>1.0</td>\n",
       "      <td>0.0</td>\n",
       "      <td>0.0</td>\n",
       "    </tr>\n",
       "    <tr>\n",
       "      <th>6</th>\n",
       "      <td>0.0</td>\n",
       "      <td>1.0</td>\n",
       "      <td>0.0</td>\n",
       "      <td>0.0</td>\n",
       "      <td>1.0</td>\n",
       "      <td>0.0</td>\n",
       "      <td>0.0</td>\n",
       "    </tr>\n",
       "    <tr>\n",
       "      <th>14</th>\n",
       "      <td>1.0</td>\n",
       "      <td>0.0</td>\n",
       "      <td>0.0</td>\n",
       "      <td>0.0</td>\n",
       "      <td>0.0</td>\n",
       "      <td>0.0</td>\n",
       "      <td>1.0</td>\n",
       "    </tr>\n",
       "  </tbody>\n",
       "</table>\n",
       "</div>"
      ],
      "text/plain": [
       "    home_ownership_MORTGAGE  home_ownership_RENT  grade_A  grade_B  grade_C  \\\n",
       "17                      0.0                  1.0      0.0      0.0      1.0   \n",
       "18                      1.0                  0.0      0.0      0.0      0.0   \n",
       "11                      1.0                  0.0      0.0      0.0      1.0   \n",
       "6                       0.0                  1.0      0.0      0.0      1.0   \n",
       "14                      1.0                  0.0      0.0      0.0      0.0   \n",
       "\n",
       "    grade_D  grade_E  \n",
       "17      0.0      0.0  \n",
       "18      1.0      0.0  \n",
       "11      0.0      0.0  \n",
       "6       0.0      0.0  \n",
       "14      0.0      1.0  "
      ]
     },
     "execution_count": 24,
     "metadata": {},
     "output_type": "execute_result"
    }
   ],
   "source": [
    "train_df_ohe = pd.DataFrame(train_cat_ohe,\n",
    "                            # create column names\n",
    "                            columns=ohe.get_feature_names(train_cat.columns),\n",
    "                            # keep the old index.\n",
    "                            # this is optional but will make joining with the other features easier\n",
    "                            index=train_cat.index)\n",
    "train_df_ohe.head()"
   ]
  },
  {
   "cell_type": "markdown",
   "metadata": {},
   "source": [
    "Then we can concatenate it again with the remaining 'amount' feature:"
   ]
  },
  {
   "cell_type": "code",
   "execution_count": 25,
   "metadata": {},
   "outputs": [
    {
     "data": {
      "text/html": [
       "<div>\n",
       "<style scoped>\n",
       "    .dataframe tbody tr th:only-of-type {\n",
       "        vertical-align: middle;\n",
       "    }\n",
       "\n",
       "    .dataframe tbody tr th {\n",
       "        vertical-align: top;\n",
       "    }\n",
       "\n",
       "    .dataframe thead th {\n",
       "        text-align: right;\n",
       "    }\n",
       "</style>\n",
       "<table border=\"1\" class=\"dataframe\">\n",
       "  <thead>\n",
       "    <tr style=\"text-align: right;\">\n",
       "      <th></th>\n",
       "      <th>home_ownership_MORTGAGE</th>\n",
       "      <th>home_ownership_RENT</th>\n",
       "      <th>grade_A</th>\n",
       "      <th>grade_B</th>\n",
       "      <th>grade_C</th>\n",
       "      <th>grade_D</th>\n",
       "      <th>grade_E</th>\n",
       "      <th>loan_amnt</th>\n",
       "    </tr>\n",
       "  </thead>\n",
       "  <tbody>\n",
       "    <tr>\n",
       "      <th>17</th>\n",
       "      <td>0.0</td>\n",
       "      <td>1.0</td>\n",
       "      <td>0.0</td>\n",
       "      <td>0.0</td>\n",
       "      <td>1.0</td>\n",
       "      <td>0.0</td>\n",
       "      <td>0.0</td>\n",
       "      <td>2500</td>\n",
       "    </tr>\n",
       "    <tr>\n",
       "      <th>18</th>\n",
       "      <td>1.0</td>\n",
       "      <td>0.0</td>\n",
       "      <td>0.0</td>\n",
       "      <td>0.0</td>\n",
       "      <td>0.0</td>\n",
       "      <td>1.0</td>\n",
       "      <td>0.0</td>\n",
       "      <td>4000</td>\n",
       "    </tr>\n",
       "    <tr>\n",
       "      <th>11</th>\n",
       "      <td>1.0</td>\n",
       "      <td>0.0</td>\n",
       "      <td>0.0</td>\n",
       "      <td>0.0</td>\n",
       "      <td>1.0</td>\n",
       "      <td>0.0</td>\n",
       "      <td>0.0</td>\n",
       "      <td>40000</td>\n",
       "    </tr>\n",
       "    <tr>\n",
       "      <th>6</th>\n",
       "      <td>0.0</td>\n",
       "      <td>1.0</td>\n",
       "      <td>0.0</td>\n",
       "      <td>0.0</td>\n",
       "      <td>1.0</td>\n",
       "      <td>0.0</td>\n",
       "      <td>0.0</td>\n",
       "      <td>35000</td>\n",
       "    </tr>\n",
       "    <tr>\n",
       "      <th>14</th>\n",
       "      <td>1.0</td>\n",
       "      <td>0.0</td>\n",
       "      <td>0.0</td>\n",
       "      <td>0.0</td>\n",
       "      <td>0.0</td>\n",
       "      <td>0.0</td>\n",
       "      <td>1.0</td>\n",
       "      <td>8425</td>\n",
       "    </tr>\n",
       "  </tbody>\n",
       "</table>\n",
       "</div>"
      ],
      "text/plain": [
       "    home_ownership_MORTGAGE  home_ownership_RENT  grade_A  grade_B  grade_C  \\\n",
       "17                      0.0                  1.0      0.0      0.0      1.0   \n",
       "18                      1.0                  0.0      0.0      0.0      0.0   \n",
       "11                      1.0                  0.0      0.0      0.0      1.0   \n",
       "6                       0.0                  1.0      0.0      0.0      1.0   \n",
       "14                      1.0                  0.0      0.0      0.0      0.0   \n",
       "\n",
       "    grade_D  grade_E  loan_amnt  \n",
       "17      0.0      0.0       2500  \n",
       "18      1.0      0.0       4000  \n",
       "11      0.0      0.0      40000  \n",
       "6       0.0      0.0      35000  \n",
       "14      0.0      1.0       8425  "
      ]
     },
     "execution_count": 25,
     "metadata": {},
     "output_type": "execute_result"
    }
   ],
   "source": [
    "train_df_all = pd.concat([train_df_ohe, small_train[['loan_amnt']]], axis=1)\n",
    "train_df_all.head()"
   ]
  },
  {
   "cell_type": "markdown",
   "metadata": {},
   "source": [
    "While this is the result we wanted, this was pretty complicated compared to using ``pd.get_dummies``.\n",
    "Luckily, scikit-learn has another tool that will make this much easier, the ``ColumnTransformer``."
   ]
  },
  {
   "cell_type": "markdown",
   "metadata": {},
   "source": [
    "## ColumnTransformer\n",
    "\n",
    "The ``ColumnTransformer`` is another meta-estimator, similar to the ``Pipeline``, for combining multiple transformations.\n",
    "In particular, the ``ColumnTransformer`` allows you to apply different transformations to different subsets of the columns.\n",
    "It's the only part of scikit-learn that explicitly uses pandas column names, and is made specificly to ease the use of pandas dataframes\n",
    "as input to scikit-learn models.\n",
    "\n",
    "In contrast to ``Pipeline``, which basically applies several transformations in sequence, the ``ColumnTransformer`` applies several transformations in parallel,\n",
    "each on a subset of columns, and then concatenates the results, similar to what we did manually above. This is illustrate in Figure TODO.\n",
    "\n",
    "TODO new image\n",
    "\n",
    "![:scale 100%](images/column_transformer_schematic.png)\n",
    "\n",
    "As with the pipeline, there is a ``make_column_transformer`` helper function to easily create a new column transformer.\n",
    "The function takes tuples, where each tuple consists of a transformation and the columns the transformation should be applied to.\n",
    "So to apply the ``OneHotEncoder`` to only the ``home_ownership`` and ``grade`` columns, we could do:"
   ]
  },
  {
   "cell_type": "code",
   "execution_count": 26,
   "metadata": {},
   "outputs": [
    {
     "data": {
      "text/plain": [
       "ColumnTransformer(transformers=[('onehotencoder',\n",
       "                                 OneHotEncoder(handle_unknown='ignore',\n",
       "                                               sparse=False),\n",
       "                                 ['home_ownership', 'grade'])])"
      ]
     },
     "execution_count": 26,
     "metadata": {},
     "output_type": "execute_result"
    }
   ],
   "source": [
    "from sklearn.compose import make_column_transformer\n",
    "# a single transformation, OneHotEncoder, applied to two columns\n",
    "ct = make_column_transformer((OneHotEncoder(handle_unknown='ignore', sparse=False), ['home_ownership', 'grade']))\n",
    "# now we can pass the full dataset, as the column transformer will do the subsetting for us:\n",
    "ct.fit(small_train)"
   ]
  },
  {
   "cell_type": "markdown",
   "metadata": {},
   "source": [
    "The ``make_column_transformer`` has created ``ColumnTransformer`` object for us with a single transformer. It has also automatically generated a name for the transformer using the lower cased class name, `'onehotencoder'`.\n",
    "We can now use the ``ColumnTransformer`` to transform our dataset:"
   ]
  },
  {
   "cell_type": "code",
   "execution_count": 27,
   "metadata": {},
   "outputs": [
    {
     "data": {
      "text/plain": [
       "array([[0., 1., 0., 0., 1., 0., 0.],\n",
       "       [1., 0., 0., 0., 0., 1., 0.],\n",
       "       [1., 0., 0., 0., 1., 0., 0.],\n",
       "       [0., 1., 0., 0., 1., 0., 0.],\n",
       "       [1., 0., 0., 0., 0., 0., 1.],\n",
       "       [1., 0., 0., 0., 1., 0., 0.],\n",
       "       [1., 0., 1., 0., 0., 0., 0.],\n",
       "       [1., 0., 1., 0., 0., 0., 0.],\n",
       "       [0., 1., 0., 0., 0., 0., 1.],\n",
       "       [0., 1., 0., 1., 0., 0., 0.],\n",
       "       [1., 0., 1., 0., 0., 0., 0.],\n",
       "       [0., 1., 0., 1., 0., 0., 0.],\n",
       "       [1., 0., 0., 0., 1., 0., 0.],\n",
       "       [0., 1., 0., 0., 0., 1., 0.],\n",
       "       [1., 0., 1., 0., 0., 0., 0.]])"
      ]
     },
     "execution_count": 27,
     "metadata": {},
     "output_type": "execute_result"
    }
   ],
   "source": [
    "ct.transform(small_train)"
   ]
  },
  {
   "cell_type": "markdown",
   "metadata": {},
   "source": [
    "Again, we can get the column names for the output using ``get_feature_names``:\n",
    "TODO this doesn't take the columns?!"
   ]
  },
  {
   "cell_type": "code",
   "execution_count": 28,
   "metadata": {},
   "outputs": [
    {
     "data": {
      "text/plain": [
       "['onehotencoder__x0_MORTGAGE',\n",
       " 'onehotencoder__x0_RENT',\n",
       " 'onehotencoder__x1_A',\n",
       " 'onehotencoder__x1_B',\n",
       " 'onehotencoder__x1_C',\n",
       " 'onehotencoder__x1_D',\n",
       " 'onehotencoder__x1_E']"
      ]
     },
     "execution_count": 28,
     "metadata": {},
     "output_type": "execute_result"
    }
   ],
   "source": [
    "ct.get_feature_names()"
   ]
  },
  {
   "cell_type": "markdown",
   "metadata": {},
   "source": [
    "As you can see, by default, the ``ColumnTransformer`` only keeps the columns that we mentioned.\n",
    "If we want to keep the remaining columns, we can specify ``remainder='passthrough':"
   ]
  },
  {
   "cell_type": "code",
   "execution_count": 29,
   "metadata": {},
   "outputs": [
    {
     "data": {
      "text/plain": [
       "array([[0.0, 1.0, 0.0, 0.0, 1.0, 0.0, 0.0, 2500, 'Fully Paid'],\n",
       "       [1.0, 0.0, 0.0, 0.0, 0.0, 1.0, 0.0, 4000, 'Fully Paid'],\n",
       "       [1.0, 0.0, 0.0, 0.0, 1.0, 0.0, 0.0, 40000, 'Fully Paid'],\n",
       "       [0.0, 1.0, 0.0, 0.0, 1.0, 0.0, 0.0, 35000, 'Charged Off'],\n",
       "       [1.0, 0.0, 0.0, 0.0, 0.0, 0.0, 1.0, 8425, 'Fully Paid'],\n",
       "       [1.0, 0.0, 0.0, 0.0, 1.0, 0.0, 0.0, 6000, 'Charged Off'],\n",
       "       [1.0, 0.0, 1.0, 0.0, 0.0, 0.0, 0.0, 10000, 'Charged Off'],\n",
       "       [1.0, 0.0, 1.0, 0.0, 0.0, 0.0, 0.0, 20000, 'Fully Paid'],\n",
       "       [0.0, 1.0, 0.0, 0.0, 0.0, 0.0, 1.0, 10000, 'Charged Off'],\n",
       "       [0.0, 1.0, 0.0, 1.0, 0.0, 0.0, 0.0, 16000, 'Charged Off'],\n",
       "       [1.0, 0.0, 1.0, 0.0, 0.0, 0.0, 0.0, 8000, 'Charged Off'],\n",
       "       [0.0, 1.0, 0.0, 1.0, 0.0, 0.0, 0.0, 6600, 'Fully Paid'],\n",
       "       [1.0, 0.0, 0.0, 0.0, 1.0, 0.0, 0.0, 35000, 'Charged Off'],\n",
       "       [0.0, 1.0, 0.0, 0.0, 0.0, 1.0, 0.0, 20000, 'Fully Paid'],\n",
       "       [1.0, 0.0, 1.0, 0.0, 0.0, 0.0, 0.0, 25000, 'Charged Off']],\n",
       "      dtype=object)"
      ]
     },
     "execution_count": 29,
     "metadata": {},
     "output_type": "execute_result"
    }
   ],
   "source": [
    "ct = make_column_transformer((OneHotEncoder(handle_unknown='ignore', sparse=False),\n",
    "                              ['home_ownership', 'grade']),\n",
    "                             remainder='passthrough'\n",
    "                            )\n",
    "ct.fit_transform(small_train)"
   ]
  },
  {
   "cell_type": "markdown",
   "metadata": {},
   "source": [
    "Typically we would not want the target in our data within scikit-learn, though, so we might want do drop it before, or we might want to specify only to pass through the 'loan_amnt' column.\n",
    "We can pass through only some columns by adding a new transformation in the ColumnTransformer, though instead of passing a scikit-learn transformer, we pass the string `'passthrough'`:"
   ]
  },
  {
   "cell_type": "code",
   "execution_count": 30,
   "metadata": {},
   "outputs": [
    {
     "data": {
      "text/plain": [
       "array([[    0.,     1.,     0.,     0.,     1.,     0.,     0.,  2500.],\n",
       "       [    1.,     0.,     0.,     0.,     0.,     1.,     0.,  4000.],\n",
       "       [    1.,     0.,     0.,     0.,     1.,     0.,     0., 40000.],\n",
       "       [    0.,     1.,     0.,     0.,     1.,     0.,     0., 35000.],\n",
       "       [    1.,     0.,     0.,     0.,     0.,     0.,     1.,  8425.],\n",
       "       [    1.,     0.,     0.,     0.,     1.,     0.,     0.,  6000.],\n",
       "       [    1.,     0.,     1.,     0.,     0.,     0.,     0., 10000.],\n",
       "       [    1.,     0.,     1.,     0.,     0.,     0.,     0., 20000.],\n",
       "       [    0.,     1.,     0.,     0.,     0.,     0.,     1., 10000.],\n",
       "       [    0.,     1.,     0.,     1.,     0.,     0.,     0., 16000.],\n",
       "       [    1.,     0.,     1.,     0.,     0.,     0.,     0.,  8000.],\n",
       "       [    0.,     1.,     0.,     1.,     0.,     0.,     0.,  6600.],\n",
       "       [    1.,     0.,     0.,     0.,     1.,     0.,     0., 35000.],\n",
       "       [    0.,     1.,     0.,     0.,     0.,     1.,     0., 20000.],\n",
       "       [    1.,     0.,     1.,     0.,     0.,     0.,     0., 25000.]])"
      ]
     },
     "execution_count": 30,
     "metadata": {},
     "output_type": "execute_result"
    }
   ],
   "source": [
    "ct = make_column_transformer((OneHotEncoder(handle_unknown='ignore', sparse=False),\n",
    "                              ['home_ownership', 'grade']),\n",
    "                             ('passthrough', ['loan_amnt'])\n",
    "                            )\n",
    "# we set numpy printoptions to not use scientific notation for nicer output\n",
    "# and suppress all but three decimal places\n",
    "import numpy as np\n",
    "np.set_printoptions(suppress=True, precision=3)\n",
    "ct.fit_transform(small_train)"
   ]
  },
  {
   "cell_type": "markdown",
   "metadata": {},
   "source": [
    "If instead, we want to scale the 'loan_amnt' column, we can pass ``StandardScaler`` instead of ``'passthrough'``:\n"
   ]
  },
  {
   "cell_type": "code",
   "execution_count": 31,
   "metadata": {},
   "outputs": [
    {
     "data": {
      "text/plain": [
       "array([[ 0.   ,  1.   ,  0.   ,  0.   ,  1.   ,  0.   ,  0.   , -1.173],\n",
       "       [ 1.   ,  0.   ,  0.   ,  0.   ,  0.   ,  1.   ,  0.   , -1.047],\n",
       "       [ 1.   ,  0.   ,  0.   ,  0.   ,  1.   ,  0.   ,  0.   ,  1.984],\n",
       "       [ 0.   ,  1.   ,  0.   ,  0.   ,  1.   ,  0.   ,  0.   ,  1.563],\n",
       "       [ 1.   ,  0.   ,  0.   ,  0.   ,  0.   ,  0.   ,  1.   , -0.674],\n",
       "       [ 1.   ,  0.   ,  0.   ,  0.   ,  1.   ,  0.   ,  0.   , -0.879],\n",
       "       [ 1.   ,  0.   ,  1.   ,  0.   ,  0.   ,  0.   ,  0.   , -0.542],\n",
       "       [ 1.   ,  0.   ,  1.   ,  0.   ,  0.   ,  0.   ,  0.   ,  0.3  ],\n",
       "       [ 0.   ,  1.   ,  0.   ,  0.   ,  0.   ,  0.   ,  1.   , -0.542],\n",
       "       [ 0.   ,  1.   ,  0.   ,  1.   ,  0.   ,  0.   ,  0.   , -0.037],\n",
       "       [ 1.   ,  0.   ,  1.   ,  0.   ,  0.   ,  0.   ,  0.   , -0.71 ],\n",
       "       [ 0.   ,  1.   ,  0.   ,  1.   ,  0.   ,  0.   ,  0.   , -0.828],\n",
       "       [ 1.   ,  0.   ,  0.   ,  0.   ,  1.   ,  0.   ,  0.   ,  1.563],\n",
       "       [ 0.   ,  1.   ,  0.   ,  0.   ,  0.   ,  1.   ,  0.   ,  0.3  ],\n",
       "       [ 1.   ,  0.   ,  1.   ,  0.   ,  0.   ,  0.   ,  0.   ,  0.721]])"
      ]
     },
     "execution_count": 31,
     "metadata": {},
     "output_type": "execute_result"
    }
   ],
   "source": [
    "from sklearn.preprocessing import StandardScaler\n",
    "ct = make_column_transformer((OneHotEncoder(handle_unknown='ignore', sparse=False),\n",
    "                              ['home_ownership', 'grade']),\n",
    "                             (StandardScaler(), ['loan_amnt'])\n",
    "                            )\n",
    "ct.fit_transform(small_train)"
   ]
  },
  {
   "cell_type": "markdown",
   "metadata": {},
   "source": [
    "Now we can finally transform our test dataset without much work:"
   ]
  },
  {
   "cell_type": "code",
   "execution_count": 32,
   "metadata": {},
   "outputs": [
    {
     "data": {
      "text/plain": [
       "array([[ 0.   ,  0.   ,  0.   ,  1.   ,  0.   ,  0.   ,  0.   , -0.121],\n",
       "       [ 1.   ,  0.   ,  0.   ,  0.   ,  0.   ,  1.   ,  0.   ,  1.142],\n",
       "       [ 0.   ,  0.   ,  1.   ,  0.   ,  0.   ,  0.   ,  0.   , -1.156],\n",
       "       [ 0.   ,  1.   ,  0.   ,  1.   ,  0.   ,  0.   ,  0.   , -1.005],\n",
       "       [ 1.   ,  0.   ,  0.   ,  0.   ,  1.   ,  0.   ,  0.   , -0.98 ]])"
      ]
     },
     "execution_count": 32,
     "metadata": {},
     "output_type": "execute_result"
    }
   ],
   "source": [
    "ct.transform(small_test)"
   ]
  },
  {
   "cell_type": "markdown",
   "metadata": {},
   "source": [
    "Instead of using the ``make_column_transformer`` function, we can also directly use the ``ColumnTransformer`` class. As with the ``Pipeline``, this allows us to explicitly give names to the different transformers:"
   ]
  },
  {
   "cell_type": "code",
   "execution_count": 33,
   "metadata": {},
   "outputs": [],
   "source": [
    "from sklearn.compose import ColumnTransformer\n",
    "# this is equivalent to the the column transformer created above\n",
    "# each transformation is a tuple (name, transformer, columns)\n",
    "ct = ColumnTransformer([('ohe', OneHotEncoder(handle_unknown='ignore', sparse=False),\n",
    "                         ['home_ownership', 'grade']),\n",
    "                        ('scaler', StandardScaler(), ['loan_amnt'])])"
   ]
  },
  {
   "cell_type": "code",
   "execution_count": 35,
   "metadata": {
    "tags": [
     "remove-input"
    ]
   },
   "outputs": [
    {
     "data": {
      "text/html": [
       "<style>div.sk-top-container {color: black;background-color: white;}div.sk-toggleable {background-color: white;}label.sk-toggleable__label {cursor: pointer;display: block;width: 100%;margin-bottom: 0;padding: 0.2em 0.3em;box-sizing: border-box;text-align: center;}div.sk-toggleable__content {max-height: 0;max-width: 0;overflow: hidden;text-align: left;background-color: #f0f8ff;}div.sk-toggleable__content pre {margin: 0.2em;color: black;border-radius: 0.25em;background-color: #f0f8ff;}input.sk-toggleable__control:checked~div.sk-toggleable__content {max-height: 200px;max-width: 100%;overflow: auto;}div.sk-estimator input.sk-toggleable__control:checked~label.sk-toggleable__label {background-color: #d4ebff;}div.sk-label input.sk-toggleable__control:checked~label.sk-toggleable__label {background-color: #d4ebff;}input.sk-hidden--visually {border: 0;clip: rect(1px 1px 1px 1px);clip: rect(1px, 1px, 1px, 1px);height: 1px;margin: -1px;overflow: hidden;padding: 0;position: absolute;width: 1px;}div.sk-estimator {font-family: monospace;background-color: #f0f8ff;margin: 0.25em 0.25em;border: 1px dotted black;border-radius: 0.25em;box-sizing: border-box;}div.sk-estimator:hover {background-color: #d4ebff;}div.sk-parallel-item::after {content: \"\";width: 100%;border-bottom: 1px solid gray;flex-grow: 1;}div.sk-label:hover label.sk-toggleable__label {background-color: #d4ebff;}div.sk-serial::before {content: \"\";position: absolute;border-left: 1px solid gray;box-sizing: border-box;top: 2em;bottom: 0;left: 50%;}div.sk-serial {display: flex;flex-direction: column;align-items: center;background-color: white;}div.sk-item {z-index: 1;}div.sk-parallel {display: flex;align-items: stretch;justify-content: center;background-color: white;}div.sk-parallel-item {display: flex;flex-direction: column;position: relative;background-color: white;}div.sk-parallel-item:first-child::after {align-self: flex-end;width: 50%;}div.sk-parallel-item:last-child::after {align-self: flex-start;width: 50%;}div.sk-parallel-item:only-child::after {width: 0;}div.sk-dashed-wrapped {border: 1px dashed gray;margin: 0.2em;box-sizing: border-box;padding-bottom: 0.1em;background-color: white;position: relative;}div.sk-label label {font-family: monospace;font-weight: bold;background-color: white;display: inline-block;line-height: 1.2em;}div.sk-label-container {position: relative;z-index: 2;text-align: center;}div.sk-container {display: inline-block;position: relative;}</style><div class=\"sk-top-container\"><div class=\"sk-container\"><div class=\"sk-item sk-dashed-wrapped\"><div class=\"sk-label-container\"><div class=\"sk-label sk-toggleable\"><input class=\"sk-toggleable__control sk-hidden--visually\" id=\"45558f8e-0605-4810-b05e-cd3b111fc722\" type=\"checkbox\" ><label class=\"sk-toggleable__label\" for=\"45558f8e-0605-4810-b05e-cd3b111fc722\">ColumnTransformer</label><div class=\"sk-toggleable__content\"><pre>ColumnTransformer(transformers=[('onehotencoder',\n",
       "                                 OneHotEncoder(handle_unknown='ignore',\n",
       "                                               sparse=False),\n",
       "                                 ['home_ownership', 'grade']),\n",
       "                                ('standardscaler', StandardScaler(),\n",
       "                                 ['loan_amnt'])])</pre></div></div></div><div class=\"sk-parallel\"><div class=\"sk-parallel-item\"><div class=\"sk-item\"><div class=\"sk-label-container\"><div class=\"sk-label sk-toggleable\"><input class=\"sk-toggleable__control sk-hidden--visually\" id=\"e738ea23-8421-44cd-8fc3-222d3194149f\" type=\"checkbox\" ><label class=\"sk-toggleable__label\" for=\"e738ea23-8421-44cd-8fc3-222d3194149f\">onehotencoder</label><div class=\"sk-toggleable__content\"><pre>['home_ownership', 'grade']</pre></div></div></div><div class=\"sk-serial\"><div class=\"sk-item\"><div class=\"sk-estimator sk-toggleable\"><input class=\"sk-toggleable__control sk-hidden--visually\" id=\"c870d7fe-6f77-4d9d-84fb-41b5cf6555a0\" type=\"checkbox\" ><label class=\"sk-toggleable__label\" for=\"c870d7fe-6f77-4d9d-84fb-41b5cf6555a0\">OneHotEncoder</label><div class=\"sk-toggleable__content\"><pre>OneHotEncoder(handle_unknown='ignore', sparse=False)</pre></div></div></div></div></div></div><div class=\"sk-parallel-item\"><div class=\"sk-item\"><div class=\"sk-label-container\"><div class=\"sk-label sk-toggleable\"><input class=\"sk-toggleable__control sk-hidden--visually\" id=\"20daa701-ea2f-4b8d-9c74-ed31d85689de\" type=\"checkbox\" ><label class=\"sk-toggleable__label\" for=\"20daa701-ea2f-4b8d-9c74-ed31d85689de\">standardscaler</label><div class=\"sk-toggleable__content\"><pre>['loan_amnt']</pre></div></div></div><div class=\"sk-serial\"><div class=\"sk-item\"><div class=\"sk-estimator sk-toggleable\"><input class=\"sk-toggleable__control sk-hidden--visually\" id=\"52c1ccb0-29d4-46ad-b1a9-711f82f8ca37\" type=\"checkbox\" ><label class=\"sk-toggleable__label\" for=\"52c1ccb0-29d4-46ad-b1a9-711f82f8ca37\">StandardScaler</label><div class=\"sk-toggleable__content\"><pre>StandardScaler()</pre></div></div></div></div></div></div></div></div></div></div>"
      ],
      "text/plain": [
       "ColumnTransformer(transformers=[('onehotencoder',\n",
       "                                 OneHotEncoder(handle_unknown='ignore',\n",
       "                                               sparse=False),\n",
       "                                 ['home_ownership', 'grade']),\n",
       "                                ('standardscaler', StandardScaler(),\n",
       "                                 ['loan_amnt'])])"
      ]
     },
     "metadata": {
      "scrapbook": {
       "mime_prefix": "",
       "name": "ct_diagram"
      }
     },
     "output_type": "display_data"
    },
    {
     "data": {
      "text/html": [
       "<style>div.sk-top-container {color: black;background-color: white;}div.sk-toggleable {background-color: white;}label.sk-toggleable__label {cursor: pointer;display: block;width: 100%;margin-bottom: 0;padding: 0.2em 0.3em;box-sizing: border-box;text-align: center;}div.sk-toggleable__content {max-height: 0;max-width: 0;overflow: hidden;text-align: left;background-color: #f0f8ff;}div.sk-toggleable__content pre {margin: 0.2em;color: black;border-radius: 0.25em;background-color: #f0f8ff;}input.sk-toggleable__control:checked~div.sk-toggleable__content {max-height: 200px;max-width: 100%;overflow: auto;}div.sk-estimator input.sk-toggleable__control:checked~label.sk-toggleable__label {background-color: #d4ebff;}div.sk-label input.sk-toggleable__control:checked~label.sk-toggleable__label {background-color: #d4ebff;}input.sk-hidden--visually {border: 0;clip: rect(1px 1px 1px 1px);clip: rect(1px, 1px, 1px, 1px);height: 1px;margin: -1px;overflow: hidden;padding: 0;position: absolute;width: 1px;}div.sk-estimator {font-family: monospace;background-color: #f0f8ff;margin: 0.25em 0.25em;border: 1px dotted black;border-radius: 0.25em;box-sizing: border-box;}div.sk-estimator:hover {background-color: #d4ebff;}div.sk-parallel-item::after {content: \"\";width: 100%;border-bottom: 1px solid gray;flex-grow: 1;}div.sk-label:hover label.sk-toggleable__label {background-color: #d4ebff;}div.sk-serial::before {content: \"\";position: absolute;border-left: 1px solid gray;box-sizing: border-box;top: 2em;bottom: 0;left: 50%;}div.sk-serial {display: flex;flex-direction: column;align-items: center;background-color: white;}div.sk-item {z-index: 1;}div.sk-parallel {display: flex;align-items: stretch;justify-content: center;background-color: white;}div.sk-parallel-item {display: flex;flex-direction: column;position: relative;background-color: white;}div.sk-parallel-item:first-child::after {align-self: flex-end;width: 50%;}div.sk-parallel-item:last-child::after {align-self: flex-start;width: 50%;}div.sk-parallel-item:only-child::after {width: 0;}div.sk-dashed-wrapped {border: 1px dashed gray;margin: 0.2em;box-sizing: border-box;padding-bottom: 0.1em;background-color: white;position: relative;}div.sk-label label {font-family: monospace;font-weight: bold;background-color: white;display: inline-block;line-height: 1.2em;}div.sk-label-container {position: relative;z-index: 2;text-align: center;}div.sk-container {display: inline-block;position: relative;}</style><div class=\"sk-top-container\"><div class=\"sk-container\"><div class=\"sk-item sk-dashed-wrapped\"><div class=\"sk-label-container\"><div class=\"sk-label sk-toggleable\"><input class=\"sk-toggleable__control sk-hidden--visually\" id=\"8fb2d0d1-97f4-4081-bdd5-b063942dacf8\" type=\"checkbox\" ><label class=\"sk-toggleable__label\" for=\"8fb2d0d1-97f4-4081-bdd5-b063942dacf8\">ColumnTransformer</label><div class=\"sk-toggleable__content\"><pre>ColumnTransformer(transformers=[('onehotencoder',\n",
       "                                 OneHotEncoder(handle_unknown='ignore',\n",
       "                                               sparse=False),\n",
       "                                 ['home_ownership', 'grade']),\n",
       "                                ('standardscaler', StandardScaler(),\n",
       "                                 ['loan_amnt'])])</pre></div></div></div><div class=\"sk-parallel\"><div class=\"sk-parallel-item\"><div class=\"sk-item\"><div class=\"sk-label-container\"><div class=\"sk-label sk-toggleable\"><input class=\"sk-toggleable__control sk-hidden--visually\" id=\"91ed44ce-8309-4a72-a92c-d031ce1673ae\" type=\"checkbox\" ><label class=\"sk-toggleable__label\" for=\"91ed44ce-8309-4a72-a92c-d031ce1673ae\">onehotencoder</label><div class=\"sk-toggleable__content\"><pre>['home_ownership', 'grade']</pre></div></div></div><div class=\"sk-serial\"><div class=\"sk-item\"><div class=\"sk-estimator sk-toggleable\"><input class=\"sk-toggleable__control sk-hidden--visually\" id=\"9272a742-f9e7-4730-9b45-4bd9d69c84b3\" type=\"checkbox\" ><label class=\"sk-toggleable__label\" for=\"9272a742-f9e7-4730-9b45-4bd9d69c84b3\">OneHotEncoder</label><div class=\"sk-toggleable__content\"><pre>OneHotEncoder(handle_unknown='ignore', sparse=False)</pre></div></div></div></div></div></div><div class=\"sk-parallel-item\"><div class=\"sk-item\"><div class=\"sk-label-container\"><div class=\"sk-label sk-toggleable\"><input class=\"sk-toggleable__control sk-hidden--visually\" id=\"4ce1f297-acba-451c-ad59-be1510a233a9\" type=\"checkbox\" ><label class=\"sk-toggleable__label\" for=\"4ce1f297-acba-451c-ad59-be1510a233a9\">standardscaler</label><div class=\"sk-toggleable__content\"><pre>['loan_amnt']</pre></div></div></div><div class=\"sk-serial\"><div class=\"sk-item\"><div class=\"sk-estimator sk-toggleable\"><input class=\"sk-toggleable__control sk-hidden--visually\" id=\"8096ebf4-5fca-4d9f-89d1-2b8ccc0c8031\" type=\"checkbox\" ><label class=\"sk-toggleable__label\" for=\"8096ebf4-5fca-4d9f-89d1-2b8ccc0c8031\">StandardScaler</label><div class=\"sk-toggleable__content\"><pre>StandardScaler()</pre></div></div></div></div></div></div></div></div></div></div>"
      ],
      "text/plain": [
       "ColumnTransformer(transformers=[('onehotencoder',\n",
       "                                 OneHotEncoder(handle_unknown='ignore',\n",
       "                                               sparse=False),\n",
       "                                 ['home_ownership', 'grade']),\n",
       "                                ('standardscaler', StandardScaler(),\n",
       "                                 ['loan_amnt'])])"
      ]
     },
     "execution_count": 35,
     "metadata": {},
     "output_type": "execute_result"
    }
   ],
   "source": [
    "# hidden for gluing\n",
    "import sklearn\n",
    "sklearn.set_config(display='diagram')\n",
    "ct = make_column_transformer((OneHotEncoder(handle_unknown='ignore', sparse=False),\n",
    "                              ['home_ownership', 'grade']),\n",
    "                             (StandardScaler(), ['loan_amnt']))\n",
    "from myst_nb import glue\n",
    "glue('ct_diagram', ct)\n",
    "ct"
   ]
  },
  {
   "cell_type": "markdown",
   "metadata": {},
   "source": [
    "````{note} Diagram representations of estimators\n",
    "Starting with version 0.23, scikit-learn has diagram representations for estimators when running in jupyter.\n",
    "These can be enabled using ``sklearn.set_config``:\n",
    "\n",
    "```python\n",
    "import sklearn\n",
    "sklearn.set_config(display='diagram')\n",
    "```\n",
    "\n",
    "```{glue:} ct_diagram\n",
    "```\n",
    "\n",
    "In particular for more complex workflows they can come in really handy.\n",
    "````"
   ]
  },
  {
   "cell_type": "markdown",
   "metadata": {},
   "source": [
    "## Combining ColumnTransformer and Pipeline\n",
    "\n",
    "While ``ColumnTransformer`` by itself is already quite awesome, the real power comes from combining it with ``Pipeline`` to encapsulate the whole preprocessing and model training.\n",
    "Let's apply ``KNeighborsClassifier`` to the small subset of the lending club data we have been looking at. This is more for illustrative purposes, as we're using a tiny subset, and KNeighborsClassifier is potentially not a good model for this dataset, but we will see this combination in many of our later examples.\n",
    "\n",
    "Let's s"
   ]
  },
  {
   "cell_type": "markdown",
   "metadata": {},
   "source": [
    "```python\n",
    "categorical = df.dtypes == object\n",
    "\n",
    "preprocess = make_column_transformer(\n",
    "    (StandardScaler(), ~categorical),\n",
    "    (OneHotEncoder(), categorical))\n",
    "\n",
    "model = make_pipeline(preprocess, LogisticRegression())\n",
    "```\n",
    "\n",
    "\n",
    "The way to use this with mixed type data is column transformer, which\n",
    "allows you to transforms only some of the columns. For\n",
    "example, you can call categorical encoder only on the\n",
    "categorical columns and call StandardScaler on the\n",
    "non-categorical columns, and then use that to preprocess\n",
    "your data. Right now using Pandas, make sure your column\n",
    "names match up, make everything to an integer,\n",
    "or use column transformer and everything is awesome.\n",
    "\n",
    "In contrast to basically all other estimators in sklearn,\n",
    "this uses the column information in pandas and allows you to slice\n",
    "out different columns based on column names, integer indices or boolean masks.\n",
    "In this example I'm constructing a boolean mask"
   ]
  },
  {
   "cell_type": "markdown",
   "metadata": {},
   "source": [
    "Here's a schematic of the column transformer.\n",
    "Most commonly you might want to separate continuous and categorical columns,\n",
    "but you can select any subsets of columns you like. They can also overlap.\n",
    "Or you can apply multiple transformations to the same set of columns.\n",
    "Let's say I want a scaled version of the data, but I also want to\n",
    "extract principal components. I can use the same column as inputs to multiple\n",
    "transformers, and the results will be concatenated.\n",
    "\n",
    "FIXME add code"
   ]
  },
  {
   "cell_type": "code",
   "execution_count": null,
   "metadata": {},
   "outputs": [],
   "source": []
  },
  {
   "cell_type": "markdown",
   "metadata": {},
   "source": [
    "## Determining what variables are categorical"
   ]
  },
  {
   "cell_type": "markdown",
   "metadata": {},
   "source": [
    "## Dropping one category"
   ]
  },
  {
   "cell_type": "markdown",
   "metadata": {},
   "source": [
    "\n",
    "# Dummy variables and colinearity\n",
    "\n",
    "- One-hot is redundant (last one is 1 – sum of others)\n",
    "- Can introduce co-linearity\n",
    "- Can drop one\n",
    "- Choice which one matters for penalized models\n",
    "- Keeping all can make the model more interpretable\n",
    "\n",
    "\n",
    "\n",
    "\n",
    "N/A"
   ]
  },
  {
   "cell_type": "markdown",
   "metadata": {},
   "source": [
    "\n",
    "#Models Supporting Discrete Features\n",
    "\n",
    "- In principle:\n",
    "  - All tree-based models, naive Bayes\n",
    "- In scikit-learn:\n",
    "  - Some Naive Bayes classifiers.\n",
    "- In scikit-learn \"soon\":\n",
    "  - Decision trees, random forests, gradient boosting\n",
    "\n",
    "\n",
    "\n",
    "\n",
    "In principle all tree-based models support categorical\n",
    "features, in scikit-learn none of them do, hopefully, soon\n",
    "they will. So what you can do is either you do the One Hot\n",
    "Encoder or you just encode this as integers and treat it as\n",
    "a continuous. If you have very high categorical variables\n",
    "with many levels, maybe it keeping it as an integer might\n",
    "make more sense."
   ]
  },
  {
   "cell_type": "markdown",
   "metadata": {},
   "source": [
    "## Target Encoding (Impact Encoding)\n",
    "\n",
    "![:scale 100%](images/zip_code_prices.png)"
   ]
  },
  {
   "cell_type": "markdown",
   "metadata": {},
   "source": [
    "\n",
    "- For high cardinality categorical features\n",
    "- Instead of 70 one-hot variables, one “response encoded” variable.\n",
    "- For regression:\n",
    "  - \"average price in zip code”\n",
    "- Binary classification:\n",
    "  – “building in this zip code have a likelihood p for class 1”\n",
    "- Multiclass:\n",
    "  – One feature per class: probability distribution\n",
    "\n",
    "\n",
    "\n",
    "\n",
    "So there's also another way to encode categorical variables\n",
    "that is often used, I like to call it target-Based Encoding.\n",
    "It's basically for very high cardinality categorical\n",
    "features. For example, if you have categorical feature it's\n",
    "all US states and you don't have a lot of samples or if you\n",
    "have categorical features that's all US zip codes, if you\n",
    "have all different things, you don't want to do One Hot\n",
    "Encoding. So you get 50 new features, which if you don't\n",
    "have a lot of data would be a lot of features. So instead,\n",
    "you can use one single variable, it basically encodes the\n",
    "response. So for regression, it would be people in this\n",
    "state have an average response of that. Obviously you don't\n",
    "want to do this on the test set basically or you want to do\n",
    "this on the whole dataset for each level of the categorical\n",
    "variable, you want to find out what is the mean response and\n",
    "just use this as the future value. So you get one single\n",
    "future. For binary classification, you can just use the\n",
    "fraction of people that are classified as Class One. For\n",
    "multi-class, you usually do the percentage or fraction of\n",
    "people in each of the classes. So in multi-class, you get\n",
    "one new feature per class and you count for each state how\n",
    "many people in this state are classified for each of them."
   ]
  },
  {
   "cell_type": "markdown",
   "metadata": {},
   "source": [
    "\n",
    " More encodings for categorical features:\n",
    "## http://contrib.scikit-learn.org/categorical-encoding/"
   ]
  },
  {
   "cell_type": "markdown",
   "metadata": {},
   "source": [
    "##  Load data, include ZIP code\n",
    "```python\n",
    "data = fetch_openml(\"house_sales\", as_frame=True)\n",
    "X = data.frame.drop(['date', 'price'], axis=1)\n",
    "X_train, X_test, y_train, y_test = train_test_split(X, target)\n",
    "X_train.columns\n",
    "```\n",
    "```\n",
    "Index(['bedrooms', 'bathrooms', 'sqft_living', 'sqft_lot', 'floors',\n",
    "       'waterfront', 'view', 'condition', 'grade', 'sqft_above',\n",
    "       'sqft_basement', 'yr_built', 'yr_renovated', 'zipcode', 'lat',\n",
    "       'long', 'sqft_living15', 'sqft_lot15'],\n",
    "      dtype='object')\n",
    "```"
   ]
  },
  {
   "cell_type": "markdown",
   "metadata": {},
   "source": [
    ".tiny[\n",
    "```python\n",
    "X_train.head()\n",
    "```\n",
    "\n",
    "\n",
    "  \n",
    "\n",
    "    \n",
    "\n",
    "      \n",
    "bedrooms\n",
    "bathrooms\n",
    "sqft_living\n",
    "sqft_lot\n",
    "floors\n",
    "...\n",
    "zipcode\n",
    "lat\n",
    "long\n",
    "sqft_living15\n",
    "sqft_lot15\n",
    "\n",
    "  \n",
    "\n",
    "  \n",
    "\n",
    "    \n",
    "10666\n",
    "4.0\n",
    "2.50\n",
    "2160.0\n",
    "7000.0\n",
    "2.0\n",
    "...\n",
    "98029.0\n",
    "47.566\n",
    "-122.013\n",
    "2300.0\n",
    "7440.0\n",
    "\n",
    "    \n",
    "19108\n",
    "4.0\n",
    "4.25\n",
    "3250.0\n",
    "11780.0\n",
    "2.0\n",
    "...\n",
    "98004.0\n",
    "47.632\n",
    "-122.203\n",
    "1800.0\n",
    "9000.0\n",
    "\n",
    "    \n",
    "20132\n",
    "3.0\n",
    "2.50\n",
    "1280.0\n",
    "1920.0\n",
    "3.0\n",
    "...\n",
    "98105.0\n",
    "47.662\n",
    "-122.324\n",
    "1450.0\n",
    "1900.0\n",
    "\n",
    "    \n",
    "16169\n",
    "4.0\n",
    "1.50\n",
    "1220.0\n",
    "9600.0\n",
    "1.0\n",
    "...\n",
    "98014.0\n",
    "47.646\n",
    "-121.909\n",
    "1180.0\n",
    "9000.0\n",
    "\n",
    "    \n",
    "16890\n",
    "3.0\n",
    "1.50\n",
    "2120.0\n",
    "6290.0\n",
    "1.0\n",
    "...\n",
    "98108.0\n",
    "47.566\n",
    "-122.318\n",
    "1620.0\n",
    "5400.0\n",
    "\n",
    "  \n",
    "\n",
    "\n",
    "\n",
    "\n",
    "```python\n",
    "te = TargetEncoder(cols='zipcode').fit(X_train, y_train)\n",
    "te.transform(X_train).head()\n",
    "```\n",
    "\n",
    "\n",
    "  \n",
    "\n",
    "    \n",
    "\n",
    "      \n",
    "bedrooms\n",
    "bathrooms\n",
    "sqft_living\n",
    "sqft_lot\n",
    "floors\n",
    "...\n",
    "zipcode\n",
    "lat\n",
    "long\n",
    "sqft_living15\n",
    "sqft_lot15\n",
    "\n",
    "  \n",
    "\n",
    "  \n",
    "\n",
    "    \n",
    "10666\n",
    "4.0\n",
    "2.50\n",
    "2160.0\n",
    "7000.0\n",
    "2.0\n",
    "...\n",
    "6.164e+05\n",
    "47.566\n",
    "-122.013\n",
    "2300.0\n",
    "7440.0\n",
    "\n",
    "    \n",
    "19108\n",
    "4.0\n",
    "4.25\n",
    "3250.0\n",
    "11780.0\n",
    "2.0\n",
    "...\n",
    "1.357e+06\n",
    "47.632\n",
    "-122.203\n",
    "1800.0\n",
    "9000.0\n",
    "\n",
    "    \n",
    "20132\n",
    "3.0\n",
    "2.50\n",
    "1280.0\n",
    "1920.0\n",
    "3.0\n",
    "...\n",
    "8.503e+05\n",
    "47.662\n",
    "-122.324\n",
    "1450.0\n",
    "1900.0\n",
    "\n",
    "    \n",
    "16169\n",
    "4.0\n",
    "1.50\n",
    "1220.0\n",
    "9600.0\n",
    "1.0\n",
    "...\n",
    "4.464e+05\n",
    "47.646\n",
    "-121.909\n",
    "1180.0\n",
    "9000.0\n",
    "\n",
    "    \n",
    "16890\n",
    "3.0\n",
    "1.50\n",
    "2120.0\n",
    "6290.0\n",
    "1.0\n",
    "...\n",
    "3.604e+05\n",
    "47.566\n",
    "-122.318\n",
    "1620.0\n",
    "5400.0\n",
    "\n",
    "  \n",
    "\n",
    "\n",
    "\n",
    "\n",
    "```python\n",
    "y_train.groupby(X_train.zipcode).mean()[X_train.head().zipcode])\n",
    "```\n",
    "\n",
    "\n",
    "  \n",
    "\n",
    "    \n",
    "\n",
    "      \n",
    "zipcode\n",
    "98029.0\n",
    "98004.0\n",
    "98105.0\n",
    "98014.0\n",
    "98108.0\n",
    "\n",
    "  \n",
    "\n",
    "  \n",
    "\n",
    "    \n",
    "price\n",
    "616356.941\n",
    "1.357e+06\n",
    "850306.816\n",
    "446448.065\n",
    "360416.811\n",
    "\n",
    "  \n",
    "\n",
    "\n",
    "\n",
    "\n",
    "]"
   ]
  },
  {
   "cell_type": "markdown",
   "metadata": {},
   "source": [
    "```python\n",
    "X = data.frame.drop(['date', 'price', 'zipcode'], axis=1)\n",
    "scores = cross_val_score(Ridge(), X, target)\n",
    "np.mean(scores)\n",
    "```\n",
    "```\n",
    "0.69\n",
    "```\n",
    "--\n",
    "\n",
    "```python\n",
    "from sklearn.compose import make_column_transformer\n",
    "from sklearn.preprocessing import OneHotEncoder\n",
    "X = data.frame.drop(['date', 'price'], axis=1)\n",
    "\n",
    "ct = make_column_transformer((OneHotEncoder(), ['zipcode']), remainder='passthrough')\n",
    "pipe_ohe = make_pipeline(ct, Ridge())\n",
    "scores = cross_val_score(pipe_ohe, X, target)\n",
    "np.mean(scores)\n",
    "```\n",
    "```\n",
    "0.52\n",
    "```\n",
    "\n",
    "--\n",
    "\n",
    "```python\n",
    "from category_encoders import TargetEncoder\n",
    "X = data.frame.drop(['date', 'price'], axis=1)\n",
    "pipe_target = make_pipeline(TargetEncoder(cols='zipcode'), Ridge())\n",
    "scores = cross_val_score(pipe_target, X, target)\n",
    "np.mean(scores)\n",
    "```\n",
    "```\n",
    "0.78\n",
    "```"
   ]
  },
  {
   "cell_type": "code",
   "execution_count": null,
   "metadata": {},
   "outputs": [],
   "source": [
    "import pandas as pd\n",
    "import numpy as np\n",
    "import matplotlib.pyplot as plt\n",
    "\n",
    "df = pd.DataFrame({'boro': ['Manhattan', 'Queens', 'Manhattan', 'Brooklyn', 'Brooklyn', 'Bronx'],\n",
    "                   'salary': [103, 89, 142, 54, 63, 219],\n",
    "                   'vegan': ['No', 'No','No','Yes', 'Yes', 'No']})\n",
    "df"
   ]
  },
  {
   "cell_type": "code",
   "execution_count": null,
   "metadata": {},
   "outputs": [],
   "source": [
    "df['boro_ordinal'] = df.boro.astype(\"category\").cat.codes\n",
    "# reorder columns so it looks nice\n",
    "df = df[['boro', 'boro_ordinal', 'vegan']]\n",
    "df"
   ]
  },
  {
   "cell_type": "code",
   "execution_count": null,
   "metadata": {},
   "outputs": [],
   "source": [
    "df_int = df.copy()\n",
    "df_int['vegan'] = df.vegan.astype(\"category\").cat.codes\n",
    "plt.figure(figsize=(4, 2))\n",
    "df_int.plot(x='boro_ordinal', y='vegan', kind='scatter', ax=plt.gca())"
   ]
  },
  {
   "cell_type": "code",
   "execution_count": null,
   "metadata": {},
   "outputs": [],
   "source": [
    "from sklearn.linear_model import LogisticRegression\n",
    "lr = LogisticRegression().fit(df[['boro_ordinal']], df.vegan)\n",
    "lr.coef_"
   ]
  },
  {
   "cell_type": "code",
   "execution_count": null,
   "metadata": {},
   "outputs": [],
   "source": [
    "lr.intercept_"
   ]
  },
  {
   "cell_type": "code",
   "execution_count": null,
   "metadata": {},
   "outputs": [],
   "source": [
    "dec = lr.decision_function(np.linspace(0, 3).reshape(-1, 1))"
   ]
  },
  {
   "cell_type": "code",
   "execution_count": null,
   "metadata": {},
   "outputs": [],
   "source": [
    "lr.predict(np.linspace(0, 3).reshape(-1, 1))"
   ]
  },
  {
   "cell_type": "code",
   "execution_count": null,
   "metadata": {},
   "outputs": [],
   "source": [
    "plt.figure(figsize=(4, 2))\n",
    "df_int.plot(x='boro_ordinal', y='vegan', kind='scatter', ax=plt.gca())\n",
    "plt.vlines([1.5], 0, 1, linestyle='--', label='linear_classifier')\n",
    "plt.legend(loc='best')"
   ]
  },
  {
   "cell_type": "code",
   "execution_count": null,
   "metadata": {
    "collapsed": false,
    "jupyter": {
     "outputs_hidden": false
    }
   },
   "outputs": [],
   "source": [
    "df = pd.DataFrame({'boro': ['Manhattan', 'Queens', 'Manhattan', 'Brooklyn', 'Brooklyn', 'Bronx'],\n",
    "                   'salary': [103, 89, 142, 54, 63, 219],\n",
    "                   'vegan': ['No', 'No','No','Yes', 'Yes', 'No']})\n",
    "df"
   ]
  },
  {
   "cell_type": "code",
   "execution_count": null,
   "metadata": {},
   "outputs": [],
   "source": [
    "pd.get_dummies(df)"
   ]
  },
  {
   "cell_type": "code",
   "execution_count": null,
   "metadata": {
    "collapsed": false,
    "jupyter": {
     "outputs_hidden": false
    }
   },
   "outputs": [],
   "source": [
    "pd.get_dummies(df, columns=['boro'])"
   ]
  },
  {
   "cell_type": "code",
   "execution_count": null,
   "metadata": {},
   "outputs": [],
   "source": []
  },
  {
   "cell_type": "code",
   "execution_count": null,
   "metadata": {
    "collapsed": false,
    "jupyter": {
     "outputs_hidden": false
    }
   },
   "outputs": [],
   "source": [
    "df_ordinal = df.copy()\n",
    "df_ordinal['boro'] = df.boro.astype(\"category\").cat.codes\n",
    "df_ordinal"
   ]
  },
  {
   "cell_type": "code",
   "execution_count": null,
   "metadata": {
    "collapsed": false,
    "jupyter": {
     "outputs_hidden": false
    }
   },
   "outputs": [],
   "source": [
    "df2html(df_ordinal)"
   ]
  },
  {
   "cell_type": "code",
   "execution_count": null,
   "metadata": {},
   "outputs": [],
   "source": [
    "pd.get_dummies(df_ordinal, columns=['boro'])"
   ]
  },
  {
   "cell_type": "code",
   "execution_count": null,
   "metadata": {},
   "outputs": [],
   "source": [
    "df2html(pd.get_dummies(df_ordinal, columns=['boro']))"
   ]
  },
  {
   "cell_type": "code",
   "execution_count": null,
   "metadata": {},
   "outputs": [],
   "source": [
    "df = pd.DataFrame({'boro': ['Manhattan', 'Queens', 'Manhattan', 'Brooklyn', 'Brooklyn', 'Bronx'],\n",
    "                   'salary': [103, 89, 142, 54, 63, 219],\n",
    "                   'vegan': ['No', 'No','No','Yes', 'Yes', 'No']})\n",
    "df_dummies = pd.get_dummies(df, columns=['boro'])\n",
    "df_dummies"
   ]
  },
  {
   "cell_type": "code",
   "execution_count": null,
   "metadata": {},
   "outputs": [],
   "source": [
    "df = pd.DataFrame({'boro': ['Brooklyn', 'Manhattan', 'Brooklyn', 'Queens', 'Brooklyn', 'Staten Island'],\n",
    "                   'salary': [61, 146, 142, 212, 98, 47],\n",
    "                   'vegan': ['Yes', 'No','Yes','No', 'Yes', 'No']})\n",
    "df_dummies = pd.get_dummies(df, columns=['boro'])\n",
    "display(df_dummies)"
   ]
  },
  {
   "cell_type": "code",
   "execution_count": null,
   "metadata": {
    "collapsed": false,
    "jupyter": {
     "outputs_hidden": false
    }
   },
   "outputs": [],
   "source": [
    "df = pd.DataFrame({'boro': ['Manhattan', 'Queens', 'Manhattan', 'Brooklyn', 'Brooklyn', 'Bronx'],\n",
    "                   'salary': [103, 89, 142, 54, 63, 219],\n",
    "                   'vegan': ['No', 'No','No','Yes', 'Yes', 'No']})\n",
    "df['boro'] = pd.Categorical(\n",
    "    df.boro, categories=['Manhattan', 'Queens', 'Brooklyn', 'Bronx', 'Staten Island'])\n",
    "df_dummies = pd.get_dummies(df, columns=['boro'])\n",
    "display(df_dummies)"
   ]
  },
  {
   "cell_type": "code",
   "execution_count": null,
   "metadata": {},
   "outputs": [],
   "source": [
    "from sklearn.preprocessing import OneHotEncoder\n",
    "df = pd.DataFrame({'salary': [103, 89, 142, 54, 63, 219],\n",
    "                   'boro': ['Manhattan', 'Queens', 'Manhattan', 'Brooklyn', 'Brooklyn', 'Bronx']})\n",
    "ce = OneHotEncoder().fit(df)\n",
    "ce.transform(df).toarray()"
   ]
  },
  {
   "cell_type": "code",
   "execution_count": null,
   "metadata": {},
   "outputs": [],
   "source": [
    "from sklearn.datasets import fetch_openml\n",
    "\n",
    "data = fetch_openml(\"house_sales\", as_frame=True)\n",
    "\n",
    "data.frame.columns"
   ]
  },
  {
   "cell_type": "code",
   "execution_count": null,
   "metadata": {},
   "outputs": [],
   "source": [
    "data.frame.zipcode.value_counts()"
   ]
  },
  {
   "cell_type": "code",
   "execution_count": null,
   "metadata": {},
   "outputs": [],
   "source": [
    "import seaborn as sns\n",
    "plt.figure(figsize=(15, 5))\n",
    "ax = sns.boxplot(data.frame.zipcode, data.frame.price)\n",
    "#plt.tight_layout()\n",
    "ax.set_xticklabels(ax.get_xticklabels(), rotation=90);"
   ]
  },
  {
   "cell_type": "code",
   "execution_count": null,
   "metadata": {},
   "outputs": [],
   "source": [
    "from sklearn.model_selection import train_test_split\n",
    "target = data.frame.price\n",
    "\n",
    "data = fetch_openml(\"house_sales\", as_frame=True)\n",
    "X = data.frame.drop(['date', 'price'], axis=1)\n",
    "X_train, X_test, y_train, y_test = train_test_split(X, target)\n",
    "X_train.columns"
   ]
  },
  {
   "cell_type": "code",
   "execution_count": null,
   "metadata": {},
   "outputs": [],
   "source": []
  },
  {
   "cell_type": "code",
   "execution_count": null,
   "metadata": {},
   "outputs": [],
   "source": [
    "# drop some stuff so it fits on slide\n",
    "import pandas as pd\n",
    "pd.set_option('display.max_columns', 10)\n",
    "#disp = X_train.drop(['waterfront', 'view', 'condition', 'grade', 'sqft_basement', 'yr_renovated'], axis=1).head()\n",
    "disp = X_train.head()\n",
    "disp"
   ]
  },
  {
   "cell_type": "code",
   "execution_count": null,
   "metadata": {},
   "outputs": [],
   "source": [
    "from category_encoders import TargetEncoder\n",
    "te = TargetEncoder(cols='zipcode').fit(X_train, y_train)\n",
    "te.transform(X_train).head()"
   ]
  },
  {
   "cell_type": "code",
   "execution_count": null,
   "metadata": {},
   "outputs": [],
   "source": [
    "disp2 = te.transform(X_train).head()\n",
    "disp2"
   ]
  },
  {
   "cell_type": "code",
   "execution_count": null,
   "metadata": {},
   "outputs": [],
   "source": [
    "pd.DataFrame(target.groupby(X.zipcode).mean()[X_train.head().zipcode]).T"
   ]
  },
  {
   "cell_type": "code",
   "execution_count": null,
   "metadata": {},
   "outputs": [],
   "source": [
    "pd.DataFrame(y_train.groupby(X_train.zipcode).mean()[X_train.head().zipcode]).T"
   ]
  },
  {
   "cell_type": "code",
   "execution_count": null,
   "metadata": {},
   "outputs": [],
   "source": [
    "from category_encoders import LeaveOneOutEncoder, TargetEncoder"
   ]
  },
  {
   "cell_type": "code",
   "execution_count": null,
   "metadata": {},
   "outputs": [],
   "source": [
    "from sklearn.pipeline import make_pipeline\n",
    "from sklearn.linear_model import Ridge\n",
    "from sklearn.model_selection import cross_val_score\n",
    "X = data.frame.drop(['date', 'price'], axis=1)\n",
    "pipe_target = make_pipeline(TargetEncoder(cols='zipcode'), Ridge())\n",
    "scores = cross_val_score(pipe_target, X, target)\n",
    "np.mean(scores)"
   ]
  },
  {
   "cell_type": "code",
   "execution_count": null,
   "metadata": {},
   "outputs": [],
   "source": [
    "X = data.frame.drop(['date', 'price', 'zipcode'], axis=1)\n",
    "scores = cross_val_score(Ridge(), X, target)\n",
    "np.mean(scores)"
   ]
  },
  {
   "cell_type": "code",
   "execution_count": null,
   "metadata": {},
   "outputs": [],
   "source": [
    "from sklearn.compose import make_column_transformer\n",
    "from sklearn.preprocessing import OneHotEncoder\n",
    "X = data.frame.drop(['date', 'price'], axis=1)\n",
    "\n",
    "pipe_ohe = make_pipeline(make_column_transformer((OneHotEncoder(), ['zipcode']), remainder='passthrough'), Ridge())\n",
    "scores = cross_val_score(pipe_ohe, X, target)\n",
    "np.mean(scores)"
   ]
  },
  {
   "cell_type": "code",
   "execution_count": null,
   "metadata": {},
   "outputs": [],
   "source": [
    "X.columns"
   ]
  },
  {
   "cell_type": "code",
   "execution_count": null,
   "metadata": {},
   "outputs": [],
   "source": [
    "TargetEncoder(cols='zipcode').fit_transform(data.frame, target)"
   ]
  },
  {
   "cell_type": "code",
   "execution_count": null,
   "metadata": {},
   "outputs": [],
   "source": []
  }
 ],
 "metadata": {
  "kernelspec": {
   "display_name": "Python 3",
   "language": "python",
   "name": "python3"
  },
  "language_info": {
   "codemirror_mode": {
    "name": "ipython",
    "version": 3
   },
   "file_extension": ".py",
   "mimetype": "text/x-python",
   "name": "python",
   "nbconvert_exporter": "python",
   "pygments_lexer": "ipython3",
   "version": "3.7.6"
  }
 },
 "nbformat": 4,
 "nbformat_minor": 4
}
