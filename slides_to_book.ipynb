{
 "cells": [
  {
   "cell_type": "code",
   "execution_count": 27,
   "metadata": {},
   "outputs": [],
   "source": [
    "from glob import glob"
   ]
  },
  {
   "cell_type": "code",
   "execution_count": 28,
   "metadata": {},
   "outputs": [],
   "source": [
    "files = glob(\"../COMS4995-s20/slides/*/index.html\")"
   ]
  },
  {
   "cell_type": "code",
   "execution_count": 29,
   "metadata": {},
   "outputs": [
    {
     "data": {
      "text/plain": [
       "['../COMS4995-s20/slides\\\\aml-01-introduction\\\\index.html',\n",
       " '../COMS4995-s20/slides\\\\aml-02-matplotlib\\\\index.html',\n",
       " '../COMS4995-s20/slides\\\\aml-03-supervised-learning\\\\index.html',\n",
       " '../COMS4995-s20/slides\\\\aml-04-preprocessing\\\\index.html',\n",
       " '../COMS4995-s20/slides\\\\aml-05-linear-models-regression\\\\index.html',\n",
       " '../COMS4995-s20/slides\\\\aml-06-linear-models-classification\\\\index.html',\n",
       " '../COMS4995-s20/slides\\\\aml-07-trees-forests\\\\index.html',\n",
       " '../COMS4995-s20/slides\\\\aml-08-gradient-boosting\\\\index.html',\n",
       " '../COMS4995-s20/slides\\\\aml-09-model-evaluation\\\\index.html',\n",
       " '../COMS4995-s20/slides\\\\aml-10-calibration-imbalanced-data\\\\index.html',\n",
       " '../COMS4995-s20/slides\\\\aml-11-interpretation-feature-selection\\\\index.html',\n",
       " '../COMS4995-s20/slides\\\\aml-12-parameter-tuning-automl\\\\index.html',\n",
       " '../COMS4995-s20/slides\\\\aml-13-dimensionality-reduction\\\\index.html',\n",
       " '../COMS4995-s20/slides\\\\aml-14-clustering-mixture-models\\\\index.html',\n",
       " '../COMS4995-s20/slides\\\\aml-15-text-data\\\\index.html',\n",
       " '../COMS4995-s20/slides\\\\aml-16-topic-models\\\\index.html',\n",
       " '../COMS4995-s20/slides\\\\aml-17-word-embeddings\\\\index.html',\n",
       " '../COMS4995-s20/slides\\\\aml-18-neural-networks\\\\index.html',\n",
       " '../COMS4995-s20/slides\\\\aml-19-convolutional-nets\\\\index.html',\n",
       " '../COMS4995-s20/slides\\\\aml-20-advanced-nets\\\\index.html',\n",
       " '../COMS4995-s20/slides\\\\aml-21-time-series\\\\index.html',\n",
       " '../COMS4995-s20/slides\\\\aml-22-nmf-outliers\\\\index.html']"
      ]
     },
     "execution_count": 29,
     "metadata": {},
     "output_type": "execute_result"
    }
   ],
   "source": [
    "files"
   ]
  },
  {
   "cell_type": "code",
   "execution_count": 5,
   "metadata": {},
   "outputs": [],
   "source": [
    "from html.parser import HTMLParser\n"
   ]
  },
  {
   "cell_type": "code",
   "execution_count": 24,
   "metadata": {},
   "outputs": [],
   "source": [
    "class MyHTMLParser(HTMLParser):\n",
    "    in_textarea = False\n",
    "    def __init__(self):\n",
    "        super().__init__()\n",
    "        self.data = []\n",
    "    def handle_starttag(self, tag, attrs):\n",
    "        if tag == \"textarea\":\n",
    "            self.in_textarea = True\n",
    "    def handle_endtag(self, tag):\n",
    "        if tag == \"textarea\":\n",
    "            self.in_textarea = False\n",
    "    def handle_data(self, data):\n",
    "        if self.in_textarea:\n",
    "            self.data.append(data)"
   ]
  },
  {
   "cell_type": "code",
   "execution_count": 20,
   "metadata": {},
   "outputs": [],
   "source": [
    "parser = MyHTMLParser()"
   ]
  },
  {
   "cell_type": "code",
   "execution_count": 8,
   "metadata": {},
   "outputs": [],
   "source": [
    "with open(files[0], encoding='utf8') as f:\n",
    "    res = parser.feed(f.read())"
   ]
  },
  {
   "cell_type": "code",
   "execution_count": 11,
   "metadata": {},
   "outputs": [],
   "source": [
    "header = \"\"\"\n",
    "---\n",
    "jupytext:\n",
    "  text_representation:\n",
    "    format_name: myst\n",
    "kernelspec:\n",
    "  display_name: Python 3\n",
    "  name: python3\n",
    "---\n",
    "\"\"\"\n",
    "text = \"\\n\".join(parser.data)\n",
    "\n",
    "\n",
    "text = text.replace(\"???\", \"\\n\")\n",
    "text = text.replace(\"---\", \"+++\")"
   ]
  },
  {
   "cell_type": "code",
   "execution_count": 12,
   "metadata": {},
   "outputs": [],
   "source": [
    "filename = files[0][len(\"../COMS4995-s20/slides\\\\aml-01-\"):-len(\"\\\\index.html\")]\n",
    "with open(f\"slides_markdown/{filename}.md\", \"w\", encoding='utf8') as f:\n",
    "    f.write(text)"
   ]
  },
  {
   "cell_type": "code",
   "execution_count": 30,
   "metadata": {},
   "outputs": [
    {
     "name": "stdout",
     "output_type": "stream",
     "text": [
      "../COMS4995-s20/slides\\aml-22-nmf-outliers\\index.html\n"
     ]
    }
   ],
   "source": [
    "import jupytext\n",
    "\n",
    "for file in ['../COMS4995-s20/slides\\\\aml-22-nmf-outliers\\\\index.html']:\n",
    "    print(file)\n",
    "    parser = MyHTMLParser()\n",
    "    with open(file, encoding='utf8') as f:\n",
    "        parser.feed(f.read())\n",
    "    text = \"\\n\".join(parser.data)\n",
    "    text = text.replace(\"???\", \"\\n\")\n",
    "    text = text.replace(\"---\", \"+++\")\n",
    "    text = text.replace(\"# \", \"## \")\n",
    "    nb = jupytext.reads(text, fmt='myst')\n",
    "\n",
    "    filename = file[len(\"../COMS4995-s20/slides\\\\aml-\"):-len(\"\\\\index.html\")]\n",
    "    jupytext.write(nb, f\"slides_markdown/{filename}.ipynb\")"
   ]
  },
  {
   "cell_type": "code",
   "execution_count": null,
   "metadata": {},
   "outputs": [],
   "source": []
  }
 ],
 "metadata": {
  "kernelspec": {
   "display_name": "Python 3",
   "language": "python",
   "name": "python3"
  },
  "language_info": {
   "codemirror_mode": {
    "name": "ipython",
    "version": 3
   },
   "file_extension": ".py",
   "mimetype": "text/x-python",
   "name": "python",
   "nbconvert_exporter": "python",
   "pygments_lexer": "ipython3",
   "version": "3.7.6"
  }
 },
 "nbformat": 4,
 "nbformat_minor": 4
}
